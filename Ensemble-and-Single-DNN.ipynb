{
 "cells": [
  {
   "cell_type": "code",
   "execution_count": 72,
   "id": "206f464b",
   "metadata": {},
   "outputs": [],
   "source": [
    "import pandas as pd\n",
    "import numpy as np"
   ]
  },
  {
   "cell_type": "code",
   "execution_count": 5,
   "id": "3849eff9",
   "metadata": {},
   "outputs": [],
   "source": [
    "from sklearn.preprocessing import StandardScaler"
   ]
  },
  {
   "cell_type": "code",
   "execution_count": 6,
   "id": "de0fc478",
   "metadata": {},
   "outputs": [],
   "source": [
    "label = {'BENIGN':1, 'PortScan':2, 'Bot':3, 'DDoS':4} "
   ]
  },
  {
   "cell_type": "code",
   "execution_count": 7,
   "id": "5c341aa9",
   "metadata": {},
   "outputs": [],
   "source": [
    "loaded_train_CICIDS2017 = pd.read_csv('dataset/train_CICIDS2017.csv')\n",
    "loaded_test_CICIDS2017 = pd.read_csv('dataset/test_CICIDS2017.csv')"
   ]
  },
  {
   "cell_type": "code",
   "execution_count": 8,
   "id": "fa72ed36",
   "metadata": {},
   "outputs": [
    {
     "data": {
      "text/plain": [
       "BENIGN      1589847\n",
       "PortScan     111245\n",
       "DDoS          89668\n",
       "Bot            1338\n",
       "Name: Label, dtype: int64"
      ]
     },
     "execution_count": 8,
     "metadata": {},
     "output_type": "execute_result"
    }
   ],
   "source": [
    "loaded_train_CICIDS2017['Label'].value_counts()"
   ]
  },
  {
   "cell_type": "code",
   "execution_count": 9,
   "id": "5a51bc53",
   "metadata": {},
   "outputs": [],
   "source": [
    "loaded_train_CICIDS2017.Label = [label[item] for item in loaded_train_CICIDS2017.Label] "
   ]
  },
  {
   "cell_type": "code",
   "execution_count": 10,
   "id": "813fdccb",
   "metadata": {},
   "outputs": [
    {
     "data": {
      "text/plain": [
       "1    1589847\n",
       "2     111245\n",
       "4      89668\n",
       "3       1338\n",
       "Name: Label, dtype: int64"
      ]
     },
     "execution_count": 10,
     "metadata": {},
     "output_type": "execute_result"
    }
   ],
   "source": [
    "loaded_train_CICIDS2017['Label'].value_counts()"
   ]
  },
  {
   "cell_type": "code",
   "execution_count": 11,
   "id": "6a4ee243",
   "metadata": {},
   "outputs": [
    {
     "data": {
      "text/plain": [
       "BENIGN      681473\n",
       "PortScan     47595\n",
       "DDoS         38357\n",
       "Bot            618\n",
       "Name: Label, dtype: int64"
      ]
     },
     "execution_count": 11,
     "metadata": {},
     "output_type": "execute_result"
    }
   ],
   "source": [
    "loaded_test_CICIDS2017['Label'].value_counts()"
   ]
  },
  {
   "cell_type": "code",
   "execution_count": 12,
   "id": "667faeb9",
   "metadata": {},
   "outputs": [],
   "source": [
    "loaded_test_CICIDS2017.Label = [label[item] for item in loaded_test_CICIDS2017.Label] "
   ]
  },
  {
   "cell_type": "code",
   "execution_count": 13,
   "id": "da14ee55",
   "metadata": {},
   "outputs": [
    {
     "data": {
      "text/plain": [
       "1    681473\n",
       "2     47595\n",
       "4     38357\n",
       "3       618\n",
       "Name: Label, dtype: int64"
      ]
     },
     "execution_count": 13,
     "metadata": {},
     "output_type": "execute_result"
    }
   ],
   "source": [
    "loaded_test_CICIDS2017['Label'].value_counts()"
   ]
  },
  {
   "cell_type": "code",
   "execution_count": 14,
   "id": "aa7f868e",
   "metadata": {},
   "outputs": [],
   "source": [
    "load_X_CICIDS2017_train = loaded_train_CICIDS2017.drop([\"Label\"],axis=1)\n",
    "load_X_CICIDS2017_test = loaded_test_CICIDS2017.drop([\"Label\"],axis=1)\n",
    "Y_CICIDS2017_train = loaded_train_CICIDS2017[\"Label\"]\n",
    "Y_CICIDS2017_test = loaded_test_CICIDS2017[\"Label\"]"
   ]
  },
  {
   "cell_type": "code",
   "execution_count": 15,
   "id": "a81076b8",
   "metadata": {},
   "outputs": [],
   "source": [
    "scaler_CICIDS2017 = StandardScaler()\n",
    "X_CICIDS2017_train = scaler_CICIDS2017.fit_transform(load_X_CICIDS2017_train)\n",
    "X_CICIDS2017_test = scaler_CICIDS2017.fit_transform(load_X_CICIDS2017_test)"
   ]
  },
  {
   "cell_type": "code",
   "execution_count": 16,
   "id": "f066f3c0",
   "metadata": {},
   "outputs": [],
   "source": [
    "loaded_train_CICIDS2018 = pd.read_csv('dataset/train_CICIDS2018.csv')\n",
    "loaded_test_CICIDS2018 = pd.read_csv('dataset/test_CICIDS2018.csv')"
   ]
  },
  {
   "cell_type": "code",
   "execution_count": 17,
   "id": "d595ee3b",
   "metadata": {},
   "outputs": [
    {
     "data": {
      "text/plain": [
       "Benign                    9373028\n",
       "DDOS attack-HOIC           480155\n",
       "DDoS attacks-LOIC-HTTP     403452\n",
       "Bot                        200433\n",
       "PortScan                   112426\n",
       "DDOS attack-LOIC-UDP         1214\n",
       "Name: Label, dtype: int64"
      ]
     },
     "execution_count": 17,
     "metadata": {},
     "output_type": "execute_result"
    }
   ],
   "source": [
    "loaded_train_CICIDS2018['Label'].value_counts()"
   ]
  },
  {
   "cell_type": "code",
   "execution_count": 18,
   "id": "635451d7",
   "metadata": {},
   "outputs": [],
   "source": [
    "loaded_train_CICIDS2018['Label'] = loaded_train_CICIDS2018['Label'].str.replace('Benign', 'BENIGN')"
   ]
  },
  {
   "cell_type": "code",
   "execution_count": 19,
   "id": "14c1c409",
   "metadata": {},
   "outputs": [],
   "source": [
    "loaded_train_CICIDS2018['Label'] = loaded_train_CICIDS2018['Label'].str.replace('DDOS attack-HOIC', 'DDoS')"
   ]
  },
  {
   "cell_type": "code",
   "execution_count": 20,
   "id": "6f330fad",
   "metadata": {},
   "outputs": [],
   "source": [
    "loaded_train_CICIDS2018['Label'] = loaded_train_CICIDS2018['Label'].str.replace('DDoS attacks-LOIC-HTTP', 'DDoS')"
   ]
  },
  {
   "cell_type": "code",
   "execution_count": 21,
   "id": "701850ec",
   "metadata": {},
   "outputs": [],
   "source": [
    "loaded_train_CICIDS2018['Label'] = loaded_train_CICIDS2018['Label'].str.replace('DDOS attack-LOIC-UDP', 'DDoS')"
   ]
  },
  {
   "cell_type": "code",
   "execution_count": 22,
   "id": "2d418023",
   "metadata": {},
   "outputs": [
    {
     "data": {
      "text/plain": [
       "BENIGN      9373028\n",
       "DDoS         884821\n",
       "Bot          200433\n",
       "PortScan     112426\n",
       "Name: Label, dtype: int64"
      ]
     },
     "execution_count": 22,
     "metadata": {},
     "output_type": "execute_result"
    }
   ],
   "source": [
    "loaded_train_CICIDS2018['Label'].value_counts()"
   ]
  },
  {
   "cell_type": "code",
   "execution_count": 23,
   "id": "76d42121",
   "metadata": {},
   "outputs": [
    {
     "data": {
      "text/plain": [
       "Benign                    4017221\n",
       "DDOS attack-HOIC           205857\n",
       "DDoS attacks-LOIC-HTTP     172739\n",
       "Bot                         85758\n",
       "PortScan                    48213\n",
       "DDOS attack-LOIC-UDP          516\n",
       "Name: Label, dtype: int64"
      ]
     },
     "execution_count": 23,
     "metadata": {},
     "output_type": "execute_result"
    }
   ],
   "source": [
    "loaded_test_CICIDS2018['Label'].value_counts()"
   ]
  },
  {
   "cell_type": "code",
   "execution_count": 24,
   "id": "1328fa79",
   "metadata": {},
   "outputs": [],
   "source": [
    "loaded_test_CICIDS2018['Label'] = loaded_test_CICIDS2018['Label'].str.replace('Benign', 'BENIGN')"
   ]
  },
  {
   "cell_type": "code",
   "execution_count": 25,
   "id": "5e270d5e",
   "metadata": {},
   "outputs": [],
   "source": [
    "loaded_test_CICIDS2018['Label'] = loaded_test_CICIDS2018['Label'].str.replace('DDOS attack-HOIC', 'DDoS')"
   ]
  },
  {
   "cell_type": "code",
   "execution_count": 26,
   "id": "cb6cda28",
   "metadata": {},
   "outputs": [],
   "source": [
    "loaded_test_CICIDS2018['Label'] = loaded_test_CICIDS2018['Label'].str.replace('DDoS attacks-LOIC-HTTP', 'DDoS')"
   ]
  },
  {
   "cell_type": "code",
   "execution_count": 27,
   "id": "1738996c",
   "metadata": {},
   "outputs": [],
   "source": [
    "loaded_test_CICIDS2018['Label'] = loaded_test_CICIDS2018['Label'].str.replace('DDOS attack-LOIC-UDP', 'DDoS')"
   ]
  },
  {
   "cell_type": "code",
   "execution_count": 28,
   "id": "53212bf6",
   "metadata": {},
   "outputs": [
    {
     "data": {
      "text/plain": [
       "BENIGN      4017221\n",
       "DDoS         379112\n",
       "Bot           85758\n",
       "PortScan      48213\n",
       "Name: Label, dtype: int64"
      ]
     },
     "execution_count": 28,
     "metadata": {},
     "output_type": "execute_result"
    }
   ],
   "source": [
    "loaded_test_CICIDS2018['Label'].value_counts()"
   ]
  },
  {
   "cell_type": "code",
   "execution_count": 29,
   "id": "db594511",
   "metadata": {},
   "outputs": [],
   "source": [
    "loaded_train_CICIDS2018.Label = [label[item] for item in loaded_train_CICIDS2018.Label] "
   ]
  },
  {
   "cell_type": "code",
   "execution_count": 30,
   "id": "205148e7",
   "metadata": {},
   "outputs": [
    {
     "data": {
      "text/plain": [
       "1    9373028\n",
       "4     884821\n",
       "3     200433\n",
       "2     112426\n",
       "Name: Label, dtype: int64"
      ]
     },
     "execution_count": 30,
     "metadata": {},
     "output_type": "execute_result"
    }
   ],
   "source": [
    "loaded_train_CICIDS2018['Label'].value_counts()"
   ]
  },
  {
   "cell_type": "code",
   "execution_count": 31,
   "id": "0ca4daf8",
   "metadata": {},
   "outputs": [
    {
     "data": {
      "text/plain": [
       "BENIGN      4017221\n",
       "DDoS         379112\n",
       "Bot           85758\n",
       "PortScan      48213\n",
       "Name: Label, dtype: int64"
      ]
     },
     "execution_count": 31,
     "metadata": {},
     "output_type": "execute_result"
    }
   ],
   "source": [
    "loaded_test_CICIDS2018['Label'].value_counts()"
   ]
  },
  {
   "cell_type": "code",
   "execution_count": 32,
   "id": "e89827a5",
   "metadata": {},
   "outputs": [],
   "source": [
    "loaded_test_CICIDS2018.Label = [label[item] for item in loaded_test_CICIDS2018.Label] "
   ]
  },
  {
   "cell_type": "code",
   "execution_count": 33,
   "id": "16ab6dac",
   "metadata": {},
   "outputs": [
    {
     "data": {
      "text/plain": [
       "1    4017221\n",
       "4     379112\n",
       "3      85758\n",
       "2      48213\n",
       "Name: Label, dtype: int64"
      ]
     },
     "execution_count": 33,
     "metadata": {},
     "output_type": "execute_result"
    }
   ],
   "source": [
    "loaded_test_CICIDS2018['Label'].value_counts()"
   ]
  },
  {
   "cell_type": "code",
   "execution_count": 34,
   "id": "6f33e27d",
   "metadata": {},
   "outputs": [],
   "source": [
    "load_X_CICIDS2018_train = loaded_train_CICIDS2018.drop([\"Label\"],axis=1)\n",
    "load_X_CICIDS2018_test = loaded_test_CICIDS2018.drop([\"Label\"],axis=1)\n",
    "Y_CICIDS2018_train = loaded_train_CICIDS2018[\"Label\"]\n",
    "Y_CICIDS2018_test = loaded_test_CICIDS2018[\"Label\"]"
   ]
  },
  {
   "cell_type": "code",
   "execution_count": 35,
   "id": "9c45bbd4",
   "metadata": {},
   "outputs": [],
   "source": [
    "scaler_CICIDS2018 = StandardScaler()\n",
    "X_CICIDS2018_train = scaler_CICIDS2018.fit_transform(load_X_CICIDS2018_train)\n",
    "X_CICIDS2018_test = scaler_CICIDS2018.fit_transform(load_X_CICIDS2018_test)"
   ]
  },
  {
   "cell_type": "code",
   "execution_count": 36,
   "id": "5f5f793b",
   "metadata": {},
   "outputs": [],
   "source": [
    "loaded_train_CICToNIoT = pd.read_csv('dataset/train_CICToNIoT.csv')\n",
    "loaded_test_CICToNIoT = pd.read_csv('dataset/test_CICToNIoT.csv')"
   ]
  },
  {
   "cell_type": "code",
   "execution_count": 37,
   "id": "545ca528",
   "metadata": {},
   "outputs": [
    {
     "data": {
      "text/plain": [
       "BENIGN      1759990\n",
       "PortScan      25180\n",
       "Bot           18998\n",
       "DDoS            159\n",
       "Name: Label, dtype: int64"
      ]
     },
     "execution_count": 37,
     "metadata": {},
     "output_type": "execute_result"
    }
   ],
   "source": [
    "loaded_train_CICToNIoT['Label'].value_counts()"
   ]
  },
  {
   "cell_type": "code",
   "execution_count": 38,
   "id": "e92c403d",
   "metadata": {},
   "outputs": [],
   "source": [
    "loaded_train_CICToNIoT.Label = [label[item] for item in loaded_train_CICToNIoT.Label] "
   ]
  },
  {
   "cell_type": "code",
   "execution_count": 39,
   "id": "0536627b",
   "metadata": {},
   "outputs": [
    {
     "data": {
      "text/plain": [
       "1    1759990\n",
       "2      25180\n",
       "3      18998\n",
       "4        159\n",
       "Name: Label, dtype: int64"
      ]
     },
     "execution_count": 39,
     "metadata": {},
     "output_type": "execute_result"
    }
   ],
   "source": [
    "loaded_train_CICToNIoT['Label'].value_counts()"
   ]
  },
  {
   "cell_type": "code",
   "execution_count": 40,
   "id": "3ae5f854",
   "metadata": {},
   "outputs": [
    {
     "data": {
      "text/plain": [
       "BENIGN      754069\n",
       "PortScan     11025\n",
       "Bot           8147\n",
       "DDoS            43\n",
       "Name: Label, dtype: int64"
      ]
     },
     "execution_count": 40,
     "metadata": {},
     "output_type": "execute_result"
    }
   ],
   "source": [
    "loaded_test_CICToNIoT['Label'].value_counts()"
   ]
  },
  {
   "cell_type": "code",
   "execution_count": 41,
   "id": "681c281c",
   "metadata": {},
   "outputs": [],
   "source": [
    "loaded_test_CICToNIoT.Label = [label[item] for item in loaded_test_CICToNIoT.Label] "
   ]
  },
  {
   "cell_type": "code",
   "execution_count": 42,
   "id": "b098b4e3",
   "metadata": {},
   "outputs": [
    {
     "data": {
      "text/plain": [
       "1    754069\n",
       "2     11025\n",
       "3      8147\n",
       "4        43\n",
       "Name: Label, dtype: int64"
      ]
     },
     "execution_count": 42,
     "metadata": {},
     "output_type": "execute_result"
    }
   ],
   "source": [
    "loaded_test_CICToNIoT['Label'].value_counts()"
   ]
  },
  {
   "cell_type": "code",
   "execution_count": 43,
   "id": "7db7c567",
   "metadata": {},
   "outputs": [],
   "source": [
    "load_X_CICToNIoT_train = loaded_train_CICToNIoT.drop([\"Label\"],axis=1)\n",
    "load_X_CICToNIoT_test = loaded_test_CICToNIoT.drop([\"Label\"],axis=1)\n",
    "Y_CICToNIoT_train = loaded_train_CICToNIoT[\"Label\"]\n",
    "Y_CICToNIoT_test = loaded_test_CICToNIoT[\"Label\"]"
   ]
  },
  {
   "cell_type": "code",
   "execution_count": 44,
   "id": "4af5580a",
   "metadata": {},
   "outputs": [],
   "source": [
    "scaler_CICToNIoT = StandardScaler()\n",
    "X_CICToNIoT_train = scaler_CICToNIoT.fit_transform(load_X_CICToNIoT_train)\n",
    "X_CICToNIoT_test = scaler_CICToNIoT.fit_transform(load_X_CICToNIoT_test)"
   ]
  },
  {
   "cell_type": "code",
   "execution_count": 45,
   "id": "4ba5fea3",
   "metadata": {},
   "outputs": [],
   "source": [
    "loaded_train_CICBotIoT = pd.read_csv('dataset/train_CICBotIoT.csv')\n",
    "loaded_test_CICBotIoT = pd.read_csv('dataset/test_CICBotIoT.csv')"
   ]
  },
  {
   "cell_type": "code",
   "execution_count": 46,
   "id": "af4287a0",
   "metadata": {},
   "outputs": [
    {
     "data": {
      "text/plain": [
       "DDoS        3440817\n",
       "PortScan    2458168\n",
       "BENIGN        62593\n",
       "Bot            1164\n",
       "Name: Label, dtype: int64"
      ]
     },
     "execution_count": 46,
     "metadata": {},
     "output_type": "execute_result"
    }
   ],
   "source": [
    "loaded_train_CICBotIoT['Label'].value_counts()"
   ]
  },
  {
   "cell_type": "code",
   "execution_count": 47,
   "id": "a84f1d26",
   "metadata": {},
   "outputs": [],
   "source": [
    "loaded_train_CICBotIoT.Label = [label[item] for item in loaded_train_CICBotIoT.Label] "
   ]
  },
  {
   "cell_type": "code",
   "execution_count": 48,
   "id": "e977ce87",
   "metadata": {},
   "outputs": [
    {
     "data": {
      "text/plain": [
       "4    3440817\n",
       "2    2458168\n",
       "1      62593\n",
       "3       1164\n",
       "Name: Label, dtype: int64"
      ]
     },
     "execution_count": 48,
     "metadata": {},
     "output_type": "execute_result"
    }
   ],
   "source": [
    "loaded_train_CICBotIoT['Label'].value_counts()"
   ]
  },
  {
   "cell_type": "code",
   "execution_count": 49,
   "id": "a5d28bd8",
   "metadata": {},
   "outputs": [
    {
     "data": {
      "text/plain": [
       "DDoS        1473043\n",
       "PortScan    1055240\n",
       "BENIGN        26641\n",
       "Bot             537\n",
       "Name: Label, dtype: int64"
      ]
     },
     "execution_count": 49,
     "metadata": {},
     "output_type": "execute_result"
    }
   ],
   "source": [
    "loaded_test_CICBotIoT['Label'].value_counts()"
   ]
  },
  {
   "cell_type": "code",
   "execution_count": 50,
   "id": "549414e0",
   "metadata": {},
   "outputs": [],
   "source": [
    "loaded_test_CICBotIoT.Label = [label[item] for item in loaded_test_CICBotIoT.Label] "
   ]
  },
  {
   "cell_type": "code",
   "execution_count": 51,
   "id": "f8b9eb68",
   "metadata": {},
   "outputs": [
    {
     "data": {
      "text/plain": [
       "4    1473043\n",
       "2    1055240\n",
       "1      26641\n",
       "3        537\n",
       "Name: Label, dtype: int64"
      ]
     },
     "execution_count": 51,
     "metadata": {},
     "output_type": "execute_result"
    }
   ],
   "source": [
    "loaded_test_CICBotIoT['Label'].value_counts()"
   ]
  },
  {
   "cell_type": "code",
   "execution_count": 52,
   "id": "8097bf05",
   "metadata": {},
   "outputs": [],
   "source": [
    "load_X_CICBotIoT_train = loaded_train_CICBotIoT.drop([\"Label\"],axis=1)\n",
    "load_X_CICBotIoT_test = loaded_test_CICBotIoT.drop([\"Label\"],axis=1)\n",
    "Y_CICBotIoT_train = loaded_train_CICBotIoT[\"Label\"]\n",
    "Y_CICBotIoT_test = loaded_test_CICBotIoT[\"Label\"]"
   ]
  },
  {
   "cell_type": "code",
   "execution_count": 53,
   "id": "1aa38f3c",
   "metadata": {},
   "outputs": [],
   "source": [
    "scaler_CICBotIoT = StandardScaler()\n",
    "X_CICBotIoT_train = scaler_CICBotIoT.fit_transform(load_X_CICBotIoT_train)\n",
    "X_CICBotIoT_test = scaler_CICBotIoT.fit_transform(load_X_CICBotIoT_test)"
   ]
  },
  {
   "cell_type": "code",
   "execution_count": 54,
   "id": "5f1675a5",
   "metadata": {},
   "outputs": [
    {
     "name": "stderr",
     "output_type": "stream",
     "text": [
      "2023-08-16 21:23:58.277422: I tensorflow/tsl/cuda/cudart_stub.cc:28] Could not find cuda drivers on your machine, GPU will not be used.\n",
      "2023-08-16 21:23:59.325765: I tensorflow/tsl/cuda/cudart_stub.cc:28] Could not find cuda drivers on your machine, GPU will not be used.\n",
      "2023-08-16 21:23:59.328835: I tensorflow/core/platform/cpu_feature_guard.cc:182] This TensorFlow binary is optimized to use available CPU instructions in performance-critical operations.\n",
      "To enable the following instructions: AVX2 FMA, in other operations, rebuild TensorFlow with the appropriate compiler flags.\n",
      "2023-08-16 21:24:03.088569: W tensorflow/compiler/tf2tensorrt/utils/py_utils.cc:38] TF-TRT Warning: Could not find TensorRT\n"
     ]
    }
   ],
   "source": [
    "from keras.models import Sequential\n",
    "from keras.layers import Dense\n",
    "from sklearn.preprocessing import LabelEncoder\n",
    "from keras.utils import to_categorical"
   ]
  },
  {
   "cell_type": "code",
   "execution_count": 55,
   "id": "f30bacb0",
   "metadata": {},
   "outputs": [],
   "source": [
    "from keras.metrics import Recall, Precision"
   ]
  },
  {
   "cell_type": "code",
   "execution_count": 56,
   "id": "0d1b2e39",
   "metadata": {},
   "outputs": [],
   "source": [
    "import keras.backend as K\n",
    "import tensorflow as tf\n",
    "\n",
    "def f1_score(y_true, y_pred):\n",
    "    true_positives = K.sum(K.round(K.clip(y_true * y_pred, 0, 1)))\n",
    "    possible_positives = K.sum(K.round(K.clip(y_true, 0, 1)))\n",
    "    predicted_positives = K.sum(K.round(K.clip(y_pred, 0, 1)))\n",
    "    precision = true_positives / (predicted_positives + K.epsilon())\n",
    "    recall = true_positives / (possible_positives + K.epsilon())\n",
    "    f1_val = 2*(precision*recall)/(precision+recall+K.epsilon())\n",
    "    return f1_val"
   ]
  },
  {
   "cell_type": "code",
   "execution_count": 53,
   "id": "67e587c1",
   "metadata": {},
   "outputs": [],
   "source": [
    "def fit_model_CICIDS2017(trainX1, trainy1):\n",
    "    model1 = Sequential()\n",
    "    model1.add(Dense(13, input_dim=77, activation='relu'))\n",
    "    model1.add(Dense(11, activation='relu'))\n",
    "    model1.add(Dense(9, activation='relu'))\n",
    "    model1.add(Dense(7, activation='relu'))\n",
    "    model1.add(Dense(4, activation='softmax')) \n",
    "    model1.compile(loss='categorical_crossentropy', optimizer='adam', metrics=['accuracy', Recall(), Precision(), f1_score])\n",
    "    \n",
    "    model1.fit(trainX1, trainy1, epochs=10, batch_size=1000, verbose=1)\n",
    "    return model1"
   ]
  },
  {
   "cell_type": "code",
   "execution_count": 54,
   "id": "5cab52c4",
   "metadata": {},
   "outputs": [],
   "source": [
    "def fit_model_CICIDS2018(trainX2, trainy2):\n",
    "    model2 = Sequential()\n",
    "    model2.add(Dense(13, input_dim=77, activation='relu'))\n",
    "    model2.add(Dense(11, activation='relu'))\n",
    "    model2.add(Dense(9, activation='relu'))\n",
    "    model2.add(Dense(7, activation='relu'))\n",
    "    model2.add(Dense(4, activation='softmax')) \n",
    "    model2.compile(loss='categorical_crossentropy', optimizer='adam', metrics=['accuracy', Recall(), Precision(), f1_score])\n",
    "    \n",
    "    model2.fit(trainX2, trainy2, epochs=10, batch_size=1000, verbose=1)\n",
    "    return model2"
   ]
  },
  {
   "cell_type": "code",
   "execution_count": 55,
   "id": "7ace2e79",
   "metadata": {},
   "outputs": [],
   "source": [
    "def fit_model_CICToNIoT(trainX3, trainy3):\n",
    "    model3 = Sequential()\n",
    "    model3.add(Dense(13, input_dim=77, activation='relu'))\n",
    "    model3.add(Dense(11, activation='relu'))\n",
    "    model3.add(Dense(9, activation='relu'))\n",
    "    model3.add(Dense(7, activation='relu'))\n",
    "    model3.add(Dense(4, activation='softmax')) \n",
    "    model3.compile(loss='categorical_crossentropy', optimizer='adam', metrics=['accuracy', Recall(), Precision(), f1_score])\n",
    "    \n",
    "    model3.fit(trainX3, trainy3, epochs=10, batch_size=1000, verbose=1)\n",
    "    return model3"
   ]
  },
  {
   "cell_type": "code",
   "execution_count": 56,
   "id": "6cb0a06d",
   "metadata": {},
   "outputs": [],
   "source": [
    "def fit_model_CICBotIoT(trainX4, trainy4):\n",
    "    model4 = Sequential()\n",
    "    model4.add(Dense(13, input_dim=77, activation='relu'))\n",
    "    model4.add(Dense(11, activation='relu'))\n",
    "    model4.add(Dense(9, activation='relu'))\n",
    "    model4.add(Dense(7, activation='relu'))\n",
    "    model4.add(Dense(4, activation='softmax')) \n",
    "    model4.compile(loss='categorical_crossentropy', optimizer='adam', metrics=['accuracy', Recall(), Precision(), f1_score])\n",
    "    \n",
    "    model4.fit(trainX4, trainy4, epochs=10, batch_size=1000, verbose=1)\n",
    "    return model4"
   ]
  },
  {
   "cell_type": "code",
   "execution_count": 57,
   "id": "9508f03b",
   "metadata": {},
   "outputs": [
    {
     "name": "stdout",
     "output_type": "stream",
     "text": [
      "[[1. 0. 0. 0.]\n",
      " [1. 0. 0. 0.]\n",
      " [1. 0. 0. 0.]\n",
      " ...\n",
      " [1. 0. 0. 0.]\n",
      " [1. 0. 0. 0.]\n",
      " [1. 0. 0. 0.]]\n"
     ]
    }
   ],
   "source": [
    "encoder_Y_train_CICIDS2017 = LabelEncoder()\n",
    "encoder_Y_train_CICIDS2017.fit(Y_CICIDS2017_train)\n",
    "transform_Y_train_CICIDS2017 = encoder_Y_train_CICIDS2017.transform(Y_CICIDS2017_train)\n",
    "encoded_Y_train_CICIDS2017 = to_categorical(transform_Y_train_CICIDS2017, num_classes=4)\n",
    "print(encoded_Y_train_CICIDS2017)"
   ]
  },
  {
   "cell_type": "code",
   "execution_count": 58,
   "id": "9d0dbe64",
   "metadata": {},
   "outputs": [
    {
     "name": "stdout",
     "output_type": "stream",
     "text": [
      "[[1. 0. 0. 0.]\n",
      " [1. 0. 0. 0.]\n",
      " [0. 0. 0. 1.]\n",
      " ...\n",
      " [1. 0. 0. 0.]\n",
      " [1. 0. 0. 0.]\n",
      " [1. 0. 0. 0.]]\n"
     ]
    }
   ],
   "source": [
    "encoder_Y_test_CICIDS2017 = LabelEncoder()\n",
    "encoder_Y_test_CICIDS2017.fit(Y_CICIDS2017_test)\n",
    "transform_Y_test_CICIDS2017 = encoder_Y_test_CICIDS2017.transform(Y_CICIDS2017_test)\n",
    "encoded_Y_test_CICIDS2017 = to_categorical(transform_Y_test_CICIDS2017, num_classes=4)\n",
    "print(encoded_Y_test_CICIDS2017)"
   ]
  },
  {
   "cell_type": "code",
   "execution_count": 60,
   "id": "594aa5c3",
   "metadata": {},
   "outputs": [
    {
     "name": "stdout",
     "output_type": "stream",
     "text": [
      "Epoch 1/10\n",
      "1793/1793 [==============================] - 9s 4ms/step - loss: 0.1027 - accuracy: 0.9629 - recall: 0.9423 - precision: 0.9734 - f1_score: 0.9449\n",
      "Epoch 2/10\n",
      "1793/1793 [==============================] - 7s 4ms/step - loss: 0.0346 - accuracy: 0.9873 - recall: 0.9871 - precision: 0.9874 - f1_score: 0.9873\n",
      "Epoch 3/10\n",
      "1793/1793 [==============================] - 7s 4ms/step - loss: 0.0319 - accuracy: 0.9884 - recall: 0.9883 - precision: 0.9884 - f1_score: 0.9884\n",
      "Epoch 4/10\n",
      "1793/1793 [==============================] - 7s 4ms/step - loss: 0.0301 - accuracy: 0.9887 - recall: 0.9886 - precision: 0.9887 - f1_score: 0.9887\n",
      "Epoch 5/10\n",
      "1793/1793 [==============================] - 7s 4ms/step - loss: 0.0286 - accuracy: 0.9891 - recall: 0.9890 - precision: 0.9891 - f1_score: 0.9891\n",
      "Epoch 6/10\n",
      "1793/1793 [==============================] - 7s 4ms/step - loss: 0.0269 - accuracy: 0.9895 - recall: 0.9895 - precision: 0.9895 - f1_score: 0.9895\n",
      "Epoch 7/10\n",
      "1793/1793 [==============================] - 7s 4ms/step - loss: 0.0249 - accuracy: 0.9901 - recall: 0.9901 - precision: 0.9902 - f1_score: 0.9901\n",
      "Epoch 8/10\n",
      "1793/1793 [==============================] - 7s 4ms/step - loss: 0.0213 - accuracy: 0.9920 - recall: 0.9920 - precision: 0.9921 - f1_score: 0.9920\n",
      "Epoch 9/10\n",
      "1793/1793 [==============================] - 7s 4ms/step - loss: 0.0157 - accuracy: 0.9960 - recall: 0.9960 - precision: 0.9962 - f1_score: 0.9961\n",
      "Epoch 10/10\n",
      "1793/1793 [==============================] - 7s 4ms/step - loss: 0.0107 - accuracy: 0.9981 - recall: 0.9979 - precision: 0.9982 - f1_score: 0.9980\n",
      ">Saved models/model_CICIDS2017.h5\n"
     ]
    },
    {
     "name": "stderr",
     "output_type": "stream",
     "text": [
      "/usr/local/lib/python3.10/dist-packages/keras/src/engine/training.py:3000: UserWarning: You are saving your model as an HDF5 file via `model.save()`. This file format is considered legacy. We recommend using instead the native Keras format, e.g. `model.save('my_model.keras')`.\n",
      "  saving_api.save_model(\n"
     ]
    }
   ],
   "source": [
    "model_CICIDS2017 = fit_model_CICIDS2017(X_CICIDS2017_train, encoded_Y_train_CICIDS2017)\n",
    "\n",
    "filename_CICIDS2017 = 'models/model_CICIDS2017.h5'\n",
    "model_CICIDS2017.save(filename_CICIDS2017)\n",
    "print('>Saved %s' % filename_CICIDS2017)"
   ]
  },
  {
   "cell_type": "code",
   "execution_count": 59,
   "id": "cbf108e2",
   "metadata": {},
   "outputs": [
    {
     "name": "stdout",
     "output_type": "stream",
     "text": [
      "[[1. 0. 0. 0.]\n",
      " [0. 0. 0. 1.]\n",
      " [1. 0. 0. 0.]\n",
      " ...\n",
      " [1. 0. 0. 0.]\n",
      " [0. 0. 0. 1.]\n",
      " [1. 0. 0. 0.]]\n"
     ]
    }
   ],
   "source": [
    "encoder_Y_train_CICIDS2018 = LabelEncoder()\n",
    "encoder_Y_train_CICIDS2018.fit(Y_CICIDS2018_train)\n",
    "transform_Y_train_CICIDS2018 = encoder_Y_train_CICIDS2018.transform(Y_CICIDS2018_train)\n",
    "encoded_Y_train_CICIDS2018 = to_categorical(transform_Y_train_CICIDS2018, num_classes=4)\n",
    "print(encoded_Y_train_CICIDS2018)"
   ]
  },
  {
   "cell_type": "code",
   "execution_count": 60,
   "id": "7bbd8620",
   "metadata": {},
   "outputs": [
    {
     "name": "stdout",
     "output_type": "stream",
     "text": [
      "[[1. 0. 0. 0.]\n",
      " [1. 0. 0. 0.]\n",
      " [1. 0. 0. 0.]\n",
      " ...\n",
      " [1. 0. 0. 0.]\n",
      " [1. 0. 0. 0.]\n",
      " [1. 0. 0. 0.]]\n"
     ]
    }
   ],
   "source": [
    "encoder_Y_test_CICIDS2018 = LabelEncoder()\n",
    "encoder_Y_test_CICIDS2018.fit(Y_CICIDS2018_test)\n",
    "transform_Y_test_CICIDS2018 = encoder_Y_test_CICIDS2018.transform(Y_CICIDS2018_test)\n",
    "encoded_Y_test_CICIDS2018 = to_categorical(transform_Y_test_CICIDS2018, num_classes=4)\n",
    "print(encoded_Y_test_CICIDS2018)"
   ]
  },
  {
   "cell_type": "code",
   "execution_count": 67,
   "id": "aefca2c4",
   "metadata": {},
   "outputs": [
    {
     "name": "stdout",
     "output_type": "stream",
     "text": [
      "Epoch 1/10\n",
      "10571/10571 [==============================] - 44s 4ms/step - loss: 0.0744 - accuracy: 0.9830 - recall_1: 0.9780 - precision_1: 0.9858 - f1_score: 0.9801\n",
      "Epoch 2/10\n",
      "10571/10571 [==============================] - 42s 4ms/step - loss: 0.0523 - accuracy: 0.9885 - recall_1: 0.9885 - precision_1: 0.9886 - f1_score: 0.9886\n",
      "Epoch 3/10\n",
      "10571/10571 [==============================] - 42s 4ms/step - loss: 0.0515 - accuracy: 0.9886 - recall_1: 0.9886 - precision_1: 0.9886 - f1_score: 0.9886\n",
      "Epoch 4/10\n",
      "10571/10571 [==============================] - 42s 4ms/step - loss: 0.0511 - accuracy: 0.9886 - recall_1: 0.9886 - precision_1: 0.9886 - f1_score: 0.9887\n",
      "Epoch 5/10\n",
      "10571/10571 [==============================] - 42s 4ms/step - loss: 0.0509 - accuracy: 0.9886 - recall_1: 0.9886 - precision_1: 0.9887 - f1_score: 0.9887\n",
      "Epoch 6/10\n",
      "10571/10571 [==============================] - 42s 4ms/step - loss: 0.0507 - accuracy: 0.9887 - recall_1: 0.9887 - precision_1: 0.9887 - f1_score: 0.9887\n",
      "Epoch 7/10\n",
      "10571/10571 [==============================] - 42s 4ms/step - loss: 0.0505 - accuracy: 0.9887 - recall_1: 0.9887 - precision_1: 0.9887 - f1_score: 0.9887\n",
      "Epoch 8/10\n",
      "10571/10571 [==============================] - 42s 4ms/step - loss: 0.0504 - accuracy: 0.9887 - recall_1: 0.9887 - precision_1: 0.9887 - f1_score: 0.9887\n",
      "Epoch 9/10\n",
      "10571/10571 [==============================] - 42s 4ms/step - loss: 0.0505 - accuracy: 0.9887 - recall_1: 0.9887 - precision_1: 0.9887 - f1_score: 0.9888\n",
      "Epoch 10/10\n",
      "10571/10571 [==============================] - 43s 4ms/step - loss: 0.0503 - accuracy: 0.9887 - recall_1: 0.9887 - precision_1: 0.9887 - f1_score: 0.9888\n",
      ">Saved models/model_CICIDS2018.h5\n"
     ]
    },
    {
     "name": "stderr",
     "output_type": "stream",
     "text": [
      "/usr/local/lib/python3.10/dist-packages/keras/src/engine/training.py:3000: UserWarning: You are saving your model as an HDF5 file via `model.save()`. This file format is considered legacy. We recommend using instead the native Keras format, e.g. `model.save('my_model.keras')`.\n",
      "  saving_api.save_model(\n"
     ]
    }
   ],
   "source": [
    "model_CICIDS2018 = fit_model_CICIDS2018(X_CICIDS2018_train, encoded_Y_train_CICIDS2018)\n",
    "\n",
    "filename_CICIDS2018 = 'models/model_CICIDS2018.h5'\n",
    "model_CICIDS2018.save(filename_CICIDS2018)\n",
    "print('>Saved %s' % filename_CICIDS2018)"
   ]
  },
  {
   "cell_type": "code",
   "execution_count": 61,
   "id": "806d68b5",
   "metadata": {},
   "outputs": [
    {
     "name": "stdout",
     "output_type": "stream",
     "text": [
      "[[1. 0. 0. 0.]\n",
      " [1. 0. 0. 0.]\n",
      " [1. 0. 0. 0.]\n",
      " ...\n",
      " [1. 0. 0. 0.]\n",
      " [1. 0. 0. 0.]\n",
      " [1. 0. 0. 0.]]\n"
     ]
    }
   ],
   "source": [
    "encoder_Y_train_CICToNIoT = LabelEncoder()\n",
    "encoder_Y_train_CICToNIoT.fit(Y_CICToNIoT_train)\n",
    "transform_Y_train_CICToNIoT = encoder_Y_train_CICToNIoT.transform(Y_CICToNIoT_train)\n",
    "encoded_Y_train_CICToNIoT = to_categorical(transform_Y_train_CICToNIoT, num_classes=4)\n",
    "print(encoded_Y_train_CICToNIoT)"
   ]
  },
  {
   "cell_type": "code",
   "execution_count": 62,
   "id": "f650b1b6",
   "metadata": {},
   "outputs": [
    {
     "name": "stdout",
     "output_type": "stream",
     "text": [
      "[[1. 0. 0. 0.]\n",
      " [1. 0. 0. 0.]\n",
      " [1. 0. 0. 0.]\n",
      " ...\n",
      " [1. 0. 0. 0.]\n",
      " [1. 0. 0. 0.]\n",
      " [1. 0. 0. 0.]]\n"
     ]
    }
   ],
   "source": [
    "encoder_Y_test_CICToNIoT = LabelEncoder()\n",
    "encoder_Y_test_CICToNIoT.fit(Y_CICToNIoT_test)\n",
    "transform_Y_test_CICToNIoT = encoder_Y_test_CICToNIoT.transform(Y_CICToNIoT_test)\n",
    "encoded_Y_test_CICToNIoT = to_categorical(transform_Y_test_CICToNIoT, num_classes=4)\n",
    "print(encoded_Y_test_CICToNIoT)"
   ]
  },
  {
   "cell_type": "code",
   "execution_count": 70,
   "id": "e90b2b15",
   "metadata": {},
   "outputs": [
    {
     "name": "stdout",
     "output_type": "stream",
     "text": [
      "Epoch 1/10\n",
      "1805/1805 [==============================] - 8s 4ms/step - loss: 0.0685 - accuracy: 0.9805 - recall_2: 0.9618 - precision_2: 0.9890 - f1_score: 0.9676\n",
      "Epoch 2/10\n",
      "1805/1805 [==============================] - 7s 4ms/step - loss: 0.0169 - accuracy: 0.9918 - recall_2: 0.9917 - precision_2: 0.9918 - f1_score: 0.9918\n",
      "Epoch 3/10\n",
      "1805/1805 [==============================] - 7s 4ms/step - loss: 0.0151 - accuracy: 0.9925 - recall_2: 0.9925 - precision_2: 0.9925 - f1_score: 0.9925\n",
      "Epoch 4/10\n",
      "1805/1805 [==============================] - 7s 4ms/step - loss: 0.0143 - accuracy: 0.9930 - recall_2: 0.9930 - precision_2: 0.9930 - f1_score: 0.9930\n",
      "Epoch 5/10\n",
      "1805/1805 [==============================] - 7s 4ms/step - loss: 0.0138 - accuracy: 0.9933 - recall_2: 0.9933 - precision_2: 0.9933 - f1_score: 0.9933\n",
      "Epoch 6/10\n",
      "1805/1805 [==============================] - 7s 4ms/step - loss: 0.0134 - accuracy: 0.9937 - recall_2: 0.9937 - precision_2: 0.9937 - f1_score: 0.9937\n",
      "Epoch 7/10\n",
      "1805/1805 [==============================] - 7s 4ms/step - loss: 0.0129 - accuracy: 0.9940 - recall_2: 0.9940 - precision_2: 0.9941 - f1_score: 0.9940\n",
      "Epoch 8/10\n",
      "1805/1805 [==============================] - 7s 4ms/step - loss: 0.0126 - accuracy: 0.9943 - recall_2: 0.9943 - precision_2: 0.9943 - f1_score: 0.9943\n",
      "Epoch 9/10\n",
      "1805/1805 [==============================] - 7s 4ms/step - loss: 0.0124 - accuracy: 0.9943 - recall_2: 0.9943 - precision_2: 0.9944 - f1_score: 0.9943\n",
      "Epoch 10/10\n",
      "1805/1805 [==============================] - 7s 4ms/step - loss: 0.0120 - accuracy: 0.9945 - recall_2: 0.9945 - precision_2: 0.9946 - f1_score: 0.9945\n",
      ">Saved models/model_CICToNIoT.h5\n"
     ]
    },
    {
     "name": "stderr",
     "output_type": "stream",
     "text": [
      "/usr/local/lib/python3.10/dist-packages/keras/src/engine/training.py:3000: UserWarning: You are saving your model as an HDF5 file via `model.save()`. This file format is considered legacy. We recommend using instead the native Keras format, e.g. `model.save('my_model.keras')`.\n",
      "  saving_api.save_model(\n"
     ]
    }
   ],
   "source": [
    "model_CICToNIoT = fit_model_CICToNIoT(X_CICToNIoT_train, encoded_Y_train_CICToNIoT)\n",
    "\n",
    "filename_CICToNIoT = 'models/model_CICToNIoT.h5'\n",
    "model_CICToNIoT.save(filename_CICToNIoT)\n",
    "print('>Saved %s' % filename_CICToNIoT)"
   ]
  },
  {
   "cell_type": "code",
   "execution_count": 63,
   "id": "d35df5e0",
   "metadata": {},
   "outputs": [
    {
     "name": "stdout",
     "output_type": "stream",
     "text": [
      "[[0. 1. 0. 0.]\n",
      " [0. 1. 0. 0.]\n",
      " [0. 0. 0. 1.]\n",
      " ...\n",
      " [0. 1. 0. 0.]\n",
      " [0. 0. 0. 1.]\n",
      " [0. 0. 0. 1.]]\n"
     ]
    }
   ],
   "source": [
    "encoder_Y_train_CICBotIoT = LabelEncoder()\n",
    "encoder_Y_train_CICBotIoT.fit(Y_CICBotIoT_train)\n",
    "transform_Y_train_CICBotIoT = encoder_Y_train_CICBotIoT.transform(Y_CICBotIoT_train)\n",
    "encoded_Y_train_CICBotIoT = to_categorical(transform_Y_train_CICBotIoT, num_classes=4)\n",
    "print(encoded_Y_train_CICBotIoT)"
   ]
  },
  {
   "cell_type": "code",
   "execution_count": 64,
   "id": "3df0a251",
   "metadata": {},
   "outputs": [
    {
     "name": "stdout",
     "output_type": "stream",
     "text": [
      "[[0. 0. 0. 1.]\n",
      " [0. 1. 0. 0.]\n",
      " [0. 1. 0. 0.]\n",
      " ...\n",
      " [0. 0. 0. 1.]\n",
      " [0. 0. 0. 1.]\n",
      " [0. 1. 0. 0.]]\n"
     ]
    }
   ],
   "source": [
    "encoder_Y_test_CICBotIoT = LabelEncoder()\n",
    "encoder_Y_test_CICBotIoT.fit(Y_CICBotIoT_test)\n",
    "transform_Y_test_CICBotIoT = encoder_Y_test_CICBotIoT.transform(Y_CICBotIoT_test)\n",
    "encoded_Y_test_CICBotIoT = to_categorical(transform_Y_test_CICBotIoT, num_classes=4)\n",
    "print(encoded_Y_test_CICBotIoT)"
   ]
  },
  {
   "cell_type": "code",
   "execution_count": 73,
   "id": "95fc28da",
   "metadata": {},
   "outputs": [
    {
     "name": "stdout",
     "output_type": "stream",
     "text": [
      "Epoch 1/10\n",
      "5963/5963 [==============================] - 25s 4ms/step - loss: 0.2788 - accuracy: 0.8741 - recall_3: 0.8627 - precision_3: 0.8779 - f1_score: 0.8650\n",
      "Epoch 2/10\n",
      "5963/5963 [==============================] - 24s 4ms/step - loss: 0.2461 - accuracy: 0.8829 - recall_3: 0.8826 - precision_3: 0.8831 - f1_score: 0.8829\n",
      "Epoch 3/10\n",
      "5963/5963 [==============================] - 23s 4ms/step - loss: 0.2413 - accuracy: 0.8851 - recall_3: 0.8850 - precision_3: 0.8852 - f1_score: 0.8851\n",
      "Epoch 4/10\n",
      "5963/5963 [==============================] - 24s 4ms/step - loss: 0.2387 - accuracy: 0.8865 - recall_3: 0.8865 - precision_3: 0.8866 - f1_score: 0.8865\n",
      "Epoch 5/10\n",
      "5963/5963 [==============================] - 23s 4ms/step - loss: 0.2373 - accuracy: 0.8873 - recall_3: 0.8872 - precision_3: 0.8873 - f1_score: 0.8872\n",
      "Epoch 6/10\n",
      "5963/5963 [==============================] - 23s 4ms/step - loss: 0.2361 - accuracy: 0.8879 - recall_3: 0.8878 - precision_3: 0.8879 - f1_score: 0.8878\n",
      "Epoch 7/10\n",
      "5963/5963 [==============================] - 23s 4ms/step - loss: 0.2353 - accuracy: 0.8883 - recall_3: 0.8883 - precision_3: 0.8883 - f1_score: 0.8883\n",
      "Epoch 8/10\n",
      "5963/5963 [==============================] - 23s 4ms/step - loss: 0.2346 - accuracy: 0.8887 - recall_3: 0.8887 - precision_3: 0.8887 - f1_score: 0.8887\n",
      "Epoch 9/10\n",
      "5963/5963 [==============================] - 23s 4ms/step - loss: 0.2341 - accuracy: 0.8890 - recall_3: 0.8890 - precision_3: 0.8890 - f1_score: 0.8890\n",
      "Epoch 10/10\n",
      "5963/5963 [==============================] - 23s 4ms/step - loss: 0.2335 - accuracy: 0.8892 - recall_3: 0.8891 - precision_3: 0.8892 - f1_score: 0.8891\n",
      ">Saved models/model_CICBotIoT.h5\n"
     ]
    },
    {
     "name": "stderr",
     "output_type": "stream",
     "text": [
      "/usr/local/lib/python3.10/dist-packages/keras/src/engine/training.py:3000: UserWarning: You are saving your model as an HDF5 file via `model.save()`. This file format is considered legacy. We recommend using instead the native Keras format, e.g. `model.save('my_model.keras')`.\n",
      "  saving_api.save_model(\n"
     ]
    }
   ],
   "source": [
    "model_CICBotIoT = fit_model_CICBotIoT(X_CICBotIoT_train, encoded_Y_train_CICBotIoT)\n",
    "\n",
    "filename_CICBotIoT = 'models/model_CICBotIoT.h5'\n",
    "model_CICBotIoT.save(filename_CICBotIoT)\n",
    "print('>Saved %s' % filename_CICBotIoT)"
   ]
  },
  {
   "cell_type": "code",
   "execution_count": 65,
   "id": "3fe79b8c",
   "metadata": {},
   "outputs": [],
   "source": [
    "from keras.models import load_model"
   ]
  },
  {
   "cell_type": "code",
   "execution_count": 66,
   "id": "ba3fc581",
   "metadata": {},
   "outputs": [],
   "source": [
    "filename_model_CICIDS2017 = 'models/model_CICIDS2017.h5'\n",
    "loaded_model_CICIDS2017 = load_model(filename_model_CICIDS2017, custom_objects={\"f1_score\": f1_score})"
   ]
  },
  {
   "cell_type": "code",
   "execution_count": 67,
   "id": "91a69ac0",
   "metadata": {},
   "outputs": [],
   "source": [
    "filename_model_CICIDS2018 = 'models/model_CICIDS2018.h5'\n",
    "loaded_model_CICIDS2018 = load_model(filename_model_CICIDS2018, custom_objects={\"f1_score\": f1_score})"
   ]
  },
  {
   "cell_type": "code",
   "execution_count": 68,
   "id": "f3186fb3",
   "metadata": {},
   "outputs": [],
   "source": [
    "filename_model_CICToNIoT = 'models/model_CICToNIoT.h5'\n",
    "loaded_model_CICToNIoT = load_model(filename_model_CICToNIoT, custom_objects={\"f1_score\": f1_score})"
   ]
  },
  {
   "cell_type": "code",
   "execution_count": 69,
   "id": "cb0a38ac",
   "metadata": {},
   "outputs": [],
   "source": [
    "filename_model_CICBotIoT = 'models/model_CICBotIoT.h5'\n",
    "loaded_model_CICBotIoT = load_model(filename_model_CICBotIoT, custom_objects={\"f1_score\": f1_score})"
   ]
  },
  {
   "cell_type": "code",
   "execution_count": 70,
   "id": "72e692ab",
   "metadata": {},
   "outputs": [
    {
     "name": "stdout",
     "output_type": "stream",
     "text": [
      "[<keras.src.engine.sequential.Sequential object at 0x7effac2c8d00>, <keras.src.engine.sequential.Sequential object at 0x7eff456ab760>, <keras.src.engine.sequential.Sequential object at 0x7efe9bae2b90>, <keras.src.engine.sequential.Sequential object at 0x7eff456aaaa0>]\n"
     ]
    }
   ],
   "source": [
    "all_models = []\n",
    "all_models.append(loaded_model_CICIDS2017)\n",
    "all_models.append(loaded_model_CICIDS2018)\n",
    "all_models.append(loaded_model_CICToNIoT)\n",
    "all_models.append(loaded_model_CICBotIoT)\n",
    "\n",
    "print(all_models)"
   ]
  },
  {
   "cell_type": "code",
   "execution_count": 71,
   "id": "b7d4d8b0",
   "metadata": {},
   "outputs": [],
   "source": [
    "from sklearn.metrics import accuracy_score, precision_score, recall_score, f1_score, confusion_matrix, classification_report"
   ]
  },
  {
   "cell_type": "code",
   "execution_count": 81,
   "id": "24457159",
   "metadata": {},
   "outputs": [
    {
     "name": "stdout",
     "output_type": "stream",
     "text": [
      "24002/24002 [==============================] - 40s 2ms/step\n",
      "[[9.99999940e-01 1.05286725e-23 1.21112212e-15 1.59925479e-26]\n",
      " [9.97505605e-01 2.12739178e-05 2.46969052e-03 3.42402518e-06]\n",
      " [1.94364344e-04 2.85584993e-16 2.63271893e-09 9.99805689e-01]\n",
      " ...\n",
      " [1.00000000e+00 4.40811870e-15 1.67897884e-09 5.44682147e-11]\n",
      " [9.81941998e-01 1.48796316e-04 9.73542966e-03 8.17371253e-03]\n",
      " [9.99628782e-01 1.45506283e-06 3.68243636e-04 1.60693173e-06]]\n"
     ]
    }
   ],
   "source": [
    "pred_ConNN_CICIDS2017 = loaded_model_CICIDS2017.predict(X_CICIDS2017_test)\n",
    "print(pred_ConNN_CICIDS2017)"
   ]
  },
  {
   "cell_type": "code",
   "execution_count": 72,
   "id": "76daad4e",
   "metadata": {},
   "outputs": [
    {
     "name": "stdout",
     "output_type": "stream",
     "text": [
      "[[1. 0. 0. 0.]\n",
      " [1. 0. 0. 0.]\n",
      " [0. 0. 0. 1.]\n",
      " ...\n",
      " [1. 0. 0. 0.]\n",
      " [1. 0. 0. 0.]\n",
      " [1. 0. 0. 0.]]\n"
     ]
    }
   ],
   "source": [
    "print(encoded_Y_test_CICIDS2017)"
   ]
  },
  {
   "cell_type": "code",
   "execution_count": 73,
   "id": "cc10cdfe",
   "metadata": {},
   "outputs": [
    {
     "name": "stdout",
     "output_type": "stream",
     "text": [
      "[0 0 3 ... 0 0 0]\n"
     ]
    }
   ],
   "source": [
    "argmax_Y_test_CICIDS2017 = np.argmax(encoded_Y_test_CICIDS2017, axis=1)\n",
    "print(argmax_Y_test_CICIDS2017)"
   ]
  },
  {
   "cell_type": "code",
   "execution_count": 84,
   "id": "fc8434d5",
   "metadata": {},
   "outputs": [
    {
     "name": "stdout",
     "output_type": "stream",
     "text": [
      "[0 0 3 ... 0 0 0]\n"
     ]
    }
   ],
   "source": [
    "argmax_pred_ConNN_CICIDS2017 = np.argmax(pred_ConNN_CICIDS2017, axis=1)\n",
    "print(argmax_Y_test_CICIDS2017)"
   ]
  },
  {
   "cell_type": "code",
   "execution_count": 85,
   "id": "a9d88e7b",
   "metadata": {},
   "outputs": [
    {
     "name": "stdout",
     "output_type": "stream",
     "text": [
      "Test Accuracy CICIDS2017: 0.986\n",
      "Macro Test Precision CICIDS2017: 0.886\n",
      "Macro Test Recall CICIDS2017: 0.819\n",
      "Macro Test F1 CICIDS2017: 0.829\n",
      "Micro Test Precision CICIDS2017: 0.986\n",
      "Micro Test Recall CICIDS2017: 0.986\n",
      "Micro Test F1 CICIDS2017: 0.986\n"
     ]
    }
   ],
   "source": [
    "acc_pred_ConNN_CICIDS2017 = accuracy_score(argmax_Y_test_CICIDS2017, argmax_pred_ConNN_CICIDS2017)\n",
    "print('Test Accuracy CICIDS2017: %.3f' % acc_pred_ConNN_CICIDS2017)\n",
    "pre_mac_pred_ConNN_CICIDS2017 = precision_score(argmax_Y_test_CICIDS2017, argmax_pred_ConNN_CICIDS2017, average = 'macro')\n",
    "print('Macro Test Precision CICIDS2017: %.3f' % pre_mac_pred_ConNN_CICIDS2017)\n",
    "rec_mac_pred_ConNN_CICIDS2017 = recall_score(argmax_Y_test_CICIDS2017, argmax_pred_ConNN_CICIDS2017, average = 'macro')\n",
    "print('Macro Test Recall CICIDS2017: %.3f' % rec_mac_pred_ConNN_CICIDS2017)\n",
    "f1_mac_pred_ConNN_CICIDS2017 = f1_score(argmax_Y_test_CICIDS2017, argmax_pred_ConNN_CICIDS2017, average = 'macro')\n",
    "print('Macro Test F1 CICIDS2017: %.3f' % f1_mac_pred_ConNN_CICIDS2017)\n",
    "pre_mic_pred_ConNN_CICIDS2017 = precision_score(argmax_Y_test_CICIDS2017, argmax_pred_ConNN_CICIDS2017, average = 'micro')\n",
    "print('Micro Test Precision CICIDS2017: %.3f' % pre_mic_pred_ConNN_CICIDS2017)\n",
    "rec_mic_pred_ConNN_CICIDS2017 = recall_score(argmax_Y_test_CICIDS2017, argmax_pred_ConNN_CICIDS2017, average = 'micro')\n",
    "print('Micro Test Recall CICIDS2017: %.3f' % rec_mic_pred_ConNN_CICIDS2017)\n",
    "f1_mic_pred_ConNN_CICIDS2017 = f1_score(argmax_Y_test_CICIDS2017, argmax_pred_ConNN_CICIDS2017, average = 'micro')\n",
    "print('Micro Test F1 CICIDS2017: %.3f' % f1_mic_pred_ConNN_CICIDS2017)"
   ]
  },
  {
   "cell_type": "code",
   "execution_count": 86,
   "id": "63c01858",
   "metadata": {},
   "outputs": [
    {
     "name": "stdout",
     "output_type": "stream",
     "text": [
      "141572/141572 [==============================] - 237s 2ms/step\n",
      "[[9.9677956e-01 3.2095280e-03 7.9344491e-12 1.0953031e-05]\n",
      " [9.9591279e-01 4.0871906e-03 2.7865404e-11 4.8728521e-10]\n",
      " [9.8651719e-01 1.3482727e-02 2.4262077e-12 2.2693912e-26]\n",
      " ...\n",
      " [9.9314082e-01 6.8136267e-03 2.3468303e-07 4.5191755e-05]\n",
      " [9.9392897e-01 6.0544480e-03 1.9587732e-07 1.6288635e-05]\n",
      " [9.8956442e-01 1.0435593e-02 1.2315776e-11 6.3229726e-21]]\n"
     ]
    }
   ],
   "source": [
    "pred_ConNN_CICIDS2018 = loaded_model_CICIDS2018.predict(X_CICIDS2018_test)\n",
    "print(pred_ConNN_CICIDS2018)"
   ]
  },
  {
   "cell_type": "code",
   "execution_count": 74,
   "id": "f99224f0",
   "metadata": {},
   "outputs": [
    {
     "name": "stdout",
     "output_type": "stream",
     "text": [
      "[[1. 0. 0. 0.]\n",
      " [1. 0. 0. 0.]\n",
      " [1. 0. 0. 0.]\n",
      " ...\n",
      " [1. 0. 0. 0.]\n",
      " [1. 0. 0. 0.]\n",
      " [1. 0. 0. 0.]]\n"
     ]
    }
   ],
   "source": [
    "print(encoded_Y_test_CICIDS2018)"
   ]
  },
  {
   "cell_type": "code",
   "execution_count": 75,
   "id": "32b5b2a4",
   "metadata": {},
   "outputs": [
    {
     "name": "stdout",
     "output_type": "stream",
     "text": [
      "[0 0 0 ... 0 0 0]\n"
     ]
    }
   ],
   "source": [
    "argmax_Y_test_CICIDS2018 = np.argmax(encoded_Y_test_CICIDS2018, axis=1)\n",
    "print(argmax_Y_test_CICIDS2018)"
   ]
  },
  {
   "cell_type": "code",
   "execution_count": 89,
   "id": "8e02b648",
   "metadata": {},
   "outputs": [
    {
     "name": "stdout",
     "output_type": "stream",
     "text": [
      "[0 0 0 ... 0 0 0]\n"
     ]
    }
   ],
   "source": [
    "argmax_pred_ConNN_CICIDS2018 = np.argmax(pred_ConNN_CICIDS2018, axis=1)\n",
    "print(argmax_Y_test_CICIDS2018)"
   ]
  },
  {
   "cell_type": "code",
   "execution_count": 90,
   "id": "54747f32",
   "metadata": {},
   "outputs": [
    {
     "name": "stdout",
     "output_type": "stream",
     "text": [
      "Test Accuracy CICIDS2018: 0.887\n",
      "Macro Test Precision CICIDS2018: 0.556\n",
      "Macro Test Recall CICIDS2018: 0.251\n",
      "Macro Test F1 CICIDS2018: 0.238\n",
      "Micro Test Precision CICIDS2018: 0.887\n",
      "Micro Test Recall CICIDS2018: 0.887\n",
      "Micro Test F1 CICIDS2018: 0.887\n"
     ]
    }
   ],
   "source": [
    "acc_pred_ConNN_CICIDS2018 = accuracy_score(argmax_Y_test_CICIDS2018, argmax_pred_ConNN_CICIDS2018)\n",
    "print('Test Accuracy CICIDS2018: %.3f' % acc_pred_ConNN_CICIDS2018)\n",
    "pre_mac_pred_ConNN_CICIDS2018 = precision_score(argmax_Y_test_CICIDS2018, argmax_pred_ConNN_CICIDS2018, average = 'macro')\n",
    "print('Macro Test Precision CICIDS2018: %.3f' % pre_mac_pred_ConNN_CICIDS2018)\n",
    "rec_mac_pred_ConNN_CICIDS2018 = recall_score(argmax_Y_test_CICIDS2018, argmax_pred_ConNN_CICIDS2018, average = 'macro')\n",
    "print('Macro Test Recall CICIDS2018: %.3f' % rec_mac_pred_ConNN_CICIDS2018)\n",
    "f1_mac_pred_ConNN_CICIDS2018 = f1_score(argmax_Y_test_CICIDS2018, argmax_pred_ConNN_CICIDS2018, average = 'macro')\n",
    "print('Macro Test F1 CICIDS2018: %.3f' % f1_mac_pred_ConNN_CICIDS2018)\n",
    "pre_mic_pred_ConNN_CICIDS2018 = precision_score(argmax_Y_test_CICIDS2018, argmax_pred_ConNN_CICIDS2018, average = 'micro')\n",
    "print('Micro Test Precision CICIDS2018: %.3f' % pre_mic_pred_ConNN_CICIDS2018)\n",
    "rec_mic_pred_ConNN_CICIDS2018 = recall_score(argmax_Y_test_CICIDS2018, argmax_pred_ConNN_CICIDS2018, average = 'micro')\n",
    "print('Micro Test Recall CICIDS2018: %.3f' % rec_mic_pred_ConNN_CICIDS2018)\n",
    "f1_mic_pred_ConNN_CICIDS2018 = f1_score(argmax_Y_test_CICIDS2018, argmax_pred_ConNN_CICIDS2018, average = 'micro')\n",
    "print('Micro Test F1 CICIDS2018: %.3f' % f1_mic_pred_ConNN_CICIDS2018)"
   ]
  },
  {
   "cell_type": "code",
   "execution_count": 73,
   "id": "197a16cf",
   "metadata": {},
   "outputs": [
    {
     "name": "stdout",
     "output_type": "stream",
     "text": [
      "24166/24166 [==============================] - 48s 2ms/step\n",
      "[[9.9999863e-01 1.9054578e-08 1.2937918e-06 9.6406139e-10]\n",
      " [9.9999994e-01 2.9568076e-15 3.0716100e-11 2.1651504e-18]\n",
      " [9.9999994e-01 7.8567579e-16 1.9374696e-11 7.4528761e-19]\n",
      " ...\n",
      " [9.9995291e-01 1.0136134e-06 4.5717301e-05 1.8971089e-07]\n",
      " [9.9999881e-01 1.0616228e-10 1.1614943e-06 1.7965621e-12]\n",
      " [1.0000000e+00 7.2296352e-13 7.3887507e-10 7.5579040e-16]]\n"
     ]
    }
   ],
   "source": [
    "pred_ConNN_CICToNIoT = loaded_model_CICToNIoT.predict(X_CICToNIoT_test)\n",
    "print(pred_ConNN_CICToNIoT)"
   ]
  },
  {
   "cell_type": "code",
   "execution_count": 74,
   "id": "0ad1916d",
   "metadata": {},
   "outputs": [
    {
     "name": "stdout",
     "output_type": "stream",
     "text": [
      "[[1. 0. 0. 0.]\n",
      " [1. 0. 0. 0.]\n",
      " [1. 0. 0. 0.]\n",
      " ...\n",
      " [1. 0. 0. 0.]\n",
      " [1. 0. 0. 0.]\n",
      " [1. 0. 0. 0.]]\n"
     ]
    }
   ],
   "source": [
    "print(encoded_Y_test_CICToNIoT)"
   ]
  },
  {
   "cell_type": "code",
   "execution_count": 75,
   "id": "ff7ba125",
   "metadata": {},
   "outputs": [
    {
     "name": "stdout",
     "output_type": "stream",
     "text": [
      "[0 0 0 ... 0 0 0]\n"
     ]
    }
   ],
   "source": [
    "argmax_Y_test_CICToNIoT = np.argmax(encoded_Y_test_CICToNIoT, axis=1)\n",
    "print(argmax_Y_test_CICToNIoT)"
   ]
  },
  {
   "cell_type": "code",
   "execution_count": 76,
   "id": "a99de63b",
   "metadata": {},
   "outputs": [
    {
     "name": "stdout",
     "output_type": "stream",
     "text": [
      "[0 0 0 ... 0 0 0]\n"
     ]
    }
   ],
   "source": [
    "argmax_pred_ConNN_CICToNIoT = np.argmax(pred_ConNN_CICToNIoT, axis=1)\n",
    "print(argmax_Y_test_CICToNIoT)"
   ]
  },
  {
   "cell_type": "code",
   "execution_count": 77,
   "id": "f9666a12",
   "metadata": {},
   "outputs": [
    {
     "name": "stdout",
     "output_type": "stream",
     "text": [
      "Test Accuracy CICToNIoT: 0.988\n",
      "Macro Test Precision CICToNIoT: 0.837\n",
      "Macro Test Recall CICToNIoT: 0.757\n",
      "Macro Test F1 CICToNIoT: 0.767\n",
      "Micro Test Precision CICToNIoT: 0.988\n",
      "Micro Test Recall CICToNIoT: 0.988\n",
      "Micro Test F1 CICToNIoT: 0.988\n"
     ]
    }
   ],
   "source": [
    "acc_pred_ConNN_CICToNIoT = accuracy_score(argmax_Y_test_CICToNIoT, argmax_pred_ConNN_CICToNIoT)\n",
    "print('Test Accuracy CICToNIoT: %.3f' % acc_pred_ConNN_CICToNIoT)\n",
    "pre_mac_pred_ConNN_CICToNIoT = precision_score(argmax_Y_test_CICToNIoT, argmax_pred_ConNN_CICToNIoT, average = 'macro')\n",
    "print('Macro Test Precision CICToNIoT: %.3f' % pre_mac_pred_ConNN_CICToNIoT)\n",
    "rec_mac_pred_ConNN_CICToNIoT = recall_score(argmax_Y_test_CICToNIoT, argmax_pred_ConNN_CICToNIoT, average = 'macro')\n",
    "print('Macro Test Recall CICToNIoT: %.3f' % rec_mac_pred_ConNN_CICToNIoT)\n",
    "f1_mac_pred_ConNN_CICToNIoT = f1_score(argmax_Y_test_CICToNIoT, argmax_pred_ConNN_CICToNIoT, average = 'macro')\n",
    "print('Macro Test F1 CICToNIoT: %.3f' % f1_mac_pred_ConNN_CICToNIoT)\n",
    "pre_mic_pred_ConNN_CICToNIoT = precision_score(argmax_Y_test_CICToNIoT, argmax_pred_ConNN_CICToNIoT, average = 'micro')\n",
    "print('Micro Test Precision CICToNIoT: %.3f' % pre_mic_pred_ConNN_CICToNIoT)\n",
    "rec_mic_pred_ConNN_CICToNIoT = recall_score(argmax_Y_test_CICToNIoT, argmax_pred_ConNN_CICToNIoT, average = 'micro')\n",
    "print('Micro Test Recall CICToNIoT: %.3f' % rec_mic_pred_ConNN_CICToNIoT)\n",
    "f1_mic_pred_ConNN_CICToNIoT = f1_score(argmax_Y_test_CICToNIoT, argmax_pred_ConNN_CICToNIoT, average = 'micro')\n",
    "print('Micro Test F1 CICToNIoT: %.3f' % f1_mic_pred_ConNN_CICToNIoT)"
   ]
  },
  {
   "cell_type": "code",
   "execution_count": 96,
   "id": "02804b2d",
   "metadata": {},
   "outputs": [
    {
     "name": "stdout",
     "output_type": "stream",
     "text": [
      "79859/79859 [==============================] - 133s 2ms/step\n",
      "[[3.75356066e-11 2.03819317e-03 2.15817391e-08 9.97961640e-01]\n",
      " [5.44615114e-06 9.99994457e-01 1.06943547e-08 2.07999798e-11]\n",
      " [7.49855147e-08 6.93707526e-01 1.51479835e-05 3.06277305e-01]\n",
      " ...\n",
      " [3.26348081e-11 1.99144986e-03 1.98223429e-08 9.98008549e-01]\n",
      " [5.94222256e-05 2.44154297e-02 1.94090593e-04 9.75331068e-01]\n",
      " [1.31162966e-03 9.97580767e-01 1.10649865e-03 1.22894812e-06]]\n"
     ]
    }
   ],
   "source": [
    "pred_ConNN_CICBotIoT = loaded_model_CICBotIoT.predict(X_CICBotIoT_test)\n",
    "print(pred_ConNN_CICBotIoT)"
   ]
  },
  {
   "cell_type": "code",
   "execution_count": 78,
   "id": "a0c705b4",
   "metadata": {},
   "outputs": [
    {
     "name": "stdout",
     "output_type": "stream",
     "text": [
      "[[0. 0. 0. 1.]\n",
      " [0. 1. 0. 0.]\n",
      " [0. 1. 0. 0.]\n",
      " ...\n",
      " [0. 0. 0. 1.]\n",
      " [0. 0. 0. 1.]\n",
      " [0. 1. 0. 0.]]\n"
     ]
    }
   ],
   "source": [
    "print(encoded_Y_test_CICBotIoT)"
   ]
  },
  {
   "cell_type": "code",
   "execution_count": 79,
   "id": "25b7c66a",
   "metadata": {},
   "outputs": [
    {
     "name": "stdout",
     "output_type": "stream",
     "text": [
      "[3 1 1 ... 3 3 1]\n"
     ]
    }
   ],
   "source": [
    "argmax_Y_test_CICBotIoT = np.argmax(encoded_Y_test_CICBotIoT, axis=1)\n",
    "print(argmax_Y_test_CICBotIoT)"
   ]
  },
  {
   "cell_type": "code",
   "execution_count": 99,
   "id": "aa154cab",
   "metadata": {},
   "outputs": [
    {
     "name": "stdout",
     "output_type": "stream",
     "text": [
      "[3 1 1 ... 3 3 1]\n"
     ]
    }
   ],
   "source": [
    "argmax_pred_ConNN_CICBotIoT = np.argmax(pred_ConNN_CICBotIoT, axis=1)\n",
    "print(argmax_Y_test_CICBotIoT)"
   ]
  },
  {
   "cell_type": "code",
   "execution_count": 100,
   "id": "8981648f",
   "metadata": {},
   "outputs": [
    {
     "name": "stdout",
     "output_type": "stream",
     "text": [
      "Test Accuracy CICBotIoT: 0.876\n",
      "Macro Test Precision CICBotIoT: 0.799\n",
      "Macro Test Recall CICBotIoT: 0.591\n",
      "Macro Test F1 CICBotIoT: 0.607\n",
      "Micro Test Precision CICBotIoT: 0.876\n",
      "Micro Test Recall CICBotIoT: 0.876\n",
      "Micro Test F1 CICBotIoT: 0.876\n"
     ]
    }
   ],
   "source": [
    "acc_pred_ConNN_CICBotIoT = accuracy_score(argmax_Y_test_CICBotIoT, argmax_pred_ConNN_CICBotIoT)\n",
    "print('Test Accuracy CICBotIoT: %.3f' % acc_pred_ConNN_CICBotIoT)\n",
    "pre_mac_pred_ConNN_CICBotIoT = precision_score(argmax_Y_test_CICBotIoT, argmax_pred_ConNN_CICBotIoT, average = 'macro')\n",
    "print('Macro Test Precision CICBotIoT: %.3f' % pre_mac_pred_ConNN_CICBotIoT)\n",
    "rec_mac_pred_ConNN_CICBotIoT = recall_score(argmax_Y_test_CICBotIoT, argmax_pred_ConNN_CICBotIoT, average = 'macro')\n",
    "print('Macro Test Recall CICBotIoT: %.3f' % rec_mac_pred_ConNN_CICBotIoT)\n",
    "f1_mac_pred_ConNN_CICBotIoT = f1_score(argmax_Y_test_CICBotIoT, argmax_pred_ConNN_CICBotIoT, average = 'macro')\n",
    "print('Macro Test F1 CICBotIoT: %.3f' % f1_mac_pred_ConNN_CICBotIoT)\n",
    "pre_mic_pred_ConNN_CICBotIoT = precision_score(argmax_Y_test_CICBotIoT, argmax_pred_ConNN_CICBotIoT, average = 'micro')\n",
    "print('Micro Test Precision CICBotIoT: %.3f' % pre_mic_pred_ConNN_CICBotIoT)\n",
    "rec_mic_pred_ConNN_CICBotIoT = recall_score(argmax_Y_test_CICBotIoT, argmax_pred_ConNN_CICBotIoT, average = 'micro')\n",
    "print('Micro Test Recall CICBotIoT: %.3f' % rec_mic_pred_ConNN_CICBotIoT)\n",
    "f1_mic_pred_ConNN_CICBotIoT = f1_score(argmax_Y_test_CICBotIoT, argmax_pred_ConNN_CICBotIoT, average = 'micro')\n",
    "print('Micro Test F1 CICBotIoT: %.3f' % f1_mic_pred_ConNN_CICBotIoT)"
   ]
  },
  {
   "cell_type": "code",
   "execution_count": 80,
   "id": "e03df2b9",
   "metadata": {},
   "outputs": [],
   "source": [
    "import numpy\n",
    "from numpy import mean\n",
    "from numpy import std\n",
    "from numpy import array\n",
    "from numpy import argmax"
   ]
  },
  {
   "cell_type": "code",
   "execution_count": 85,
   "id": "7cc8933d",
   "metadata": {},
   "outputs": [],
   "source": [
    "def ensemble_predictions(members, testX):\n",
    "    yhats = [model.predict(testX) for model in members]\n",
    "    yhats = array(yhats)\n",
    "    summed = numpy.sum(yhats, axis=0)\n",
    "    result = argmax(summed, axis=1)\n",
    "    return result"
   ]
  },
  {
   "cell_type": "code",
   "execution_count": 103,
   "id": "bdeebd0b",
   "metadata": {},
   "outputs": [
    {
     "name": "stdout",
     "output_type": "stream",
     "text": [
      "24002/24002 [==============================] - 38s 2ms/step\n",
      "24002/24002 [==============================] - 39s 2ms/step\n",
      "24002/24002 [==============================] - 40s 2ms/step\n",
      "24002/24002 [==============================] - 40s 2ms/step\n",
      "[0 0 0 ... 0 0 0]\n"
     ]
    }
   ],
   "source": [
    "pred_NN_CICIDS2017 = ensemble_predictions(all_models, X_CICIDS2017_test)\n",
    "print(pred_NN_CICIDS2017)"
   ]
  },
  {
   "cell_type": "code",
   "execution_count": 104,
   "id": "5763e4e5",
   "metadata": {},
   "outputs": [
    {
     "name": "stdout",
     "output_type": "stream",
     "text": [
      "Test Accuracy AVGNN CICIDS2017: 0.888\n"
     ]
    },
    {
     "name": "stderr",
     "output_type": "stream",
     "text": [
      "/usr/local/lib/python3.10/dist-packages/sklearn/metrics/_classification.py:1344: UndefinedMetricWarning: Precision is ill-defined and being set to 0.0 in labels with no predicted samples. Use `zero_division` parameter to control this behavior.\n",
      "  _warn_prf(average, modifier, msg_start, len(result))\n"
     ]
    },
    {
     "name": "stdout",
     "output_type": "stream",
     "text": [
      "Macro Test Precision AVGNN CICIDS2017: 0.324\n",
      "Macro Test Recall AVGNN CICIDS2017: 0.257\n",
      "Macro Test F1 AVGNN CICIDS2017: 0.249\n",
      "Micro Test Precision AVGNN CICIDS2017: 0.888\n",
      "Micro Test Recall AVGNN CICIDS2017: 0.888\n",
      "Micro Test F1 AVGNN CICIDS2017: 0.888\n"
     ]
    }
   ],
   "source": [
    "acc_pred_NN_CICIDS2017 = accuracy_score(argmax_Y_test_CICIDS2017, pred_NN_CICIDS2017)\n",
    "print('Test Accuracy AVGNN CICIDS2017: %.3f' % acc_pred_NN_CICIDS2017)\n",
    "pre_mac_pred_NN_CICIDS2017 = precision_score(argmax_Y_test_CICIDS2017, pred_NN_CICIDS2017, average = 'macro')\n",
    "print('Macro Test Precision AVGNN CICIDS2017: %.3f' % pre_mac_pred_NN_CICIDS2017)\n",
    "rec_mac_pred_NN_CICIDS2017 = recall_score(argmax_Y_test_CICIDS2017, pred_NN_CICIDS2017, average = 'macro')\n",
    "print('Macro Test Recall AVGNN CICIDS2017: %.3f' % rec_mac_pred_NN_CICIDS2017)\n",
    "f1_mac_pred_NN_CICIDS2017 = f1_score(argmax_Y_test_CICIDS2017, pred_NN_CICIDS2017, average = 'macro')\n",
    "print('Macro Test F1 AVGNN CICIDS2017: %.3f' % f1_mac_pred_NN_CICIDS2017)\n",
    "pre_mic_pred_NN_CICIDS2017 = precision_score(argmax_Y_test_CICIDS2017, pred_NN_CICIDS2017, average = 'micro')\n",
    "print('Micro Test Precision AVGNN CICIDS2017: %.3f' % pre_mic_pred_NN_CICIDS2017)\n",
    "rec_mic_pred_NN_CICIDS2017 = recall_score(argmax_Y_test_CICIDS2017, pred_NN_CICIDS2017, average = 'micro')\n",
    "print('Micro Test Recall AVGNN CICIDS2017: %.3f' % rec_mic_pred_NN_CICIDS2017)\n",
    "f1_mic_pred_NN_CICIDS2017 = f1_score(argmax_Y_test_CICIDS2017, pred_NN_CICIDS2017, average = 'micro')\n",
    "print('Micro Test F1 AVGNN CICIDS2017: %.3f' % f1_mic_pred_NN_CICIDS2017)"
   ]
  },
  {
   "cell_type": "code",
   "execution_count": 105,
   "id": "957147c2",
   "metadata": {},
   "outputs": [
    {
     "name": "stdout",
     "output_type": "stream",
     "text": [
      "141572/141572 [==============================] - 228s 2ms/step\n",
      "141572/141572 [==============================] - 215s 2ms/step\n",
      "141572/141572 [==============================] - 235s 2ms/step\n",
      "141572/141572 [==============================] - 230s 2ms/step\n",
      "[0 0 0 ... 0 0 0]\n"
     ]
    }
   ],
   "source": [
    "pred_NN_CICIDS2018 = ensemble_predictions(all_models, X_CICIDS2018_test)\n",
    "print(pred_NN_CICIDS2018)"
   ]
  },
  {
   "cell_type": "code",
   "execution_count": 106,
   "id": "09cd11bd",
   "metadata": {},
   "outputs": [
    {
     "name": "stdout",
     "output_type": "stream",
     "text": [
      "Test Accuracy AVGNN CICIDS2018: 0.886\n",
      "Macro Test Precision AVGNN CICIDS2018: 0.236\n",
      "Macro Test Recall AVGNN CICIDS2018: 0.251\n",
      "Macro Test F1 AVGNN CICIDS2018: 0.236\n",
      "Micro Test Precision AVGNN CICIDS2018: 0.886\n",
      "Micro Test Recall AVGNN CICIDS2018: 0.886\n",
      "Micro Test F1 AVGNN CICIDS2018: 0.886\n"
     ]
    }
   ],
   "source": [
    "acc_pred_NN_CICIDS2018 = accuracy_score(argmax_Y_test_CICIDS2018, pred_NN_CICIDS2018)\n",
    "print('Test Accuracy AVGNN CICIDS2018: %.3f' % acc_pred_NN_CICIDS2018)\n",
    "pre_mac_pred_NN_CICIDS2018 = precision_score(argmax_Y_test_CICIDS2018, pred_NN_CICIDS2018, average = 'macro')\n",
    "print('Macro Test Precision AVGNN CICIDS2018: %.3f' % pre_mac_pred_NN_CICIDS2018)\n",
    "rec_mac_pred_NN_CICIDS2018 = recall_score(argmax_Y_test_CICIDS2018, pred_NN_CICIDS2018, average = 'macro')\n",
    "print('Macro Test Recall AVGNN CICIDS2018: %.3f' % rec_mac_pred_NN_CICIDS2018)\n",
    "f1_mac_pred_NN_CICIDS2018 = f1_score(argmax_Y_test_CICIDS2018, pred_NN_CICIDS2018, average = 'macro')\n",
    "print('Macro Test F1 AVGNN CICIDS2018: %.3f' % f1_mac_pred_NN_CICIDS2018)\n",
    "pre_mic_pred_NN_CICIDS2018 = precision_score(argmax_Y_test_CICIDS2018, pred_NN_CICIDS2018, average = 'micro')\n",
    "print('Micro Test Precision AVGNN CICIDS2018: %.3f' % pre_mic_pred_NN_CICIDS2018)\n",
    "rec_mic_pred_NN_CICIDS2018 = recall_score(argmax_Y_test_CICIDS2018, pred_NN_CICIDS2018, average = 'micro')\n",
    "print('Micro Test Recall AVGNN CICIDS2018: %.3f' % rec_mic_pred_NN_CICIDS2018)\n",
    "f1_mic_pred_NN_CICIDS2018 = f1_score(argmax_Y_test_CICIDS2018, pred_NN_CICIDS2018, average = 'micro')\n",
    "print('Micro Test F1 AVGNN CICIDS2018: %.3f' % f1_mic_pred_NN_CICIDS2018)"
   ]
  },
  {
   "cell_type": "code",
   "execution_count": 107,
   "id": "4c48d71b",
   "metadata": {},
   "outputs": [
    {
     "name": "stdout",
     "output_type": "stream",
     "text": [
      "24166/24166 [==============================] - 39s 2ms/step\n",
      "24166/24166 [==============================] - 37s 2ms/step\n",
      "24166/24166 [==============================] - 42s 2ms/step\n",
      "24166/24166 [==============================] - 32s 1ms/step\n",
      "[0 0 1 ... 0 0 0]\n"
     ]
    }
   ],
   "source": [
    "pred_NN_CICToNIoT = ensemble_predictions(all_models, X_CICToNIoT_test)\n",
    "print(pred_NN_CICToNIoT)"
   ]
  },
  {
   "cell_type": "code",
   "execution_count": 108,
   "id": "c43df693",
   "metadata": {},
   "outputs": [
    {
     "name": "stdout",
     "output_type": "stream",
     "text": [
      "Test Accuracy AVGNN CICToNIoT: 0.892\n",
      "Macro Test Precision AVGNN CICToNIoT: 0.516\n",
      "Macro Test Recall AVGNN CICToNIoT: 0.628\n",
      "Macro Test F1 AVGNN CICToNIoT: 0.369\n",
      "Micro Test Precision AVGNN CICToNIoT: 0.892\n",
      "Micro Test Recall AVGNN CICToNIoT: 0.892\n",
      "Micro Test F1 AVGNN CICToNIoT: 0.892\n"
     ]
    }
   ],
   "source": [
    "acc_pred_NN_CICToNIoT = accuracy_score(argmax_Y_test_CICToNIoT, pred_NN_CICToNIoT)\n",
    "print('Test Accuracy AVGNN CICToNIoT: %.3f' % acc_pred_NN_CICToNIoT)\n",
    "pre_mac_pred_NN_CICToNIoT = precision_score(argmax_Y_test_CICToNIoT, pred_NN_CICToNIoT, average = 'macro')\n",
    "print('Macro Test Precision AVGNN CICToNIoT: %.3f' % pre_mac_pred_NN_CICToNIoT)\n",
    "rec_mac_pred_NN_CICToNIoT = recall_score(argmax_Y_test_CICToNIoT, pred_NN_CICToNIoT, average = 'macro')\n",
    "print('Macro Test Recall AVGNN CICToNIoT: %.3f' % rec_mac_pred_NN_CICToNIoT)\n",
    "f1_mac_pred_NN_CICToNIoT = f1_score(argmax_Y_test_CICToNIoT, pred_NN_CICToNIoT, average = 'macro')\n",
    "print('Macro Test F1 AVGNN CICToNIoT: %.3f' % f1_mac_pred_NN_CICToNIoT)\n",
    "pre_mic_pred_NN_CICToNIoT = precision_score(argmax_Y_test_CICToNIoT, pred_NN_CICToNIoT, average = 'micro')\n",
    "print('Micro Test Precision AVGNN CICToNIoT: %.3f' % pre_mic_pred_NN_CICToNIoT)\n",
    "rec_mic_pred_NN_CICToNIoT = recall_score(argmax_Y_test_CICToNIoT, pred_NN_CICToNIoT, average = 'micro')\n",
    "print('Micro Test Recall AVGNN CICToNIoT: %.3f' % rec_mic_pred_NN_CICToNIoT)\n",
    "f1_mic_pred_NN_CICToNIoT = f1_score(argmax_Y_test_CICToNIoT, pred_NN_CICToNIoT, average = 'micro')\n",
    "print('Micro Test F1 AVGNN CICToNIoT: %.3f' % f1_mic_pred_NN_CICToNIoT)"
   ]
  },
  {
   "cell_type": "code",
   "execution_count": 109,
   "id": "b29a2603",
   "metadata": {},
   "outputs": [
    {
     "name": "stdout",
     "output_type": "stream",
     "text": [
      "79859/79859 [==============================] - 128s 2ms/step\n",
      "79859/79859 [==============================] - 103s 1ms/step\n",
      "79859/79859 [==============================] - 129s 2ms/step\n",
      "79859/79859 [==============================] - 107s 1ms/step\n",
      "[0 1 0 ... 0 0 0]\n"
     ]
    }
   ],
   "source": [
    "pred_NN_CICBotIoT = ensemble_predictions(all_models, X_CICBotIoT_test)\n",
    "print(pred_NN_CICBotIoT)"
   ]
  },
  {
   "cell_type": "code",
   "execution_count": 110,
   "id": "ffbae913",
   "metadata": {},
   "outputs": [
    {
     "name": "stdout",
     "output_type": "stream",
     "text": [
      "Test Accuracy AVGNN CICBotIoT: 0.234\n",
      "Macro Test Precision AVGNN CICBotIoT: 0.460\n",
      "Macro Test Recall AVGNN CICBotIoT: 0.345\n",
      "Macro Test F1 AVGNN CICBotIoT: 0.192\n",
      "Micro Test Precision AVGNN CICBotIoT: 0.234\n",
      "Micro Test Recall AVGNN CICBotIoT: 0.234\n",
      "Micro Test F1 AVGNN CICBotIoT: 0.234\n"
     ]
    }
   ],
   "source": [
    "acc_pred_NN_CICBotIoT = accuracy_score(argmax_Y_test_CICBotIoT, pred_NN_CICBotIoT)\n",
    "print('Test Accuracy AVGNN CICBotIoT: %.3f' % acc_pred_NN_CICBotIoT)\n",
    "pre_mac_pred_NN_CICBotIoT = precision_score(argmax_Y_test_CICBotIoT, pred_NN_CICBotIoT, average = 'macro')\n",
    "print('Macro Test Precision AVGNN CICBotIoT: %.3f' % pre_mac_pred_NN_CICBotIoT)\n",
    "rec_mac_pred_NN_CICBotIoT = recall_score(argmax_Y_test_CICBotIoT, pred_NN_CICBotIoT, average = 'macro')\n",
    "print('Macro Test Recall AVGNN CICBotIoT: %.3f' % rec_mac_pred_NN_CICBotIoT)\n",
    "f1_mac_pred_NN_CICBotIoT = f1_score(argmax_Y_test_CICBotIoT, pred_NN_CICBotIoT, average = 'macro')\n",
    "print('Macro Test F1 AVGNN CICBotIoT: %.3f' % f1_mac_pred_NN_CICBotIoT)\n",
    "pre_mic_pred_NN_CICBotIoT = precision_score(argmax_Y_test_CICBotIoT, pred_NN_CICBotIoT, average = 'micro')\n",
    "print('Micro Test Precision AVGNN CICBotIoT: %.3f' % pre_mic_pred_NN_CICBotIoT)\n",
    "rec_mic_pred_NN_CICBotIoT = recall_score(argmax_Y_test_CICBotIoT, pred_NN_CICBotIoT, average = 'micro')\n",
    "print('Micro Test Recall AVGNN CICBotIoT: %.3f' % rec_mic_pred_NN_CICBotIoT)\n",
    "f1_mic_pred_NN_CICBotIoT = f1_score(argmax_Y_test_CICBotIoT, pred_NN_CICBotIoT, average = 'micro')\n",
    "print('Micro Test F1 AVGNN CICBotIoT: %.3f' % f1_mic_pred_NN_CICBotIoT)"
   ]
  },
  {
   "cell_type": "code",
   "execution_count": 111,
   "id": "13470f19",
   "metadata": {},
   "outputs": [
    {
     "name": "stdout",
     "output_type": "stream",
     "text": [
      "141572/141572 [==============================] - 212s 1ms/step\n",
      "[[9.99999702e-01 1.32015158e-25 3.18689116e-15 2.17846321e-07]\n",
      " [9.57409143e-01 3.55524750e-18 4.46718967e-10 4.25908752e-02]\n",
      " [9.98913109e-01 2.32731804e-06 1.07986724e-03 4.62542857e-06]\n",
      " ...\n",
      " [9.99999940e-01 9.30437027e-22 2.25261731e-13 3.54120587e-11]\n",
      " [9.99999940e-01 3.30115115e-22 1.10503966e-13 9.33285480e-12]\n",
      " [9.99837875e-01 1.17138207e-07 1.60303694e-04 1.71075305e-06]]\n"
     ]
    }
   ],
   "source": [
    "pred_CICIDS2017_Cross_CICIDS2018 = loaded_model_CICIDS2017.predict(X_CICIDS2018_test)\n",
    "print(pred_CICIDS2017_Cross_CICIDS2018)"
   ]
  },
  {
   "cell_type": "code",
   "execution_count": 112,
   "id": "06ae611e",
   "metadata": {},
   "outputs": [
    {
     "name": "stdout",
     "output_type": "stream",
     "text": [
      "[0 0 0 ... 0 0 0]\n"
     ]
    }
   ],
   "source": [
    "argmax_pred_CICIDS2017_Cross_CICIDS2018 = np.argmax(pred_CICIDS2017_Cross_CICIDS2018, axis=1)\n",
    "print(argmax_pred_CICIDS2017_Cross_CICIDS2018)"
   ]
  },
  {
   "cell_type": "code",
   "execution_count": 113,
   "id": "6d01c881",
   "metadata": {},
   "outputs": [
    {
     "name": "stdout",
     "output_type": "stream",
     "text": [
      "Test Accuracy CICIDS2017 cross CICIDS2018: 0.879\n",
      "Macro Test Precision CICIDS2017 cross CICIDS2018: 0.397\n",
      "Macro Test Recall CICIDS2017 cross CICIDS2018: 0.304\n",
      "Macro Test F1 CICIDS2017 cross CICIDS2018: 0.324\n",
      "Micro Test Precision CICIDS2017 cross CICIDS2018: 0.879\n",
      "Micro Test Recall CICIDS2017 cross CICIDS2018: 0.879\n",
      "Micro Test F1 CICIDS2017 cross CICIDS2018: 0.879\n"
     ]
    }
   ],
   "source": [
    "acc_pred_CICIDS2017_Cross_CICIDS2018 = accuracy_score(argmax_Y_test_CICIDS2018,argmax_pred_CICIDS2017_Cross_CICIDS2018)\n",
    "print('Test Accuracy CICIDS2017 cross CICIDS2018: %.3f' % acc_pred_CICIDS2017_Cross_CICIDS2018)\n",
    "pre_mac_pred_CICIDS2017_Cross_CICIDS2018 = precision_score(argmax_Y_test_CICIDS2018,argmax_pred_CICIDS2017_Cross_CICIDS2018, average = 'macro')\n",
    "print('Macro Test Precision CICIDS2017 cross CICIDS2018: %.3f' % pre_mac_pred_CICIDS2017_Cross_CICIDS2018)\n",
    "rec_mac_pred_CICIDS2017_Cross_CICIDS2018 = recall_score(argmax_Y_test_CICIDS2018,argmax_pred_CICIDS2017_Cross_CICIDS2018, average = 'macro')\n",
    "print('Macro Test Recall CICIDS2017 cross CICIDS2018: %.3f' % rec_mac_pred_CICIDS2017_Cross_CICIDS2018)\n",
    "f1_mac_pred_CICIDS2017_Cross_CICIDS2018 = f1_score(argmax_Y_test_CICIDS2018,argmax_pred_CICIDS2017_Cross_CICIDS2018, average = 'macro')\n",
    "print('Macro Test F1 CICIDS2017 cross CICIDS2018: %.3f' % f1_mac_pred_CICIDS2017_Cross_CICIDS2018)\n",
    "pre_mic_pred_CICIDS2017_Cross_CICIDS2018 = precision_score(argmax_Y_test_CICIDS2018,argmax_pred_CICIDS2017_Cross_CICIDS2018, average = 'micro')\n",
    "print('Micro Test Precision CICIDS2017 cross CICIDS2018: %.3f' % pre_mic_pred_CICIDS2017_Cross_CICIDS2018)\n",
    "rec_mic_pred_CICIDS2017_Cross_CICIDS2018 = recall_score(argmax_Y_test_CICIDS2018,argmax_pred_CICIDS2017_Cross_CICIDS2018, average = 'micro')\n",
    "print('Micro Test Recall CICIDS2017 cross CICIDS2018: %.3f' % rec_mic_pred_CICIDS2017_Cross_CICIDS2018)\n",
    "f1_mic_pred_CICIDS2017_Cross_CICIDS2018 = f1_score(argmax_Y_test_CICIDS2018,argmax_pred_CICIDS2017_Cross_CICIDS2018, average = 'micro')\n",
    "print('Micro Test F1 CICIDS2017 cross CICIDS2018: %.3f' % f1_mic_pred_CICIDS2017_Cross_CICIDS2018)"
   ]
  },
  {
   "cell_type": "code",
   "execution_count": 114,
   "id": "0275526f",
   "metadata": {},
   "outputs": [
    {
     "name": "stdout",
     "output_type": "stream",
     "text": [
      "24166/24166 [==============================] - 25s 1ms/step\n",
      "[[3.4033784e-04 0.0000000e+00 8.5563151e-24 9.9965966e-01]\n",
      " [6.1415234e-19 9.9999994e-01 0.0000000e+00 3.8732981e-31]\n",
      " [5.6770993e-19 9.9999994e-01 0.0000000e+00 3.9210488e-31]\n",
      " ...\n",
      " [9.9975902e-01 1.4517364e-37 1.9209808e-21 2.4098682e-04]\n",
      " [2.4305105e-03 9.9756950e-01 4.9396999e-17 1.0507823e-21]\n",
      " [1.5590890e-18 1.0000000e+00 0.0000000e+00 1.8493421e-30]]\n"
     ]
    }
   ],
   "source": [
    "pred_CICIDS2017_Cross_CICToNIoT = loaded_model_CICIDS2017.predict(X_CICToNIoT_test)\n",
    "print(pred_CICIDS2017_Cross_CICToNIoT)"
   ]
  },
  {
   "cell_type": "code",
   "execution_count": 115,
   "id": "149dbe8a",
   "metadata": {},
   "outputs": [
    {
     "name": "stdout",
     "output_type": "stream",
     "text": [
      "[3 1 1 ... 0 1 1]\n"
     ]
    }
   ],
   "source": [
    "argmax_pred_CICIDS2017_Cross_CICToNIoT = np.argmax(pred_CICIDS2017_Cross_CICToNIoT, axis=1)\n",
    "print(argmax_pred_CICIDS2017_Cross_CICToNIoT)"
   ]
  },
  {
   "cell_type": "code",
   "execution_count": 116,
   "id": "392405dc",
   "metadata": {},
   "outputs": [
    {
     "name": "stdout",
     "output_type": "stream",
     "text": [
      "Test Accuracy CICIDS2017 cross CICIDS2018: 0.879\n",
      "Macro Test Precision CICIDS2017 cross CICIDS2018: 0.397\n",
      "Macro Test Recall CICIDS2017 cross CICIDS2018: 0.304\n",
      "Macro Test F1 CICIDS2017 cross CICIDS2018: 0.324\n",
      "Micro Test Precision CICIDS2017 cross CICIDS2018: 0.879\n",
      "Micro Test Recall CICIDS2017 cross CICIDS2018: 0.879\n",
      "Micro Test F1 CICIDS2017 cross CICIDS2018: 0.879\n"
     ]
    }
   ],
   "source": [
    "acc_pred_CICIDS2017_Cross_CICToNIoT = accuracy_score(argmax_Y_test_CICToNIoT,argmax_pred_CICIDS2017_Cross_CICToNIoT)\n",
    "print('Test Accuracy CICIDS2017 cross CICToNIoT: %.3f' % acc_pred_CICIDS2017_Cross_CICToNIoT)\n",
    "pre_mac_pred_CICIDS2017_Cross_CICToNIoT = precision_score(argmax_Y_test_CICToNIoT,argmax_pred_CICIDS2017_Cross_CICToNIoT, average = 'macro')\n",
    "print('Macro Test Precision CICIDS2017 cross CICToNIoT: %.3f' % pre_mac_pred_CICIDS2017_Cross_CICToNIoT)\n",
    "rec_mac_pred_CICIDS2017_Cross_CICToNIoT = recall_score(argmax_Y_test_CICToNIoT,argmax_pred_CICIDS2017_Cross_CICToNIoT, average = 'macro')\n",
    "print('Macro Test Recall CICIDS2017 cross CICToNIoT: %.3f' % rec_mac_pred_CICIDS2017_Cross_CICToNIoT)\n",
    "f1_mac_pred_CICIDS2017_Cross_CICToNIoT = f1_score(argmax_Y_test_CICToNIoT,argmax_pred_CICIDS2017_Cross_CICToNIoT, average = 'macro')\n",
    "print('Macro Test F1 CICIDS2017 cross CICToNIoT: %.3f' % f1_mac_pred_CICIDS2017_Cross_CICToNIoT)\n",
    "pre_mic_pred_CICIDS2017_Cross_CICToNIoT = precision_score(argmax_Y_test_CICToNIoT,argmax_pred_CICIDS2017_Cross_CICToNIoT, average = 'micro')\n",
    "print('Micro Test Precision CICIDS2017 cross CICToNIoT: %.3f' % pre_mic_pred_CICIDS2017_Cross_CICToNIoT)\n",
    "rec_mic_pred_CICIDS2017_Cross_CICToNIoT = recall_score(argmax_Y_test_CICToNIoT,argmax_pred_CICIDS2017_Cross_CICToNIoT, average = 'micro')\n",
    "print('Micro Test Recall CICIDS2017 cross CICToNIoT: %.3f' % rec_mic_pred_CICIDS2017_Cross_CICToNIoT)\n",
    "f1_mic_pred_CICIDS2017_Cross_CICToNIoT = f1_score(argmax_Y_test_CICToNIoT,argmax_pred_CICIDS2017_Cross_CICToNIoT, average = 'micro')\n",
    "print('Micro Test F1 CICIDS2017 cross CICToNIoT: %.3f' % f1_mic_pred_CICIDS2017_Cross_CICToNIoT)"
   ]
  },
  {
   "cell_type": "code",
   "execution_count": 117,
   "id": "893db763",
   "metadata": {},
   "outputs": [
    {
     "name": "stdout",
     "output_type": "stream",
     "text": [
      "79859/79859 [==============================] - 115s 1ms/step\n",
      "[[9.9999994e-01 1.3146784e-11 2.7997048e-08 3.6835246e-17]\n",
      " [7.3996745e-19 9.9999994e-01 0.0000000e+00 2.3005905e-34]\n",
      " [9.9999696e-01 7.2558057e-09 2.9393700e-06 1.4640980e-12]\n",
      " ...\n",
      " [1.0000000e+00 1.1077504e-11 2.6774707e-08 5.9070404e-17]\n",
      " [9.9999893e-01 1.3545437e-17 1.1785053e-10 1.1039355e-06]\n",
      " [3.7398786e-16 1.0000000e+00 0.0000000e+00 1.9503344e-27]]\n"
     ]
    }
   ],
   "source": [
    "pred_CICIDS2017_Cross_CICBotIoT = loaded_model_CICIDS2017.predict(X_CICBotIoT_test)\n",
    "print(pred_CICIDS2017_Cross_CICBotIoT)"
   ]
  },
  {
   "cell_type": "code",
   "execution_count": 118,
   "id": "9e7b091f",
   "metadata": {},
   "outputs": [
    {
     "name": "stdout",
     "output_type": "stream",
     "text": [
      "[0 1 0 ... 0 0 1]\n"
     ]
    }
   ],
   "source": [
    "argmax_pred_CICIDS2017_Cross_CICBotIoT = np.argmax(pred_CICIDS2017_Cross_CICBotIoT, axis=1)\n",
    "print(argmax_pred_CICIDS2017_Cross_CICBotIoT)"
   ]
  },
  {
   "cell_type": "code",
   "execution_count": 120,
   "id": "da49f699",
   "metadata": {},
   "outputs": [
    {
     "name": "stdout",
     "output_type": "stream",
     "text": [
      "Test Accuracy CICIDS2017 cross CICBotIoT: 0.214\n",
      "Macro Test Precision CICIDS2017 cross CICBotIoT: 0.275\n",
      "Macro Test Recall CICIDS2017 cross CICBotIoT: 0.193\n",
      "Macro Test F1 CICIDS2017 cross CICBotIoT: 0.143\n",
      "Micro Test Precision CICIDS2017 cross CICBotIoT: 0.214\n",
      "Micro Test Recall CICIDS2017 cross CICBotIoT: 0.214\n",
      "Micro Test F1 CICIDS2017 cross CICBotIoT: 0.214\n"
     ]
    }
   ],
   "source": [
    "acc_pred_CICIDS2017_Cross_CICBotIoT = accuracy_score(argmax_Y_test_CICBotIoT,argmax_pred_CICIDS2017_Cross_CICBotIoT)\n",
    "print('Test Accuracy CICIDS2017 cross CICBotIoT: %.3f' % acc_pred_CICIDS2017_Cross_CICBotIoT)\n",
    "pre_mac_pred_CICIDS2017_Cross_CICBotIoT = precision_score(argmax_Y_test_CICBotIoT,argmax_pred_CICIDS2017_Cross_CICBotIoT, average = 'macro')\n",
    "print('Macro Test Precision CICIDS2017 cross CICBotIoT: %.3f' % pre_mac_pred_CICIDS2017_Cross_CICBotIoT)\n",
    "rec_mac_pred_CICIDS2017_Cross_CICBotIoT = recall_score(argmax_Y_test_CICBotIoT,argmax_pred_CICIDS2017_Cross_CICBotIoT, average = 'macro')\n",
    "print('Macro Test Recall CICIDS2017 cross CICBotIoT: %.3f' % rec_mac_pred_CICIDS2017_Cross_CICBotIoT)\n",
    "f1_mac_pred_CICIDS2017_Cross_CICBotIoT = f1_score(argmax_Y_test_CICBotIoT,argmax_pred_CICIDS2017_Cross_CICBotIoT, average = 'macro')\n",
    "print('Macro Test F1 CICIDS2017 cross CICBotIoT: %.3f' % f1_mac_pred_CICIDS2017_Cross_CICBotIoT)\n",
    "pre_mic_pred_CICIDS2017_Cross_CICBotIoT = precision_score(argmax_Y_test_CICBotIoT,argmax_pred_CICIDS2017_Cross_CICBotIoT, average = 'micro')\n",
    "print('Micro Test Precision CICIDS2017 cross CICBotIoT: %.3f' % pre_mic_pred_CICIDS2017_Cross_CICBotIoT)\n",
    "rec_mic_pred_CICIDS2017_Cross_CICBotIoT = recall_score(argmax_Y_test_CICBotIoT,argmax_pred_CICIDS2017_Cross_CICBotIoT, average = 'micro')\n",
    "print('Micro Test Recall CICIDS2017 cross CICBotIoT: %.3f' % rec_mic_pred_CICIDS2017_Cross_CICBotIoT)\n",
    "f1_mic_pred_CICIDS2017_Cross_CICBotIoT = f1_score(argmax_Y_test_CICBotIoT,argmax_pred_CICIDS2017_Cross_CICBotIoT, average = 'micro')\n",
    "print('Micro Test F1 CICIDS2017 cross CICBotIoT: %.3f' % f1_mic_pred_CICIDS2017_Cross_CICBotIoT)"
   ]
  },
  {
   "cell_type": "code",
   "execution_count": 121,
   "id": "2368075a",
   "metadata": {},
   "outputs": [
    {
     "name": "stdout",
     "output_type": "stream",
     "text": [
      "24002/24002 [==============================] - 44s 2ms/step\n",
      "[[9.9999994e-01 0.0000000e+00 0.0000000e+00 0.0000000e+00]\n",
      " [9.8686028e-01 1.3139660e-02 1.0268452e-09 1.2692263e-08]\n",
      " [9.5251340e-01 4.7486674e-02 1.1182410e-15 5.3190075e-27]\n",
      " ...\n",
      " [9.8369437e-01 1.5464693e-02 8.4092387e-04 1.2025973e-08]\n",
      " [9.9355656e-01 6.4387373e-03 4.7443027e-06 3.2289844e-09]\n",
      " [1.0289666e-01 6.8154940e-03 8.8987410e-01 4.1374165e-04]]\n"
     ]
    }
   ],
   "source": [
    "pred_CICIDS2018_Cross_CICIDS2017 = loaded_model_CICIDS2018.predict(X_CICIDS2017_test)\n",
    "print(pred_CICIDS2018_Cross_CICIDS2017)"
   ]
  },
  {
   "cell_type": "code",
   "execution_count": 122,
   "id": "8c4f799f",
   "metadata": {},
   "outputs": [
    {
     "name": "stdout",
     "output_type": "stream",
     "text": [
      "[0 0 0 ... 0 0 2]\n"
     ]
    }
   ],
   "source": [
    "argmax_pred_CICIDS2018_Cross_CICIDS2017 = np.argmax(pred_CICIDS2018_Cross_CICIDS2017, axis=1)\n",
    "print(argmax_pred_CICIDS2018_Cross_CICIDS2017)"
   ]
  },
  {
   "cell_type": "code",
   "execution_count": 123,
   "id": "76f8d8b7",
   "metadata": {},
   "outputs": [
    {
     "name": "stdout",
     "output_type": "stream",
     "text": [
      "Test Accuracy CICIDS2018 cross CICIDS2017: 0.839\n",
      "Macro Test Precision CICIDS2018 cross CICIDS2017: 0.227\n",
      "Macro Test Recall CICIDS2018 cross CICIDS2017: 0.336\n",
      "Macro Test F1 CICIDS2018 cross CICIDS2017: 0.234\n",
      "Micro Test Precision CICIDS2018 cross CICIDS2017: 0.839\n",
      "Micro Test Recall CICIDS2018 cross CICIDS2017: 0.839\n",
      "Micro Test F1 CICIDS2018 cross CICIDS2017: 0.839\n"
     ]
    }
   ],
   "source": [
    "acc_pred_CICIDS2018_Cross_CICIDS2017 = accuracy_score(argmax_Y_test_CICIDS2017,argmax_pred_CICIDS2018_Cross_CICIDS2017)\n",
    "print('Test Accuracy CICIDS2018 cross CICIDS2017: %.3f' % acc_pred_CICIDS2018_Cross_CICIDS2017)\n",
    "pre_mac_pred_CICIDS2018_Cross_CICIDS2017 = precision_score(argmax_Y_test_CICIDS2017,argmax_pred_CICIDS2018_Cross_CICIDS2017, average = 'macro')\n",
    "print('Macro Test Precision CICIDS2018 cross CICIDS2017: %.3f' % pre_mac_pred_CICIDS2018_Cross_CICIDS2017)\n",
    "rec_mac_pred_CICIDS2018_Cross_CICIDS2017 = recall_score(argmax_Y_test_CICIDS2017,argmax_pred_CICIDS2018_Cross_CICIDS2017, average = 'macro')\n",
    "print('Macro Test Recall CICIDS2018 cross CICIDS2017: %.3f' % rec_mac_pred_CICIDS2018_Cross_CICIDS2017)\n",
    "f1_mac_pred_CICIDS2018_Cross_CICIDS2017 = f1_score(argmax_Y_test_CICIDS2017,argmax_pred_CICIDS2018_Cross_CICIDS2017, average = 'macro')\n",
    "print('Macro Test F1 CICIDS2018 cross CICIDS2017: %.3f' % f1_mac_pred_CICIDS2018_Cross_CICIDS2017)\n",
    "pre_mic_pred_CICIDS2018_Cross_CICIDS2017 = precision_score(argmax_Y_test_CICIDS2017,argmax_pred_CICIDS2018_Cross_CICIDS2017, average = 'micro')\n",
    "print('Micro Test Precision CICIDS2018 cross CICIDS2017: %.3f' % pre_mic_pred_CICIDS2018_Cross_CICIDS2017)\n",
    "rec_mic_pred_CICIDS2018_Cross_CICIDS2017 = recall_score(argmax_Y_test_CICIDS2017,argmax_pred_CICIDS2018_Cross_CICIDS2017, average = 'micro')\n",
    "print('Micro Test Recall CICIDS2018 cross CICIDS2017: %.3f' % rec_mic_pred_CICIDS2018_Cross_CICIDS2017)\n",
    "f1_mic_pred_CICIDS2018_Cross_CICIDS2017 = f1_score(argmax_Y_test_CICIDS2017,argmax_pred_CICIDS2018_Cross_CICIDS2017, average = 'micro')\n",
    "print('Micro Test F1 CICIDS2018 cross CICIDS2017: %.3f' % f1_mic_pred_CICIDS2018_Cross_CICIDS2017)"
   ]
  },
  {
   "cell_type": "code",
   "execution_count": 124,
   "id": "1f181a1a",
   "metadata": {},
   "outputs": [
    {
     "name": "stdout",
     "output_type": "stream",
     "text": [
      "24166/24166 [==============================] - 39s 2ms/step\n",
      "[[9.9993128e-01 6.8662419e-05 4.1384554e-22 1.2829306e-12]\n",
      " [9.7293699e-01 2.7062973e-02 5.8705839e-11 2.2438558e-09]\n",
      " [9.8230338e-01 1.7696543e-02 9.6538298e-11 1.8189125e-09]\n",
      " ...\n",
      " [9.9844414e-01 1.5545589e-03 6.0046894e-15 1.3550430e-06]\n",
      " [9.7670740e-01 2.2618651e-02 6.7387853e-04 6.0294885e-19]\n",
      " [9.5274204e-01 4.7257934e-02 2.6087568e-10 7.0246755e-09]]\n"
     ]
    }
   ],
   "source": [
    "pred_CICIDS2018_Cross_CICToNIoT = loaded_model_CICIDS2018.predict(X_CICToNIoT_test)\n",
    "print(pred_CICIDS2018_Cross_CICToNIoT)"
   ]
  },
  {
   "cell_type": "code",
   "execution_count": 125,
   "id": "6e480061",
   "metadata": {},
   "outputs": [
    {
     "name": "stdout",
     "output_type": "stream",
     "text": [
      "[0 0 0 ... 0 0 0]\n"
     ]
    }
   ],
   "source": [
    "argmax_pred_CICIDS2018_Cross_CICToNIoT = np.argmax(pred_CICIDS2018_Cross_CICToNIoT, axis=1)\n",
    "print(argmax_pred_CICIDS2018_Cross_CICToNIoT)"
   ]
  },
  {
   "cell_type": "code",
   "execution_count": 126,
   "id": "00843b18",
   "metadata": {},
   "outputs": [
    {
     "name": "stdout",
     "output_type": "stream",
     "text": [
      "Test Accuracy CICIDS2018 cross CICToNIoT: 0.973\n",
      "Macro Test Precision CICIDS2018 cross CICToNIoT: 0.245\n",
      "Macro Test Recall CICIDS2018 cross CICToNIoT: 0.249\n",
      "Macro Test F1 CICIDS2018 cross CICToNIoT: 0.247\n",
      "Micro Test Precision CICIDS2018 cross CICToNIoT: 0.973\n",
      "Micro Test Recall CICIDS2018 cross CICToNIoT: 0.973\n",
      "Micro Test F1 CICIDS2018 cross CICToNIoT: 0.973\n"
     ]
    }
   ],
   "source": [
    "acc_pred_CICIDS2018_Cross_CICToNIoT = accuracy_score(argmax_Y_test_CICToNIoT,argmax_pred_CICIDS2018_Cross_CICToNIoT)\n",
    "print('Test Accuracy CICIDS2018 cross CICToNIoT: %.3f' % acc_pred_CICIDS2018_Cross_CICToNIoT)\n",
    "pre_mac_pred_CICIDS2018_Cross_CICToNIoT = precision_score(argmax_Y_test_CICToNIoT,argmax_pred_CICIDS2018_Cross_CICToNIoT, average = 'macro')\n",
    "print('Macro Test Precision CICIDS2018 cross CICToNIoT: %.3f' % pre_mac_pred_CICIDS2018_Cross_CICToNIoT)\n",
    "rec_mac_pred_CICIDS2018_Cross_CICToNIoT = recall_score(argmax_Y_test_CICToNIoT,argmax_pred_CICIDS2018_Cross_CICToNIoT, average = 'macro')\n",
    "print('Macro Test Recall CICIDS2018 cross CICToNIoT: %.3f' % rec_mac_pred_CICIDS2018_Cross_CICToNIoT)\n",
    "f1_mac_pred_CICIDS2018_Cross_CICToNIoT = f1_score(argmax_Y_test_CICToNIoT,argmax_pred_CICIDS2018_Cross_CICToNIoT, average = 'macro')\n",
    "print('Macro Test F1 CICIDS2018 cross CICToNIoT: %.3f' % f1_mac_pred_CICIDS2018_Cross_CICToNIoT)\n",
    "pre_mic_pred_CICIDS2018_Cross_CICToNIoT = precision_score(argmax_Y_test_CICToNIoT,argmax_pred_CICIDS2018_Cross_CICToNIoT, average = 'micro')\n",
    "print('Micro Test Precision CICIDS2018 cross CICToNIoT: %.3f' % pre_mic_pred_CICIDS2018_Cross_CICToNIoT)\n",
    "rec_mic_pred_CICIDS2018_Cross_CICToNIoT = recall_score(argmax_Y_test_CICToNIoT,argmax_pred_CICIDS2018_Cross_CICToNIoT, average = 'micro')\n",
    "print('Micro Test Recall CICIDS2018 cross CICToNIoT: %.3f' % rec_mic_pred_CICIDS2018_Cross_CICToNIoT)\n",
    "f1_mic_pred_CICIDS2018_Cross_CICToNIoT = f1_score(argmax_Y_test_CICToNIoT,argmax_pred_CICIDS2018_Cross_CICToNIoT, average = 'micro')\n",
    "print('Micro Test F1 CICIDS2018 cross CICToNIoT: %.3f' % f1_mic_pred_CICIDS2018_Cross_CICToNIoT)"
   ]
  },
  {
   "cell_type": "code",
   "execution_count": 127,
   "id": "20f88924",
   "metadata": {},
   "outputs": [
    {
     "name": "stdout",
     "output_type": "stream",
     "text": [
      "79859/79859 [==============================] - 129s 2ms/step\n",
      "[[9.9999994e-01 5.7406621e-21 0.0000000e+00 0.0000000e+00]\n",
      " [9.5147032e-01 4.8529632e-02 6.7264582e-37 0.0000000e+00]\n",
      " [9.9236751e-01 7.6323939e-03 1.2471398e-32 0.0000000e+00]\n",
      " ...\n",
      " [1.0000000e+00 1.3998407e-20 0.0000000e+00 0.0000000e+00]\n",
      " [1.0000000e+00 2.6799697e-15 0.0000000e+00 0.0000000e+00]\n",
      " [9.9963474e-01 3.6525939e-04 2.7274033e-23 0.0000000e+00]]\n"
     ]
    }
   ],
   "source": [
    "pred_CICIDS2018_Cross_CICBotIoT = loaded_model_CICIDS2018.predict(X_CICBotIoT_test)\n",
    "print(pred_CICIDS2018_Cross_CICBotIoT)"
   ]
  },
  {
   "cell_type": "code",
   "execution_count": 128,
   "id": "dac3e0d7",
   "metadata": {},
   "outputs": [
    {
     "name": "stdout",
     "output_type": "stream",
     "text": [
      "[0 0 0 ... 0 0 0]\n"
     ]
    }
   ],
   "source": [
    "argmax_pred_CICIDS2018_Cross_CICBotIoT = np.argmax(pred_CICIDS2018_Cross_CICBotIoT, axis=1)\n",
    "print(argmax_pred_CICIDS2018_Cross_CICBotIoT)"
   ]
  },
  {
   "cell_type": "code",
   "execution_count": 129,
   "id": "4a8372e9",
   "metadata": {},
   "outputs": [
    {
     "name": "stdout",
     "output_type": "stream",
     "text": [
      "Test Accuracy CICIDS2018 cross CICBotIoT: 0.128\n",
      "Macro Test Precision CICIDS2018 cross CICBotIoT: 0.212\n",
      "Macro Test Recall CICIDS2018 cross CICBotIoT: 0.228\n",
      "Macro Test F1 CICIDS2018 cross CICBotIoT: 0.087\n",
      "Micro Test Precision CICIDS2018 cross CICBotIoT: 0.128\n",
      "Micro Test Recall CICIDS2018 cross CICBotIoT: 0.128\n",
      "Micro Test F1 CICIDS2018 cross CICBotIoT: 0.128\n"
     ]
    }
   ],
   "source": [
    "acc_pred_CICIDS2018_Cross_CICBotIoT = accuracy_score(argmax_Y_test_CICBotIoT,argmax_pred_CICIDS2018_Cross_CICBotIoT)\n",
    "print('Test Accuracy CICIDS2018 cross CICBotIoT: %.3f' % acc_pred_CICIDS2018_Cross_CICBotIoT)\n",
    "pre_mac_pred_CICIDS2018_Cross_CICBotIoT = precision_score(argmax_Y_test_CICBotIoT,argmax_pred_CICIDS2018_Cross_CICBotIoT, average = 'macro')\n",
    "print('Macro Test Precision CICIDS2018 cross CICBotIoT: %.3f' % pre_mac_pred_CICIDS2018_Cross_CICBotIoT)\n",
    "rec_mac_pred_CICIDS2018_Cross_CICBotIoT = recall_score(argmax_Y_test_CICBotIoT,argmax_pred_CICIDS2018_Cross_CICBotIoT, average = 'macro')\n",
    "print('Macro Test Recall CICIDS2018 cross CICBotIoT: %.3f' % rec_mac_pred_CICIDS2018_Cross_CICBotIoT)\n",
    "f1_mac_pred_CICIDS2018_Cross_CICBotIoT = f1_score(argmax_Y_test_CICBotIoT,argmax_pred_CICIDS2018_Cross_CICBotIoT, average = 'macro')\n",
    "print('Macro Test F1 CICIDS2018 cross CICBotIoT: %.3f' % f1_mac_pred_CICIDS2018_Cross_CICBotIoT)\n",
    "pre_mic_pred_CICIDS2018_Cross_CICBotIoT = precision_score(argmax_Y_test_CICBotIoT,argmax_pred_CICIDS2018_Cross_CICBotIoT, average = 'micro')\n",
    "print('Micro Test Precision CICIDS2018 cross CICBotIoT: %.3f' % pre_mic_pred_CICIDS2018_Cross_CICBotIoT)\n",
    "rec_mic_pred_CICIDS2018_Cross_CICBotIoT = recall_score(argmax_Y_test_CICBotIoT,argmax_pred_CICIDS2018_Cross_CICBotIoT, average = 'micro')\n",
    "print('Micro Test Recall CICIDS2018 cross CICBotIoT: %.3f' % rec_mic_pred_CICIDS2018_Cross_CICBotIoT)\n",
    "f1_mic_pred_CICIDS2018_Cross_CICBotIoT = f1_score(argmax_Y_test_CICBotIoT,argmax_pred_CICIDS2018_Cross_CICBotIoT, average = 'micro')\n",
    "print('Micro Test F1 CICIDS2018 cross CICBotIoT: %.3f' % f1_mic_pred_CICIDS2018_Cross_CICBotIoT)"
   ]
  },
  {
   "cell_type": "code",
   "execution_count": 130,
   "id": "723f9bb2",
   "metadata": {},
   "outputs": [
    {
     "name": "stdout",
     "output_type": "stream",
     "text": [
      "24002/24002 [==============================] - 32s 1ms/step\n",
      "[[9.9999994e-01 3.3067610e-10 2.6497265e-08 1.1750114e-11]\n",
      " [9.9999791e-01 1.9832783e-06 1.7998291e-12 7.3951522e-17]\n",
      " [9.9971557e-01 2.7669340e-04 7.3926685e-06 3.1640403e-07]\n",
      " ...\n",
      " [5.6574911e-01 4.3425086e-01 1.6529948e-11 5.0419209e-14]\n",
      " [9.9953741e-02 9.0004623e-01 5.6449536e-11 2.9112980e-15]\n",
      " [1.4284070e-04 9.9985719e-01 3.1793673e-17 2.0295336e-26]]\n"
     ]
    }
   ],
   "source": [
    "pred_CICToNIoT_Cross_CICIDS2017 = loaded_model_CICToNIoT.predict(X_CICIDS2017_test)\n",
    "print(pred_CICToNIoT_Cross_CICIDS2017)"
   ]
  },
  {
   "cell_type": "code",
   "execution_count": 131,
   "id": "53946c5b",
   "metadata": {},
   "outputs": [
    {
     "name": "stdout",
     "output_type": "stream",
     "text": [
      "[0 0 0 ... 0 1 1]\n"
     ]
    }
   ],
   "source": [
    "argmax_pred_CICToNIoT_Cross_CICIDS2017 = np.argmax(pred_CICToNIoT_Cross_CICIDS2017, axis=1)\n",
    "print(argmax_pred_CICToNIoT_Cross_CICIDS2017)"
   ]
  },
  {
   "cell_type": "code",
   "execution_count": 132,
   "id": "a8ae48ad",
   "metadata": {},
   "outputs": [
    {
     "name": "stdout",
     "output_type": "stream",
     "text": [
      "Test Accuracy CICToNIoT cross CICIDS2017: 0.696\n",
      "Macro Test Precision CICToNIoT cross CICIDS2017: 0.215\n",
      "Macro Test Recall CICToNIoT cross CICIDS2017: 0.196\n",
      "Macro Test F1 CICToNIoT cross CICIDS2017: 0.205\n",
      "Micro Test Precision CICToNIoT cross CICIDS2017: 0.696\n",
      "Micro Test Recall CICToNIoT cross CICIDS2017: 0.696\n",
      "Micro Test F1 CICToNIoT cross CICIDS2017: 0.696\n"
     ]
    }
   ],
   "source": [
    "acc_pred_CICToNIoT_Cross_CICIDS2017 = accuracy_score(argmax_Y_test_CICIDS2017,argmax_pred_CICToNIoT_Cross_CICIDS2017)\n",
    "print('Test Accuracy CICToNIoT cross CICIDS2017: %.3f' % acc_pred_CICToNIoT_Cross_CICIDS2017)\n",
    "pre_mac_pred_CICToNIoT_Cross_CICIDS2017 = precision_score(argmax_Y_test_CICIDS2017,argmax_pred_CICToNIoT_Cross_CICIDS2017, average = 'macro')\n",
    "print('Macro Test Precision CICToNIoT cross CICIDS2017: %.3f' % pre_mac_pred_CICToNIoT_Cross_CICIDS2017)\n",
    "rec_mac_pred_CICToNIoT_Cross_CICIDS2017 = recall_score(argmax_Y_test_CICIDS2017,argmax_pred_CICToNIoT_Cross_CICIDS2017, average = 'macro')\n",
    "print('Macro Test Recall CICToNIoT cross CICIDS2017: %.3f' % rec_mac_pred_CICToNIoT_Cross_CICIDS2017)\n",
    "f1_mac_pred_CICToNIoT_Cross_CICIDS2017 = f1_score(argmax_Y_test_CICIDS2017,argmax_pred_CICToNIoT_Cross_CICIDS2017, average = 'macro')\n",
    "print('Macro Test F1 CICToNIoT cross CICIDS2017: %.3f' % f1_mac_pred_CICToNIoT_Cross_CICIDS2017)\n",
    "pre_mic_pred_CICToNIoT_Cross_CICIDS2017 = precision_score(argmax_Y_test_CICIDS2017,argmax_pred_CICToNIoT_Cross_CICIDS2017, average = 'micro')\n",
    "print('Micro Test Precision CICToNIoT cross CICIDS2017: %.3f' % pre_mic_pred_CICToNIoT_Cross_CICIDS2017)\n",
    "rec_mic_pred_CICToNIoT_Cross_CICIDS2017 = recall_score(argmax_Y_test_CICIDS2017,argmax_pred_CICToNIoT_Cross_CICIDS2017, average = 'micro')\n",
    "print('Micro Test Recall CICToNIoT cross CICIDS2017: %.3f' % rec_mic_pred_CICToNIoT_Cross_CICIDS2017)\n",
    "f1_mic_pred_CICToNIoT_Cross_CICIDS2017 = f1_score(argmax_Y_test_CICIDS2017,argmax_pred_CICToNIoT_Cross_CICIDS2017, average = 'micro')\n",
    "print('Micro Test F1 CICToNIoT cross CICIDS2017: %.3f' % f1_mic_pred_CICToNIoT_Cross_CICIDS2017)"
   ]
  },
  {
   "cell_type": "code",
   "execution_count": 133,
   "id": "1a7f2c3f",
   "metadata": {},
   "outputs": [
    {
     "name": "stdout",
     "output_type": "stream",
     "text": [
      "141572/141572 [==============================] - 230s 2ms/step\n",
      "[[9.99999940e-01 7.58055828e-34 3.26890327e-25 0.00000000e+00]\n",
      " [9.99999940e-01 1.32103543e-22 1.29704526e-17 6.07197924e-29]\n",
      " [9.99999940e-01 3.72672371e-21 2.55673613e-16 1.00521544e-25]\n",
      " ...\n",
      " [9.99999940e-01 1.96583668e-16 6.98855002e-11 1.46636789e-17]\n",
      " [9.99999940e-01 4.91706490e-16 1.56855667e-10 2.78447159e-17]\n",
      " [9.99999940e-01 5.23602442e-24 1.28648950e-18 1.21019908e-29]]\n"
     ]
    }
   ],
   "source": [
    "pred_CICToNIoT_Cross_CICIDS2018 = loaded_model_CICToNIoT.predict(X_CICIDS2018_test)\n",
    "print(pred_CICToNIoT_Cross_CICIDS2018)"
   ]
  },
  {
   "cell_type": "code",
   "execution_count": 134,
   "id": "2430fbc9",
   "metadata": {},
   "outputs": [
    {
     "name": "stdout",
     "output_type": "stream",
     "text": [
      "[0 0 0 ... 0 0 0]\n"
     ]
    }
   ],
   "source": [
    "argmax_pred_CICToNIoT_Cross_CICIDS2018 = np.argmax(pred_CICToNIoT_Cross_CICIDS2018, axis=1)\n",
    "print(argmax_pred_CICToNIoT_Cross_CICIDS2018)"
   ]
  },
  {
   "cell_type": "code",
   "execution_count": 135,
   "id": "d1abd518",
   "metadata": {},
   "outputs": [
    {
     "name": "stdout",
     "output_type": "stream",
     "text": [
      "Test Accuracy CICToNIoT cross CICIDS2018: 0.877\n",
      "Macro Test Precision CICToNIoT cross CICIDS2018: 0.225\n",
      "Macro Test Recall CICToNIoT cross CICIDS2018: 0.248\n",
      "Macro Test F1 CICToNIoT cross CICIDS2018: 0.236\n",
      "Micro Test Precision CICToNIoT cross CICIDS2018: 0.877\n",
      "Micro Test Recall CICToNIoT cross CICIDS2018: 0.877\n",
      "Micro Test F1 CICToNIoT cross CICIDS2018: 0.877\n"
     ]
    }
   ],
   "source": [
    "acc_pred_CICToNIoT_Cross_CICIDS2018 = accuracy_score(argmax_Y_test_CICIDS2018,argmax_pred_CICToNIoT_Cross_CICIDS2018)\n",
    "print('Test Accuracy CICToNIoT cross CICIDS2018: %.3f' % acc_pred_CICToNIoT_Cross_CICIDS2018)\n",
    "pre_mac_pred_CICToNIoT_Cross_CICIDS2018 = precision_score(argmax_Y_test_CICIDS2018,argmax_pred_CICToNIoT_Cross_CICIDS2018, average = 'macro')\n",
    "print('Macro Test Precision CICToNIoT cross CICIDS2018: %.3f' % pre_mac_pred_CICToNIoT_Cross_CICIDS2018)\n",
    "rec_mac_pred_CICToNIoT_Cross_CICIDS2018 = recall_score(argmax_Y_test_CICIDS2018,argmax_pred_CICToNIoT_Cross_CICIDS2018, average = 'macro')\n",
    "print('Macro Test Recall CICToNIoT cross CICIDS2018: %.3f' % rec_mac_pred_CICToNIoT_Cross_CICIDS2018)\n",
    "f1_mac_pred_CICToNIoT_Cross_CICIDS2018 = f1_score(argmax_Y_test_CICIDS2018,argmax_pred_CICToNIoT_Cross_CICIDS2018, average = 'macro')\n",
    "print('Macro Test F1 CICToNIoT cross CICIDS2018: %.3f' % f1_mac_pred_CICToNIoT_Cross_CICIDS2018)\n",
    "pre_mic_pred_CICToNIoT_Cross_CICIDS2018 = precision_score(argmax_Y_test_CICIDS2018,argmax_pred_CICToNIoT_Cross_CICIDS2018, average = 'micro')\n",
    "print('Micro Test Precision CICToNIoT cross CICIDS2018: %.3f' % pre_mic_pred_CICToNIoT_Cross_CICIDS2018)\n",
    "rec_mic_pred_CICToNIoT_Cross_CICIDS2018 = recall_score(argmax_Y_test_CICIDS2018,argmax_pred_CICToNIoT_Cross_CICIDS2018, average = 'micro')\n",
    "print('Micro Test Recall CICToNIoT cross CICIDS2018: %.3f' % rec_mic_pred_CICToNIoT_Cross_CICIDS2018)\n",
    "f1_mic_pred_CICToNIoT_Cross_CICIDS2018 = f1_score(argmax_Y_test_CICIDS2018,argmax_pred_CICToNIoT_Cross_CICIDS2018, average = 'micro')\n",
    "print('Micro Test F1 CICToNIoT cross CICIDS2018: %.3f' % f1_mic_pred_CICToNIoT_Cross_CICIDS2018)"
   ]
  },
  {
   "cell_type": "code",
   "execution_count": 136,
   "id": "f5669410",
   "metadata": {},
   "outputs": [
    {
     "name": "stdout",
     "output_type": "stream",
     "text": [
      "79859/79859 [==============================] - 128s 2ms/step\n",
      "[[9.9978971e-01 2.1029895e-04 1.9707420e-13 7.5598208e-19]\n",
      " [9.9999994e-01 2.5544770e-29 1.5773443e-21 1.6287514e-34]\n",
      " [9.9908698e-01 7.1283244e-04 1.8547612e-04 1.4807407e-05]\n",
      " ...\n",
      " [9.9955350e-01 4.4650474e-04 1.7501419e-13 9.5855375e-19]\n",
      " [9.9999917e-01 1.0164748e-09 8.5573112e-07 1.7951831e-11]\n",
      " [1.0000000e+00 3.1989966e-09 1.4520645e-14 1.2673418e-18]]\n"
     ]
    }
   ],
   "source": [
    "pred_CICToNIoT_Cross_CICBotIoT = loaded_model_CICToNIoT.predict(X_CICBotIoT_test)\n",
    "print(pred_CICToNIoT_Cross_CICBotIoT)"
   ]
  },
  {
   "cell_type": "code",
   "execution_count": 137,
   "id": "4c9e3262",
   "metadata": {},
   "outputs": [
    {
     "name": "stdout",
     "output_type": "stream",
     "text": [
      "[0 0 0 ... 0 0 0]\n"
     ]
    }
   ],
   "source": [
    "argmax_pred_CICToNIoT_Cross_CICBotIoT = np.argmax(pred_CICToNIoT_Cross_CICBotIoT, axis=1)\n",
    "print(argmax_pred_CICToNIoT_Cross_CICBotIoT)"
   ]
  },
  {
   "cell_type": "code",
   "execution_count": 138,
   "id": "00e5e6e2",
   "metadata": {},
   "outputs": [
    {
     "name": "stdout",
     "output_type": "stream",
     "text": [
      "Test Accuracy CICToNIoT cross CICBotIoT: 0.054\n",
      "Macro Test Precision CICToNIoT cross CICBotIoT: 0.227\n",
      "Macro Test Recall CICToNIoT cross CICBotIoT: 0.257\n",
      "Macro Test F1 CICToNIoT cross CICBotIoT: 0.050\n",
      "Micro Test Precision CICToNIoT cross CICBotIoT: 0.054\n",
      "Micro Test Recall CICToNIoT cross CICBotIoT: 0.054\n",
      "Micro Test F1 CICToNIoT cross CICBotIoT: 0.054\n"
     ]
    }
   ],
   "source": [
    "acc_pred_CICToNIoT_Cross_CICBotIoT = accuracy_score(argmax_Y_test_CICBotIoT,argmax_pred_CICToNIoT_Cross_CICBotIoT)\n",
    "print('Test Accuracy CICToNIoT cross CICBotIoT: %.3f' % acc_pred_CICToNIoT_Cross_CICBotIoT)\n",
    "pre_mac_pred_CICToNIoT_Cross_CICBotIoT = precision_score(argmax_Y_test_CICBotIoT,argmax_pred_CICToNIoT_Cross_CICBotIoT, average = 'macro')\n",
    "print('Macro Test Precision CICToNIoT cross CICBotIoT: %.3f' % pre_mac_pred_CICToNIoT_Cross_CICBotIoT)\n",
    "rec_mac_pred_CICToNIoT_Cross_CICBotIoT = recall_score(argmax_Y_test_CICBotIoT,argmax_pred_CICToNIoT_Cross_CICBotIoT, average = 'macro')\n",
    "print('Macro Test Recall CICToNIoT cross CICBotIoT: %.3f' % rec_mac_pred_CICToNIoT_Cross_CICBotIoT)\n",
    "f1_mac_pred_CICToNIoT_Cross_CICBotIoT = f1_score(argmax_Y_test_CICBotIoT,argmax_pred_CICToNIoT_Cross_CICBotIoT, average = 'macro')\n",
    "print('Macro Test F1 CICToNIoT cross CICBotIoT: %.3f' % f1_mac_pred_CICToNIoT_Cross_CICBotIoT)\n",
    "pre_mic_pred_CICToNIoT_Cross_CICBotIoT = precision_score(argmax_Y_test_CICBotIoT,argmax_pred_CICToNIoT_Cross_CICBotIoT, average = 'micro')\n",
    "print('Micro Test Precision CICToNIoT cross CICBotIoT: %.3f' % pre_mic_pred_CICToNIoT_Cross_CICBotIoT)\n",
    "rec_mic_pred_CICToNIoT_Cross_CICBotIoT = recall_score(argmax_Y_test_CICBotIoT,argmax_pred_CICToNIoT_Cross_CICBotIoT, average = 'micro')\n",
    "print('Micro Test Recall CICToNIoT cross CICBotIoT: %.3f' % rec_mic_pred_CICToNIoT_Cross_CICBotIoT)\n",
    "f1_mic_pred_CICToNIoT_Cross_CICBotIoT = f1_score(argmax_Y_test_CICBotIoT,argmax_pred_CICToNIoT_Cross_CICBotIoT, average = 'micro')\n",
    "print('Micro Test F1 CICToNIoT cross CICBotIoT: %.3f' % f1_mic_pred_CICToNIoT_Cross_CICBotIoT)"
   ]
  },
  {
   "cell_type": "code",
   "execution_count": 139,
   "id": "42394d16",
   "metadata": {},
   "outputs": [
    {
     "name": "stdout",
     "output_type": "stream",
     "text": [
      "24002/24002 [==============================] - 41s 2ms/step\n",
      "[[1.0661808e-12 7.2700167e-01 7.7994123e-08 2.7299821e-01]\n",
      " [3.8485166e-03 9.9606067e-01 2.2818249e-05 6.8015208e-05]\n",
      " [2.8620954e-04 6.1903417e-01 1.5917803e-03 3.7908792e-01]\n",
      " ...\n",
      " [4.3105975e-02 2.9739904e-01 6.8620034e-03 6.5263301e-01]\n",
      " [9.8867726e-01 6.0817245e-03 2.7782691e-04 4.9632569e-03]\n",
      " [9.6511704e-01 3.2351088e-02 6.6495466e-04 1.8669569e-03]]\n"
     ]
    }
   ],
   "source": [
    "pred_CICBotIoT_Cross_CICIDS2017 = loaded_model_CICBotIoT.predict(X_CICIDS2017_test)\n",
    "print(pred_CICBotIoT_Cross_CICIDS2017)"
   ]
  },
  {
   "cell_type": "code",
   "execution_count": 140,
   "id": "d502af11",
   "metadata": {},
   "outputs": [
    {
     "name": "stdout",
     "output_type": "stream",
     "text": [
      "[1 1 1 ... 3 0 0]\n"
     ]
    }
   ],
   "source": [
    "argmax_pred_CICBotIoT_Cross_CICIDS2017 = np.argmax(pred_CICBotIoT_Cross_CICIDS2017, axis=1)\n",
    "print(argmax_pred_CICBotIoT_Cross_CICIDS2017)"
   ]
  },
  {
   "cell_type": "code",
   "execution_count": 141,
   "id": "a578a7e7",
   "metadata": {},
   "outputs": [
    {
     "name": "stdout",
     "output_type": "stream",
     "text": [
      "Test Accuracy CICBotIoT cross CICIDS2017: 0.165\n",
      "Macro Test Precision CICBotIoT cross CICIDS2017: 0.224\n",
      "Macro Test Recall CICBotIoT cross CICIDS2017: 0.140\n",
      "Macro Test F1 CICBotIoT cross CICIDS2017: 0.091\n",
      "Micro Test Precision CICBotIoT cross CICIDS2017: 0.165\n",
      "Micro Test Recall CICBotIoT cross CICIDS2017: 0.165\n",
      "Micro Test F1 CICBotIoT cross CICIDS2017: 0.165\n"
     ]
    }
   ],
   "source": [
    "acc_pred_CICBotIoT_Cross_CICIDS2017 = accuracy_score(argmax_Y_test_CICIDS2017,argmax_pred_CICBotIoT_Cross_CICIDS2017)\n",
    "print('Test Accuracy CICBotIoT cross CICIDS2017: %.3f' % acc_pred_CICBotIoT_Cross_CICIDS2017)\n",
    "pre_mac_pred_CICBotIoT_Cross_CICIDS2017 = precision_score(argmax_Y_test_CICIDS2017,argmax_pred_CICBotIoT_Cross_CICIDS2017, average = 'macro')\n",
    "print('Macro Test Precision CICBotIoT cross CICIDS2017: %.3f' % pre_mac_pred_CICBotIoT_Cross_CICIDS2017)\n",
    "rec_mac_pred_CICBotIoT_Cross_CICIDS2017 = recall_score(argmax_Y_test_CICIDS2017,argmax_pred_CICBotIoT_Cross_CICIDS2017, average = 'macro')\n",
    "print('Macro Test Recall CICBotIoT cross CICIDS2017: %.3f' % rec_mac_pred_CICBotIoT_Cross_CICIDS2017)\n",
    "f1_mac_pred_CICBotIoT_Cross_CICIDS2017 = f1_score(argmax_Y_test_CICIDS2017,argmax_pred_CICBotIoT_Cross_CICIDS2017, average = 'macro')\n",
    "print('Macro Test F1 CICBotIoT cross CICIDS2017: %.3f' % f1_mac_pred_CICBotIoT_Cross_CICIDS2017)\n",
    "pre_mic_pred_CICBotIoT_Cross_CICIDS2017 = precision_score(argmax_Y_test_CICIDS2017,argmax_pred_CICBotIoT_Cross_CICIDS2017, average = 'micro')\n",
    "print('Micro Test Precision CICBotIoT cross CICIDS2017: %.3f' % pre_mic_pred_CICBotIoT_Cross_CICIDS2017)\n",
    "rec_mic_pred_CICBotIoT_Cross_CICIDS2017 = recall_score(argmax_Y_test_CICIDS2017,argmax_pred_CICBotIoT_Cross_CICIDS2017, average = 'micro')\n",
    "print('Micro Test Recall CICBotIoT cross CICIDS2017: %.3f' % rec_mic_pred_CICBotIoT_Cross_CICIDS2017)\n",
    "f1_mic_pred_CICBotIoT_Cross_CICIDS2017 = f1_score(argmax_Y_test_CICIDS2017,argmax_pred_CICBotIoT_Cross_CICIDS2017, average = 'micro')\n",
    "print('Micro Test F1 CICBotIoT cross CICIDS2017: %.3f' % f1_mic_pred_CICBotIoT_Cross_CICIDS2017)"
   ]
  },
  {
   "cell_type": "code",
   "execution_count": 142,
   "id": "bdb2a002",
   "metadata": {},
   "outputs": [
    {
     "name": "stdout",
     "output_type": "stream",
     "text": [
      "141572/141572 [==============================] - 218s 2ms/step\n",
      "[[1.03920974e-01 8.94622624e-01 1.31679396e-03 1.39612384e-04]\n",
      " [1.14788723e-04 3.89965087e-01 1.10503368e-03 6.08815074e-01]\n",
      " [3.17083985e-01 6.81869268e-01 8.32895923e-04 2.13858249e-04]\n",
      " ...\n",
      " [1.19173178e-03 4.59062168e-03 1.13290378e-04 9.94104326e-01]\n",
      " [3.86305572e-03 3.68030346e-03 1.01878570e-04 9.92354751e-01]\n",
      " [4.91136732e-03 9.95062828e-01 1.20473060e-05 1.37622474e-05]]\n"
     ]
    }
   ],
   "source": [
    "pred_CICBotIoT_Cross_CICIDS2018 = loaded_model_CICBotIoT.predict(X_CICIDS2018_test)\n",
    "print(pred_CICBotIoT_Cross_CICIDS2018)"
   ]
  },
  {
   "cell_type": "code",
   "execution_count": 143,
   "id": "3a443235",
   "metadata": {},
   "outputs": [
    {
     "name": "stdout",
     "output_type": "stream",
     "text": [
      "[1 3 1 ... 3 3 1]\n"
     ]
    }
   ],
   "source": [
    "argmax_pred_CICBotIoT_Cross_CICIDS2018 = np.argmax(pred_CICBotIoT_Cross_CICIDS2018, axis=1)\n",
    "print(argmax_pred_CICBotIoT_Cross_CICIDS2018)"
   ]
  },
  {
   "cell_type": "code",
   "execution_count": 144,
   "id": "f7252aa3",
   "metadata": {},
   "outputs": [
    {
     "name": "stdout",
     "output_type": "stream",
     "text": [
      "Test Accuracy CICBotIoT cross CICIDS2018: 0.159\n",
      "Macro Test Precision CICBotIoT cross CICIDS2018: 0.255\n",
      "Macro Test Recall CICBotIoT cross CICIDS2018: 0.319\n",
      "Macro Test F1 CICBotIoT cross CICIDS2018: 0.102\n",
      "Micro Test Precision CICBotIoT cross CICIDS2018: 0.159\n",
      "Micro Test Recall CICBotIoT cross CICIDS2018: 0.159\n",
      "Micro Test F1 CICBotIoT cross CICIDS2018: 0.159\n"
     ]
    }
   ],
   "source": [
    "acc_pred_CICBotIoT_Cross_CICIDS2018 = accuracy_score(argmax_Y_test_CICIDS2018,argmax_pred_CICBotIoT_Cross_CICIDS2018)\n",
    "print('Test Accuracy CICBotIoT cross CICIDS2018: %.3f' % acc_pred_CICBotIoT_Cross_CICIDS2018)\n",
    "pre_mac_pred_CICBotIoT_Cross_CICIDS2018 = precision_score(argmax_Y_test_CICIDS2018,argmax_pred_CICBotIoT_Cross_CICIDS2018, average = 'macro')\n",
    "print('Macro Test Precision CICBotIoT cross CICIDS2018: %.3f' % pre_mac_pred_CICBotIoT_Cross_CICIDS2018)\n",
    "rec_mac_pred_CICBotIoT_Cross_CICIDS2018 = recall_score(argmax_Y_test_CICIDS2018,argmax_pred_CICBotIoT_Cross_CICIDS2018, average = 'macro')\n",
    "print('Macro Test Recall CICBotIoT cross CICIDS2018: %.3f' % rec_mac_pred_CICBotIoT_Cross_CICIDS2018)\n",
    "f1_mac_pred_CICBotIoT_Cross_CICIDS2018 = f1_score(argmax_Y_test_CICIDS2018,argmax_pred_CICBotIoT_Cross_CICIDS2018, average = 'macro')\n",
    "print('Macro Test F1 CICBotIoT cross CICIDS2018: %.3f' % f1_mac_pred_CICBotIoT_Cross_CICIDS2018)\n",
    "pre_mic_pred_CICBotIoT_Cross_CICIDS2018 = precision_score(argmax_Y_test_CICIDS2018,argmax_pred_CICBotIoT_Cross_CICIDS2018, average = 'micro')\n",
    "print('Micro Test Precision CICBotIoT cross CICIDS2018: %.3f' % pre_mic_pred_CICBotIoT_Cross_CICIDS2018)\n",
    "rec_mic_pred_CICBotIoT_Cross_CICIDS2018 = recall_score(argmax_Y_test_CICIDS2018,argmax_pred_CICBotIoT_Cross_CICIDS2018, average = 'micro')\n",
    "print('Micro Test Recall CICBotIoT cross CICIDS2018: %.3f' % rec_mic_pred_CICBotIoT_Cross_CICIDS2018)\n",
    "f1_mic_pred_CICBotIoT_Cross_CICIDS2018 = f1_score(argmax_Y_test_CICIDS2018,argmax_pred_CICBotIoT_Cross_CICIDS2018, average = 'micro')\n",
    "print('Micro Test F1 CICBotIoT cross CICIDS2018: %.3f' % f1_mic_pred_CICBotIoT_Cross_CICIDS2018)"
   ]
  },
  {
   "cell_type": "code",
   "execution_count": 145,
   "id": "1018cfb7",
   "metadata": {},
   "outputs": [
    {
     "name": "stdout",
     "output_type": "stream",
     "text": [
      "24166/24166 [==============================] - 31s 1ms/step\n",
      "[[1.69748424e-10 2.99289732e-05 5.85658366e-09 9.99970019e-01]\n",
      " [8.15133972e-04 8.43321443e-01 5.41567395e-04 1.55321971e-01]\n",
      " [4.92941309e-03 9.85013783e-01 1.82614895e-03 8.23060423e-03]\n",
      " ...\n",
      " [1.24896253e-08 1.29066117e-03 1.04204969e-06 9.98708248e-01]\n",
      " [1.25169195e-02 7.84502149e-01 1.25066936e-03 2.01730311e-01]\n",
      " [7.19018044e-06 5.95876127e-02 4.81892675e-05 9.40357029e-01]]\n"
     ]
    }
   ],
   "source": [
    "pred_CICBotIoT_Cross_CICToNIoT = loaded_model_CICBotIoT.predict(X_CICToNIoT_test)\n",
    "print(pred_CICBotIoT_Cross_CICToNIoT)"
   ]
  },
  {
   "cell_type": "code",
   "execution_count": 147,
   "id": "56228ec5",
   "metadata": {},
   "outputs": [
    {
     "name": "stdout",
     "output_type": "stream",
     "text": [
      "[3 1 1 ... 3 1 3]\n"
     ]
    }
   ],
   "source": [
    "argmax_pred_CICBoTIoT_Cross_CICToNIoT = np.argmax(pred_CICBotIoT_Cross_CICToNIoT, axis=1)\n",
    "print(argmax_pred_CICBoTIoT_Cross_CICToNIoT)"
   ]
  },
  {
   "cell_type": "code",
   "execution_count": 150,
   "id": "94c670c5",
   "metadata": {},
   "outputs": [
    {
     "name": "stdout",
     "output_type": "stream",
     "text": [
      "Test Accuracy CICBotIoT cross CICToNIoT: 0.167\n",
      "Macro Test Precision CICBotIoT cross CICToNIoT: 0.253\n",
      "Macro Test Recall CICBotIoT cross CICToNIoT: 0.382\n",
      "Macro Test F1 CICBotIoT cross CICToNIoT: 0.078\n",
      "Micro Test Precision CICBotIoT cross CICToNIoT: 0.167\n",
      "Micro Test Recall CICBotIoT cross CICToNIoT: 0.167\n",
      "Micro Test F1 CICBotIoT cross CICToNIoT: 0.167\n"
     ]
    }
   ],
   "source": [
    "acc_pred_CICBotIoT_Cross_CICToNIoT = accuracy_score(argmax_Y_test_CICToNIoT,argmax_pred_CICBoTIoT_Cross_CICToNIoT)\n",
    "print('Test Accuracy CICBotIoT cross CICToNIoT: %.3f' % acc_pred_CICBotIoT_Cross_CICToNIoT)\n",
    "pre_mac_pred_CICBotIoT_Cross_CICToNIoT = precision_score(argmax_Y_test_CICToNIoT,argmax_pred_CICBoTIoT_Cross_CICToNIoT, average = 'macro')\n",
    "print('Macro Test Precision CICBotIoT cross CICToNIoT: %.3f' % pre_mac_pred_CICBotIoT_Cross_CICToNIoT)\n",
    "rec_mac_pred_CICBotIoT_Cross_CICToNIoT = recall_score(argmax_Y_test_CICToNIoT,argmax_pred_CICBoTIoT_Cross_CICToNIoT, average = 'macro')\n",
    "print('Macro Test Recall CICBotIoT cross CICToNIoT: %.3f' % rec_mac_pred_CICBotIoT_Cross_CICToNIoT)\n",
    "f1_mac_pred_CICBotIoT_Cross_CICToNIoT = f1_score(argmax_Y_test_CICToNIoT,argmax_pred_CICBoTIoT_Cross_CICToNIoT, average = 'macro')\n",
    "print('Macro Test F1 CICBotIoT cross CICToNIoT: %.3f' % f1_mac_pred_CICBotIoT_Cross_CICToNIoT)\n",
    "pre_mic_pred_CICBotIoT_Cross_CICToNIoT = precision_score(argmax_Y_test_CICToNIoT,argmax_pred_CICBoTIoT_Cross_CICToNIoT, average = 'micro')\n",
    "print('Micro Test Precision CICBotIoT cross CICToNIoT: %.3f' % pre_mic_pred_CICBotIoT_Cross_CICToNIoT)\n",
    "rec_mic_pred_CICBotIoT_Cross_CICToNIoT = recall_score(argmax_Y_test_CICToNIoT,argmax_pred_CICBoTIoT_Cross_CICToNIoT, average = 'micro')\n",
    "print('Micro Test Recall CICBotIoT cross CICToNIoT: %.3f' % rec_mic_pred_CICBotIoT_Cross_CICToNIoT)\n",
    "f1_mic_pred_CICBotIoT_Cross_CICToNIoT = f1_score(argmax_Y_test_CICToNIoT,argmax_pred_CICBoTIoT_Cross_CICToNIoT, average = 'micro')\n",
    "print('Micro Test F1 CICBotIoT cross CICToNIoT: %.3f' % f1_mic_pred_CICBotIoT_Cross_CICToNIoT)"
   ]
  },
  {
   "cell_type": "code",
   "execution_count": null,
   "id": "92fe67d5",
   "metadata": {},
   "outputs": [],
   "source": []
  }
 ],
 "metadata": {
  "kernelspec": {
   "display_name": "Python 3 (ipykernel)",
   "language": "python",
   "name": "python3"
  },
  "language_info": {
   "codemirror_mode": {
    "name": "ipython",
    "version": 3
   },
   "file_extension": ".py",
   "mimetype": "text/x-python",
   "name": "python",
   "nbconvert_exporter": "python",
   "pygments_lexer": "ipython3",
   "version": "3.10.12"
  }
 },
 "nbformat": 4,
 "nbformat_minor": 5
}
