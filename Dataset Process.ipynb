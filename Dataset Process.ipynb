{
 "cells": [
  {
   "cell_type": "code",
   "execution_count": 1,
   "id": "ab74a916",
   "metadata": {},
   "outputs": [],
   "source": [
    "import pandas as pd\n",
    "import numpy as np"
   ]
  },
  {
   "cell_type": "code",
   "execution_count": 2,
   "id": "8f7e8d0c",
   "metadata": {},
   "outputs": [],
   "source": [
    "df_CICIDS2017 = pd.read_csv('/home/administrator/dataset/coordinated_attack_cicids2017.csv')"
   ]
  },
  {
   "cell_type": "code",
   "execution_count": 3,
   "id": "74f49f6e",
   "metadata": {},
   "outputs": [],
   "source": [
    "from sklearn.model_selection import train_test_split"
   ]
  },
  {
   "cell_type": "code",
   "execution_count": 4,
   "id": "795f9c50",
   "metadata": {},
   "outputs": [],
   "source": [
    "train_CICIDS2017, test_CICIDS2017 = train_test_split(df_CICIDS2017, test_size=0.3, random_state=100)"
   ]
  },
  {
   "cell_type": "code",
   "execution_count": 5,
   "id": "3e9a1f91",
   "metadata": {},
   "outputs": [],
   "source": [
    "pd.DataFrame(train_CICIDS2017).to_csv(\"./train_CICIDS2017.csv\", index=False)\n",
    "pd.DataFrame(test_CICIDS2017).to_csv(\"./test_CICIDS2017.csv\", index=False)"
   ]
  },
  {
   "cell_type": "code",
   "execution_count": 9,
   "id": "b20c6b34",
   "metadata": {},
   "outputs": [
    {
     "name": "stdout",
     "output_type": "stream",
     "text": [
      "<class 'pandas.core.frame.DataFrame'>\n",
      "RangeIndex: 1792098 entries, 0 to 1792097\n",
      "Data columns (total 78 columns):\n",
      " #   Column                       Non-Null Count    Dtype  \n",
      "---  ------                       --------------    -----  \n",
      " 0   Destination Port             1792098 non-null  int64  \n",
      " 1   Flow Duration                1792098 non-null  int64  \n",
      " 2   Total Fwd Packets            1792098 non-null  int64  \n",
      " 3   Total Backward Packets       1792098 non-null  int64  \n",
      " 4   Total Length of Fwd Packets  1792098 non-null  int64  \n",
      " 5   Total Length of Bwd Packets  1792098 non-null  int64  \n",
      " 6   Fwd Packet Length Max        1792098 non-null  int64  \n",
      " 7   Fwd Packet Length Min        1792098 non-null  int64  \n",
      " 8   Fwd Packet Length Mean       1792098 non-null  float64\n",
      " 9   Fwd Packet Length Std        1792098 non-null  float64\n",
      " 10  Bwd Packet Length Max        1792098 non-null  int64  \n",
      " 11  Bwd Packet Length Min        1792098 non-null  int64  \n",
      " 12  Bwd Packet Length Mean       1792098 non-null  float64\n",
      " 13  Bwd Packet Length Std        1792098 non-null  float64\n",
      " 14  Flow Bytes/s                 1792098 non-null  float64\n",
      " 15  Flow Packets/s               1792098 non-null  float64\n",
      " 16  Flow IAT Mean                1792098 non-null  float64\n",
      " 17  Flow IAT Std                 1792098 non-null  float64\n",
      " 18  Flow IAT Max                 1792098 non-null  int64  \n",
      " 19  Flow IAT Min                 1792098 non-null  int64  \n",
      " 20  Fwd IAT Total                1792098 non-null  int64  \n",
      " 21  Fwd IAT Mean                 1792098 non-null  float64\n",
      " 22  Fwd IAT Std                  1792098 non-null  float64\n",
      " 23  Fwd IAT Max                  1792098 non-null  int64  \n",
      " 24  Fwd IAT Min                  1792098 non-null  int64  \n",
      " 25  Bwd IAT Total                1792098 non-null  int64  \n",
      " 26  Bwd IAT Mean                 1792098 non-null  float64\n",
      " 27  Bwd IAT Std                  1792098 non-null  float64\n",
      " 28  Bwd IAT Max                  1792098 non-null  int64  \n",
      " 29  Bwd IAT Min                  1792098 non-null  int64  \n",
      " 30  Fwd PSH Flags                1792098 non-null  int64  \n",
      " 31  Bwd PSH Flags                1792098 non-null  int64  \n",
      " 32  Fwd URG Flags                1792098 non-null  int64  \n",
      " 33  Bwd URG Flags                1792098 non-null  int64  \n",
      " 34  Fwd Header Length            1792098 non-null  int64  \n",
      " 35  Bwd Header Length            1792098 non-null  int64  \n",
      " 36  Fwd Packets/s                1792098 non-null  float64\n",
      " 37  Bwd Packets/s                1792098 non-null  float64\n",
      " 38  Min Packet Length            1792098 non-null  int64  \n",
      " 39  Max Packet Length            1792098 non-null  int64  \n",
      " 40  Packet Length Mean           1792098 non-null  float64\n",
      " 41  Packet Length Std            1792098 non-null  float64\n",
      " 42  Packet Length Variance       1792098 non-null  float64\n",
      " 43  FIN Flag Count               1792098 non-null  int64  \n",
      " 44  SYN Flag Count               1792098 non-null  int64  \n",
      " 45  RST Flag Count               1792098 non-null  int64  \n",
      " 46  PSH Flag Count               1792098 non-null  int64  \n",
      " 47  ACK Flag Count               1792098 non-null  int64  \n",
      " 48  URG Flag Count               1792098 non-null  int64  \n",
      " 49  CWE Flag Count               1792098 non-null  int64  \n",
      " 50  ECE Flag Count               1792098 non-null  int64  \n",
      " 51  Down/Up Ratio                1792098 non-null  int64  \n",
      " 52  Average Packet Size          1792098 non-null  float64\n",
      " 53  Avg Fwd Segment Size         1792098 non-null  float64\n",
      " 54  Avg Bwd Segment Size         1792098 non-null  float64\n",
      " 55  Fwd Avg Bytes/Bulk           1792098 non-null  int64  \n",
      " 56  Fwd Avg Packets/Bulk         1792098 non-null  int64  \n",
      " 57  Fwd Avg Bulk Rate            1792098 non-null  int64  \n",
      " 58  Bwd Avg Bytes/Bulk           1792098 non-null  int64  \n",
      " 59  Bwd Avg Packets/Bulk         1792098 non-null  int64  \n",
      " 60  Bwd Avg Bulk Rate            1792098 non-null  int64  \n",
      " 61  Subflow Fwd Packets          1792098 non-null  int64  \n",
      " 62  Subflow Fwd Bytes            1792098 non-null  int64  \n",
      " 63  Subflow Bwd Packets          1792098 non-null  int64  \n",
      " 64  Subflow Bwd Bytes            1792098 non-null  int64  \n",
      " 65  Init_Win_bytes_forward       1792098 non-null  int64  \n",
      " 66  Init_Win_bytes_backward      1792098 non-null  int64  \n",
      " 67  act_data_pkt_fwd             1792098 non-null  int64  \n",
      " 68  min_seg_size_forward         1792098 non-null  int64  \n",
      " 69  Active Mean                  1792098 non-null  float64\n",
      " 70  Active Std                   1792098 non-null  float64\n",
      " 71  Active Max                   1792098 non-null  int64  \n",
      " 72  Active Min                   1792098 non-null  int64  \n",
      " 73  Idle Mean                    1792098 non-null  float64\n",
      " 74  Idle Std                     1792098 non-null  float64\n",
      " 75  Idle Max                     1792098 non-null  int64  \n",
      " 76  Idle Min                     1792098 non-null  int64  \n",
      " 77  Label                        1792098 non-null  object \n",
      "dtypes: float64(24), int64(53), object(1)\n",
      "memory usage: 1.0+ GB\n"
     ]
    }
   ],
   "source": [
    "df_CICIDS2017_train = pd.read_csv('/home/administrator/dataset/train_CICIDS2017.csv')\n",
    "df_CICIDS2017_train.info(verbose=True, show_counts=True)"
   ]
  },
  {
   "cell_type": "code",
   "execution_count": 7,
   "id": "9e7472db",
   "metadata": {},
   "outputs": [
    {
     "name": "stdout",
     "output_type": "stream",
     "text": [
      "<class 'pandas.core.frame.DataFrame'>\n",
      "RangeIndex: 5351760 entries, 0 to 5351759\n",
      "Data columns (total 85 columns):\n",
      " #   Column             Non-Null Count    Dtype  \n",
      "---  ------             --------------    -----  \n",
      " 0   Flow ID            5351760 non-null  object \n",
      " 1   Src IP             5351760 non-null  object \n",
      " 2   Src Port           5351760 non-null  int64  \n",
      " 3   Dst IP             5351760 non-null  object \n",
      " 4   Dst Port           5351760 non-null  int64  \n",
      " 5   Protocol           5351760 non-null  int64  \n",
      " 6   Timestamp          5351760 non-null  object \n",
      " 7   Flow Duration      5351760 non-null  int64  \n",
      " 8   Tot Fwd Pkts       5351760 non-null  int64  \n",
      " 9   Tot Bwd Pkts       5351760 non-null  int64  \n",
      " 10  TotLen Fwd Pkts    5351760 non-null  float64\n",
      " 11  TotLen Bwd Pkts    5351760 non-null  float64\n",
      " 12  Fwd Pkt Len Max    5351760 non-null  float64\n",
      " 13  Fwd Pkt Len Min    5351760 non-null  float64\n",
      " 14  Fwd Pkt Len Mean   5351760 non-null  float64\n",
      " 15  Fwd Pkt Len Std    5351760 non-null  float64\n",
      " 16  Bwd Pkt Len Max    5351760 non-null  float64\n",
      " 17  Bwd Pkt Len Min    5351760 non-null  float64\n",
      " 18  Bwd Pkt Len Mean   5351760 non-null  float64\n",
      " 19  Bwd Pkt Len Std    5351760 non-null  float64\n",
      " 20  Flow Byts/s        5351760 non-null  float64\n",
      " 21  Flow Pkts/s        5351760 non-null  float64\n",
      " 22  Flow IAT Mean      5351760 non-null  float64\n",
      " 23  Flow IAT Std       5351760 non-null  float64\n",
      " 24  Flow IAT Max       5351760 non-null  float64\n",
      " 25  Flow IAT Min       5351760 non-null  float64\n",
      " 26  Fwd IAT Tot        5351760 non-null  float64\n",
      " 27  Fwd IAT Mean       5351760 non-null  float64\n",
      " 28  Fwd IAT Std        5351760 non-null  float64\n",
      " 29  Fwd IAT Max        5351760 non-null  float64\n",
      " 30  Fwd IAT Min        5351760 non-null  float64\n",
      " 31  Bwd IAT Tot        5351760 non-null  float64\n",
      " 32  Bwd IAT Mean       5351760 non-null  float64\n",
      " 33  Bwd IAT Std        5351760 non-null  float64\n",
      " 34  Bwd IAT Max        5351760 non-null  float64\n",
      " 35  Bwd IAT Min        5351760 non-null  float64\n",
      " 36  Fwd PSH Flags      5351760 non-null  int64  \n",
      " 37  Bwd PSH Flags      5351760 non-null  int64  \n",
      " 38  Fwd URG Flags      5351760 non-null  int64  \n",
      " 39  Bwd URG Flags      5351760 non-null  int64  \n",
      " 40  Fwd Header Len     5351760 non-null  int64  \n",
      " 41  Bwd Header Len     5351760 non-null  int64  \n",
      " 42  Fwd Pkts/s         5351760 non-null  float64\n",
      " 43  Bwd Pkts/s         5351760 non-null  float64\n",
      " 44  Pkt Len Min        5351760 non-null  float64\n",
      " 45  Pkt Len Max        5351760 non-null  float64\n",
      " 46  Pkt Len Mean       5351760 non-null  float64\n",
      " 47  Pkt Len Std        5351760 non-null  float64\n",
      " 48  Pkt Len Var        5351760 non-null  float64\n",
      " 49  FIN Flag Cnt       5351760 non-null  int64  \n",
      " 50  SYN Flag Cnt       5351760 non-null  int64  \n",
      " 51  RST Flag Cnt       5351760 non-null  int64  \n",
      " 52  PSH Flag Cnt       5351760 non-null  int64  \n",
      " 53  ACK Flag Cnt       5351760 non-null  int64  \n",
      " 54  URG Flag Cnt       5351760 non-null  int64  \n",
      " 55  CWE Flag Count     5351760 non-null  int64  \n",
      " 56  ECE Flag Cnt       5351760 non-null  int64  \n",
      " 57  Down/Up Ratio      5351760 non-null  float64\n",
      " 58  Pkt Size Avg       5351760 non-null  float64\n",
      " 59  Fwd Seg Size Avg   5351760 non-null  float64\n",
      " 60  Bwd Seg Size Avg   5351760 non-null  float64\n",
      " 61  Fwd Byts/b Avg     5351760 non-null  int64  \n",
      " 62  Fwd Pkts/b Avg     5351760 non-null  int64  \n",
      " 63  Fwd Blk Rate Avg   5351760 non-null  int64  \n",
      " 64  Bwd Byts/b Avg     5351760 non-null  int64  \n",
      " 65  Bwd Pkts/b Avg     5351760 non-null  int64  \n",
      " 66  Bwd Blk Rate Avg   5351760 non-null  int64  \n",
      " 67  Subflow Fwd Pkts   5351760 non-null  int64  \n",
      " 68  Subflow Fwd Byts   5351760 non-null  int64  \n",
      " 69  Subflow Bwd Pkts   5351760 non-null  int64  \n",
      " 70  Subflow Bwd Byts   5351760 non-null  int64  \n",
      " 71  Init Fwd Win Byts  5351760 non-null  int64  \n",
      " 72  Init Bwd Win Byts  5351760 non-null  int64  \n",
      " 73  Fwd Act Data Pkts  5351760 non-null  int64  \n",
      " 74  Fwd Seg Size Min   5351760 non-null  int64  \n",
      " 75  Active Mean        5351760 non-null  float64\n",
      " 76  Active Std         5351760 non-null  float64\n",
      " 77  Active Max         5351760 non-null  float64\n",
      " 78  Active Min         5351760 non-null  float64\n",
      " 79  Idle Mean          5351760 non-null  float64\n",
      " 80  Idle Std           5351760 non-null  float64\n",
      " 81  Idle Max           5351760 non-null  float64\n",
      " 82  Idle Min           5351760 non-null  float64\n",
      " 83  Label              5351760 non-null  int64  \n",
      " 84  Attack             5351760 non-null  object \n",
      "dtypes: float64(45), int64(35), object(5)\n",
      "memory usage: 3.4+ GB\n"
     ]
    }
   ],
   "source": [
    "df_CICToNIoT = pd.read_csv('/home/administrator/dataset/CIC-ToN-IoT.csv')\n",
    "\n",
    "df_CICToNIoT.info(verbose=True, show_counts=True)"
   ]
  },
  {
   "cell_type": "code",
   "execution_count": 10,
   "id": "aa46e9d6",
   "metadata": {},
   "outputs": [
    {
     "name": "stdout",
     "output_type": "stream",
     "text": [
      "<class 'pandas.core.frame.DataFrame'>\n",
      "RangeIndex: 5351760 entries, 0 to 5351759\n",
      "Data columns (total 78 columns):\n",
      " #   Column             Dtype  \n",
      "---  ------             -----  \n",
      " 0   Dst Port           int64  \n",
      " 1   Flow Duration      int64  \n",
      " 2   Tot Fwd Pkts       int64  \n",
      " 3   Tot Bwd Pkts       int64  \n",
      " 4   TotLen Fwd Pkts    float64\n",
      " 5   TotLen Bwd Pkts    float64\n",
      " 6   Fwd Pkt Len Max    float64\n",
      " 7   Fwd Pkt Len Min    float64\n",
      " 8   Fwd Pkt Len Mean   float64\n",
      " 9   Fwd Pkt Len Std    float64\n",
      " 10  Bwd Pkt Len Max    float64\n",
      " 11  Bwd Pkt Len Min    float64\n",
      " 12  Bwd Pkt Len Mean   float64\n",
      " 13  Bwd Pkt Len Std    float64\n",
      " 14  Flow Byts/s        float64\n",
      " 15  Flow Pkts/s        float64\n",
      " 16  Flow IAT Mean      float64\n",
      " 17  Flow IAT Std       float64\n",
      " 18  Flow IAT Max       float64\n",
      " 19  Flow IAT Min       float64\n",
      " 20  Fwd IAT Tot        float64\n",
      " 21  Fwd IAT Mean       float64\n",
      " 22  Fwd IAT Std        float64\n",
      " 23  Fwd IAT Max        float64\n",
      " 24  Fwd IAT Min        float64\n",
      " 25  Bwd IAT Tot        float64\n",
      " 26  Bwd IAT Mean       float64\n",
      " 27  Bwd IAT Std        float64\n",
      " 28  Bwd IAT Max        float64\n",
      " 29  Bwd IAT Min        float64\n",
      " 30  Fwd PSH Flags      int64  \n",
      " 31  Bwd PSH Flags      int64  \n",
      " 32  Fwd URG Flags      int64  \n",
      " 33  Bwd URG Flags      int64  \n",
      " 34  Fwd Header Len     int64  \n",
      " 35  Bwd Header Len     int64  \n",
      " 36  Fwd Pkts/s         float64\n",
      " 37  Bwd Pkts/s         float64\n",
      " 38  Pkt Len Min        float64\n",
      " 39  Pkt Len Max        float64\n",
      " 40  Pkt Len Mean       float64\n",
      " 41  Pkt Len Std        float64\n",
      " 42  Pkt Len Var        float64\n",
      " 43  FIN Flag Cnt       int64  \n",
      " 44  SYN Flag Cnt       int64  \n",
      " 45  RST Flag Cnt       int64  \n",
      " 46  PSH Flag Cnt       int64  \n",
      " 47  ACK Flag Cnt       int64  \n",
      " 48  URG Flag Cnt       int64  \n",
      " 49  CWE Flag Count     int64  \n",
      " 50  ECE Flag Cnt       int64  \n",
      " 51  Down/Up Ratio      float64\n",
      " 52  Pkt Size Avg       float64\n",
      " 53  Fwd Seg Size Avg   float64\n",
      " 54  Bwd Seg Size Avg   float64\n",
      " 55  Fwd Byts/b Avg     int64  \n",
      " 56  Fwd Pkts/b Avg     int64  \n",
      " 57  Fwd Blk Rate Avg   int64  \n",
      " 58  Bwd Byts/b Avg     int64  \n",
      " 59  Bwd Pkts/b Avg     int64  \n",
      " 60  Bwd Blk Rate Avg   int64  \n",
      " 61  Subflow Fwd Pkts   int64  \n",
      " 62  Subflow Fwd Byts   int64  \n",
      " 63  Subflow Bwd Pkts   int64  \n",
      " 64  Subflow Bwd Byts   int64  \n",
      " 65  Init Fwd Win Byts  int64  \n",
      " 66  Init Bwd Win Byts  int64  \n",
      " 67  Fwd Act Data Pkts  int64  \n",
      " 68  Fwd Seg Size Min   int64  \n",
      " 69  Active Mean        float64\n",
      " 70  Active Std         float64\n",
      " 71  Active Max         float64\n",
      " 72  Active Min         float64\n",
      " 73  Idle Mean          float64\n",
      " 74  Idle Std           float64\n",
      " 75  Idle Max           float64\n",
      " 76  Idle Min           float64\n",
      " 77  Attack             object \n",
      "dtypes: float64(45), int64(32), object(1)\n",
      "memory usage: 3.1+ GB\n"
     ]
    }
   ],
   "source": [
    "df_CICToNIoT = df_CICToNIoT.drop(df_CICToNIoT.columns[[0, 1, 2, 3, 5, 6, 83]], axis=1)\n",
    "\n",
    "df_CICToNIoT.info()"
   ]
  },
  {
   "cell_type": "code",
   "execution_count": 12,
   "id": "086393af",
   "metadata": {},
   "outputs": [],
   "source": [
    "df_CICToNIoT['TotLen Fwd Pkts'] = df_CICToNIoT['TotLen Fwd Pkts'].astype(int)\n",
    "df_CICToNIoT['TotLen Bwd Pkts'] = df_CICToNIoT['TotLen Bwd Pkts'].astype(int)\n",
    "df_CICToNIoT['Fwd Pkt Len Max'] = df_CICToNIoT['Fwd Pkt Len Max'].astype(int)\n",
    "df_CICToNIoT['Fwd Pkt Len Min'] = df_CICToNIoT['Fwd Pkt Len Min'].astype(int)\n",
    "df_CICToNIoT['Bwd Pkt Len Max'] = df_CICToNIoT['Bwd Pkt Len Max'].astype(int)\n",
    "df_CICToNIoT['Bwd Pkt Len Min'] = df_CICToNIoT['Bwd Pkt Len Min'].astype(int)\n",
    "df_CICToNIoT['Flow IAT Max'] = df_CICToNIoT['Flow IAT Max'].astype(int)\n",
    "df_CICToNIoT['Flow IAT Min'] = df_CICToNIoT['Flow IAT Min'].astype(int)\n",
    "df_CICToNIoT['Fwd IAT Tot'] = df_CICToNIoT['Fwd IAT Tot'].astype(int)\n",
    "df_CICToNIoT['Fwd IAT Max'] = df_CICToNIoT['Fwd IAT Max'].astype(int)\n",
    "df_CICToNIoT['Fwd IAT Min'] = df_CICToNIoT['Fwd IAT Min'].astype(int)\n",
    "df_CICToNIoT['Bwd IAT Tot'] = df_CICToNIoT['Bwd IAT Tot'].astype(int)\n",
    "df_CICToNIoT['Bwd IAT Max'] = df_CICToNIoT['Bwd IAT Max'].astype(int)\n",
    "df_CICToNIoT['Bwd IAT Min'] = df_CICToNIoT['Bwd IAT Min'].astype(int)\n",
    "df_CICToNIoT['Pkt Len Min'] = df_CICToNIoT['Pkt Len Min'].astype(int)\n",
    "df_CICToNIoT['Pkt Len Max'] = df_CICToNIoT['Pkt Len Max'].astype(int)\n",
    "df_CICToNIoT['Down/Up Ratio'] = df_CICToNIoT['Down/Up Ratio'].astype(int)\n",
    "df_CICToNIoT['Active Max'] = df_CICToNIoT['Active Max'].astype(int)\n",
    "df_CICToNIoT['Active Min'] = df_CICToNIoT['Active Min'].astype(int)\n",
    "df_CICToNIoT['Idle Max'] = df_CICToNIoT['Idle Max'].astype(int)\n",
    "df_CICToNIoT['Idle Min'] = df_CICToNIoT['Idle Min'].astype(int)"
   ]
  },
  {
   "cell_type": "code",
   "execution_count": 14,
   "id": "d0ab15ad",
   "metadata": {},
   "outputs": [
    {
     "name": "stdout",
     "output_type": "stream",
     "text": [
      "<class 'pandas.core.frame.DataFrame'>\n",
      "RangeIndex: 5351760 entries, 0 to 5351759\n",
      "Data columns (total 78 columns):\n",
      " #   Column             Dtype  \n",
      "---  ------             -----  \n",
      " 0   Dst Port           int64  \n",
      " 1   Flow Duration      int64  \n",
      " 2   Tot Fwd Pkts       int64  \n",
      " 3   Tot Bwd Pkts       int64  \n",
      " 4   TotLen Fwd Pkts    int64  \n",
      " 5   TotLen Bwd Pkts    int64  \n",
      " 6   Fwd Pkt Len Max    int64  \n",
      " 7   Fwd Pkt Len Min    int64  \n",
      " 8   Fwd Pkt Len Mean   float64\n",
      " 9   Fwd Pkt Len Std    float64\n",
      " 10  Bwd Pkt Len Max    int64  \n",
      " 11  Bwd Pkt Len Min    int64  \n",
      " 12  Bwd Pkt Len Mean   float64\n",
      " 13  Bwd Pkt Len Std    float64\n",
      " 14  Flow Byts/s        float64\n",
      " 15  Flow Pkts/s        float64\n",
      " 16  Flow IAT Mean      float64\n",
      " 17  Flow IAT Std       float64\n",
      " 18  Flow IAT Max       int64  \n",
      " 19  Flow IAT Min       int64  \n",
      " 20  Fwd IAT Tot        int64  \n",
      " 21  Fwd IAT Mean       float64\n",
      " 22  Fwd IAT Std        float64\n",
      " 23  Fwd IAT Max        int64  \n",
      " 24  Fwd IAT Min        int64  \n",
      " 25  Bwd IAT Tot        int64  \n",
      " 26  Bwd IAT Mean       float64\n",
      " 27  Bwd IAT Std        float64\n",
      " 28  Bwd IAT Max        int64  \n",
      " 29  Bwd IAT Min        int64  \n",
      " 30  Fwd PSH Flags      int64  \n",
      " 31  Bwd PSH Flags      int64  \n",
      " 32  Fwd URG Flags      int64  \n",
      " 33  Bwd URG Flags      int64  \n",
      " 34  Fwd Header Len     int64  \n",
      " 35  Bwd Header Len     int64  \n",
      " 36  Fwd Pkts/s         float64\n",
      " 37  Bwd Pkts/s         float64\n",
      " 38  Pkt Len Min        int64  \n",
      " 39  Pkt Len Max        int64  \n",
      " 40  Pkt Len Mean       float64\n",
      " 41  Pkt Len Std        float64\n",
      " 42  Pkt Len Var        float64\n",
      " 43  FIN Flag Cnt       int64  \n",
      " 44  SYN Flag Cnt       int64  \n",
      " 45  RST Flag Cnt       int64  \n",
      " 46  PSH Flag Cnt       int64  \n",
      " 47  ACK Flag Cnt       int64  \n",
      " 48  URG Flag Cnt       int64  \n",
      " 49  CWE Flag Count     int64  \n",
      " 50  ECE Flag Cnt       int64  \n",
      " 51  Down/Up Ratio      int64  \n",
      " 52  Pkt Size Avg       float64\n",
      " 53  Fwd Seg Size Avg   float64\n",
      " 54  Bwd Seg Size Avg   float64\n",
      " 55  Fwd Byts/b Avg     int64  \n",
      " 56  Fwd Pkts/b Avg     int64  \n",
      " 57  Fwd Blk Rate Avg   int64  \n",
      " 58  Bwd Byts/b Avg     int64  \n",
      " 59  Bwd Pkts/b Avg     int64  \n",
      " 60  Bwd Blk Rate Avg   int64  \n",
      " 61  Subflow Fwd Pkts   int64  \n",
      " 62  Subflow Fwd Byts   int64  \n",
      " 63  Subflow Bwd Pkts   int64  \n",
      " 64  Subflow Bwd Byts   int64  \n",
      " 65  Init Fwd Win Byts  int64  \n",
      " 66  Init Bwd Win Byts  int64  \n",
      " 67  Fwd Act Data Pkts  int64  \n",
      " 68  Fwd Seg Size Min   int64  \n",
      " 69  Active Mean        float64\n",
      " 70  Active Std         float64\n",
      " 71  Active Max         int64  \n",
      " 72  Active Min         int64  \n",
      " 73  Idle Mean          float64\n",
      " 74  Idle Std           float64\n",
      " 75  Idle Max           int64  \n",
      " 76  Idle Min           int64  \n",
      " 77  Attack             object \n",
      "dtypes: float64(24), int64(53), object(1)\n",
      "memory usage: 3.1+ GB\n"
     ]
    }
   ],
   "source": [
    "df_CICToNIoT.info()"
   ]
  },
  {
   "cell_type": "code",
   "execution_count": 16,
   "id": "3f3db58d",
   "metadata": {},
   "outputs": [],
   "source": [
    "df_CICToNIoT.rename(columns = {'Dst Port':'Destination Port', \n",
    "                                   'Tot Fwd Pkts':'Total Fwd Packets',\n",
    "                                   'Tot Bwd Pkts':'Total Backward Packets',\n",
    "                                   'TotLen Fwd Pkts':'Total Length of Fwd Packets',\n",
    "                                   'TotLen Bwd Pkts':'Total Length of Bwd Packets',\n",
    "                                   'Fwd Pkt Len Max':'Fwd Packet Length Max',\n",
    "                                   'Fwd Pkt Len Min':'Fwd Packet Length Min',\n",
    "                                   'Fwd Pkt Len Mean':'Fwd Packet Length Mean',\n",
    "                                   'Fwd Pkt Len Std':'Fwd Packet Length Std',\n",
    "                                   'Bwd Pkt Len Max':'Bwd Packet Length Max',\n",
    "                                   'Bwd Pkt Len Min':'Bwd Packet Length Min',\n",
    "                                   'Bwd Pkt Len Mean':'Bwd Packet Length Mean',\n",
    "                                   'Bwd Pkt Len Std':'Bwd Packet Length Std',\n",
    "                                   'Flow Byts/s':'Flow Bytes/s',\n",
    "                                   'Flow Pkts/s':'Flow Packets/s',\n",
    "                                   'Fwd IAT Tot':'Fwd IAT Total',\n",
    "                                   'Bwd IAT Tot':'Bwd IAT Total',\n",
    "                                   'Fwd Header Len':'Fwd Header Length',\n",
    "                                   'Bwd Header Len':'Bwd Header Length',\n",
    "                                   'Fwd Pkts/s':'Fwd Packets/s',\n",
    "                                   'Bwd Pkts/s':'Bwd Packets/s',\n",
    "                                   'Pkt Len Min':'Min Packet Length',\n",
    "                                   'Pkt Len Max':'Max Packet Length',\n",
    "                                   'Pkt Len Mean':'Packet Length Mean',\n",
    "                                   'Pkt Len Std':'Packet Length Std',\n",
    "                                   'Pkt Len Var':'Packet Length Variance',\n",
    "                                   'FIN Flag Cnt':'FIN Flag Count',\n",
    "                                   'SYN Flag Cnt':'SYN Flag Count',\n",
    "                                   'RST Flag Cnt':'RST Flag Count',\n",
    "                                   'PSH Flag Cnt':'PSH Flag Count',\n",
    "                                   'ACK Flag Cnt':'ACK Flag Count',\n",
    "                                   'URG Flag Cnt':'URG Flag Count',\n",
    "                                   'ECE Flag Cnt':'ECE Flag Count',\n",
    "                                   'Pkt Size Avg':'Average Packet Size',\n",
    "                                   'Fwd Seg Size Avg':'Avg Fwd Segment Size',\n",
    "                                   'Bwd Seg Size Avg':'Avg Bwd Segment Size',\n",
    "                                   'Fwd Byts/b Avg':'Fwd Avg Bytes/Bulk',\n",
    "                                   'Fwd Pkts/b Avg':'Fwd Avg Packets/Bulk',\n",
    "                                   'Fwd Blk Rate Avg':'Fwd Avg Bulk Rate',\n",
    "                                   'Bwd Byts/b Avg':'Bwd Avg Bytes/Bulk',\n",
    "                                   'Bwd Pkts/b Avg':'Bwd Avg Packets/Bulk',\n",
    "                                   'Bwd Blk Rate Avg':'Bwd Avg Bulk Rate',\n",
    "                                   'Subflow Fwd Pkts':'Subflow Fwd Packets',\n",
    "                                   'Subflow Fwd Byts':'Subflow Fwd Bytes',\n",
    "                                   'Subflow Bwd Pkts':'Subflow Bwd Packets',\n",
    "                                   'Subflow Bwd Byts':'Subflow Bwd Bytes',\n",
    "                                   'Init Fwd Win Byts':'Init_Win_bytes_forward',\n",
    "                                   'Init Bwd Win Byts':'Init_Win_bytes_backward',\n",
    "                                   'Fwd Act Data Pkts':'act_data_pkt_fwd',\n",
    "                                   'Fwd Seg Size Min':'min_seg_size_forward',\n",
    "                                   'Attack':'Label'}, inplace = True)"
   ]
  },
  {
   "cell_type": "code",
   "execution_count": 17,
   "id": "3b06f7a0",
   "metadata": {},
   "outputs": [
    {
     "name": "stdout",
     "output_type": "stream",
     "text": [
      "<class 'pandas.core.frame.DataFrame'>\n",
      "RangeIndex: 5351760 entries, 0 to 5351759\n",
      "Data columns (total 78 columns):\n",
      " #   Column                       Dtype  \n",
      "---  ------                       -----  \n",
      " 0   Destination Port             int64  \n",
      " 1   Flow Duration                int64  \n",
      " 2   Total Fwd Packets            int64  \n",
      " 3   Total Backward Packets       int64  \n",
      " 4   Total Length of Fwd Packets  int64  \n",
      " 5   Total Length of Bwd Packets  int64  \n",
      " 6   Fwd Packet Length Max        int64  \n",
      " 7   Fwd Packet Length Min        int64  \n",
      " 8   Fwd Packet Length Mean       float64\n",
      " 9   Fwd Packet Length Std        float64\n",
      " 10  Bwd Packet Length Max        int64  \n",
      " 11  Bwd Packet Length Min        int64  \n",
      " 12  Bwd Packet Length Mean       float64\n",
      " 13  Bwd Packet Length Std        float64\n",
      " 14  Flow Bytes/s                 float64\n",
      " 15  Flow Packets/s               float64\n",
      " 16  Flow IAT Mean                float64\n",
      " 17  Flow IAT Std                 float64\n",
      " 18  Flow IAT Max                 int64  \n",
      " 19  Flow IAT Min                 int64  \n",
      " 20  Fwd IAT Total                int64  \n",
      " 21  Fwd IAT Mean                 float64\n",
      " 22  Fwd IAT Std                  float64\n",
      " 23  Fwd IAT Max                  int64  \n",
      " 24  Fwd IAT Min                  int64  \n",
      " 25  Bwd IAT Total                int64  \n",
      " 26  Bwd IAT Mean                 float64\n",
      " 27  Bwd IAT Std                  float64\n",
      " 28  Bwd IAT Max                  int64  \n",
      " 29  Bwd IAT Min                  int64  \n",
      " 30  Fwd PSH Flags                int64  \n",
      " 31  Bwd PSH Flags                int64  \n",
      " 32  Fwd URG Flags                int64  \n",
      " 33  Bwd URG Flags                int64  \n",
      " 34  Fwd Header Length            int64  \n",
      " 35  Bwd Header Length            int64  \n",
      " 36  Fwd Packets/s                float64\n",
      " 37  Bwd Packets/s                float64\n",
      " 38  Min Packet Length            int64  \n",
      " 39  Max Packet Length            int64  \n",
      " 40  Packet Length Mean           float64\n",
      " 41  Packet Length Std            float64\n",
      " 42  Packet Length Variance       float64\n",
      " 43  FIN Flag Count               int64  \n",
      " 44  SYN Flag Count               int64  \n",
      " 45  RST Flag Count               int64  \n",
      " 46  PSH Flag Count               int64  \n",
      " 47  ACK Flag Count               int64  \n",
      " 48  URG Flag Count               int64  \n",
      " 49  CWE Flag Count               int64  \n",
      " 50  ECE Flag Count               int64  \n",
      " 51  Down/Up Ratio                int64  \n",
      " 52  Average Packet Size          float64\n",
      " 53  Avg Fwd Segment Size         float64\n",
      " 54  Avg Bwd Segment Size         float64\n",
      " 55  Fwd Avg Bytes/Bulk           int64  \n",
      " 56  Fwd Avg Packets/Bulk         int64  \n",
      " 57  Fwd Avg Bulk Rate            int64  \n",
      " 58  Bwd Avg Bytes/Bulk           int64  \n",
      " 59  Bwd Avg Packets/Bulk         int64  \n",
      " 60  Bwd Avg Bulk Rate            int64  \n",
      " 61  Subflow Fwd Packets          int64  \n",
      " 62  Subflow Fwd Bytes            int64  \n",
      " 63  Subflow Bwd Packets          int64  \n",
      " 64  Subflow Bwd Bytes            int64  \n",
      " 65  Init_Win_bytes_forward       int64  \n",
      " 66  Init_Win_bytes_backward      int64  \n",
      " 67  act_data_pkt_fwd             int64  \n",
      " 68  min_seg_size_forward         int64  \n",
      " 69  Active Mean                  float64\n",
      " 70  Active Std                   float64\n",
      " 71  Active Max                   int64  \n",
      " 72  Active Min                   int64  \n",
      " 73  Idle Mean                    float64\n",
      " 74  Idle Std                     float64\n",
      " 75  Idle Max                     int64  \n",
      " 76  Idle Min                     int64  \n",
      " 77  Label                        object \n",
      "dtypes: float64(24), int64(53), object(1)\n",
      "memory usage: 3.1+ GB\n"
     ]
    }
   ],
   "source": [
    "df_CICToNIoT.info()"
   ]
  },
  {
   "cell_type": "code",
   "execution_count": 21,
   "id": "a1a9c2f1",
   "metadata": {},
   "outputs": [
    {
     "data": {
      "text/plain": [
       "Benign        2515236\n",
       "xss           2149308\n",
       "password       340208\n",
       "injection      277696\n",
       "scanning        36205\n",
       "backdoor        27145\n",
       "ransomware       5098\n",
       "mitm              517\n",
       "ddos              202\n",
       "dos               145\n",
       "Name: Label, dtype: int64"
      ]
     },
     "execution_count": 21,
     "metadata": {},
     "output_type": "execute_result"
    }
   ],
   "source": [
    "df_CICToNIoT['Label'].value_counts()"
   ]
  },
  {
   "cell_type": "code",
   "execution_count": 22,
   "id": "e636f199",
   "metadata": {},
   "outputs": [
    {
     "data": {
      "text/plain": [
       "ddos    202\n",
       "Name: Label, dtype: int64"
      ]
     },
     "execution_count": 22,
     "metadata": {},
     "output_type": "execute_result"
    }
   ],
   "source": [
    "trf_DDoS_CICToNIoT = df_CICToNIoT.loc[df_CICToNIoT['Label'] == 'ddos']\n",
    "trf_DDoS_CICToNIoT['Label'].value_counts()"
   ]
  },
  {
   "cell_type": "code",
   "execution_count": 23,
   "id": "5a856a67",
   "metadata": {},
   "outputs": [
    {
     "data": {
      "text/plain": [
       "Benign    2515236\n",
       "Name: Label, dtype: int64"
      ]
     },
     "execution_count": 23,
     "metadata": {},
     "output_type": "execute_result"
    }
   ],
   "source": [
    "trf_BENIGN_CICToNIoT = df_CICToNIoT.loc[df_CICToNIoT['Label'] == 'Benign']\n",
    "trf_BENIGN_CICToNIoT['Label'].value_counts()"
   ]
  },
  {
   "cell_type": "code",
   "execution_count": 25,
   "id": "8b3e555c",
   "metadata": {},
   "outputs": [
    {
     "data": {
      "text/plain": [
       "scanning    36205\n",
       "Name: Label, dtype: int64"
      ]
     },
     "execution_count": 25,
     "metadata": {},
     "output_type": "execute_result"
    }
   ],
   "source": [
    "trf_PortScan_CICToNIoT = df_CICToNIoT.loc[df_CICToNIoT['Label'] == 'scanning']\n",
    "trf_PortScan_CICToNIoT['Label'].value_counts()"
   ]
  },
  {
   "cell_type": "code",
   "execution_count": 26,
   "id": "5215eeb5",
   "metadata": {},
   "outputs": [
    {
     "data": {
      "text/plain": [
       "backdoor    27145\n",
       "Name: Label, dtype: int64"
      ]
     },
     "execution_count": 26,
     "metadata": {},
     "output_type": "execute_result"
    }
   ],
   "source": [
    "trf_Bot_CICToNIoT = df_CICToNIoT.loc[df_CICToNIoT['Label'] == 'backdoor']\n",
    "trf_Bot_CICToNIoT['Label'].value_counts()"
   ]
  },
  {
   "cell_type": "code",
   "execution_count": 27,
   "id": "ea02a66b",
   "metadata": {},
   "outputs": [],
   "source": [
    "df_CICToNIoT_cmb = pd.concat([trf_DDoS_CICToNIoT, trf_BENIGN_CICToNIoT, trf_PortScan_CICToNIoT, trf_Bot_CICToNIoT])"
   ]
  },
  {
   "cell_type": "code",
   "execution_count": 28,
   "id": "4d18cedf",
   "metadata": {},
   "outputs": [],
   "source": [
    "df_CICToNIoT_cmb['Label'] = df_CICToNIoT_cmb['Label'].str.replace('Benign', 'BENIGN')"
   ]
  },
  {
   "cell_type": "code",
   "execution_count": 29,
   "id": "b07b5b42",
   "metadata": {},
   "outputs": [],
   "source": [
    "df_CICToNIoT_cmb['Label'] = df_CICToNIoT_cmb['Label'].str.replace('scanning', 'PortScan')"
   ]
  },
  {
   "cell_type": "code",
   "execution_count": 30,
   "id": "eddef31a",
   "metadata": {},
   "outputs": [],
   "source": [
    "df_CICToNIoT_cmb['Label'] = df_CICToNIoT_cmb['Label'].str.replace('backdoor', 'Bot')"
   ]
  },
  {
   "cell_type": "code",
   "execution_count": 32,
   "id": "bb238075",
   "metadata": {},
   "outputs": [],
   "source": [
    "df_CICToNIoT_cmb['Label'] = df_CICToNIoT_cmb['Label'].str.replace('ddos', 'DDoS')"
   ]
  },
  {
   "cell_type": "code",
   "execution_count": 33,
   "id": "9588a3ae",
   "metadata": {},
   "outputs": [
    {
     "data": {
      "text/plain": [
       "BENIGN      2515236\n",
       "PortScan      36205\n",
       "Bot           27145\n",
       "DDoS            202\n",
       "Name: Label, dtype: int64"
      ]
     },
     "execution_count": 33,
     "metadata": {},
     "output_type": "execute_result"
    }
   ],
   "source": [
    "df_CICToNIoT_cmb['Label'].value_counts()"
   ]
  },
  {
   "cell_type": "code",
   "execution_count": 52,
   "id": "132c4354",
   "metadata": {},
   "outputs": [
    {
     "name": "stdout",
     "output_type": "stream",
     "text": [
      "Flow Packets/s    1177\n",
      "dtype: int64\n"
     ]
    }
   ],
   "source": [
    "pd.options.mode.use_inf_as_na = True\n",
    "print(df_CICToNIoT_cmb.loc[:, df_CICToNIoT_cmb.isnull().any()].isnull().sum())"
   ]
  },
  {
   "cell_type": "code",
   "execution_count": 53,
   "id": "2f92e834",
   "metadata": {},
   "outputs": [],
   "source": [
    "df_CICToNIoT_cmb = df_CICToNIoT_cmb.dropna()"
   ]
  },
  {
   "cell_type": "code",
   "execution_count": 54,
   "id": "c0e56a88",
   "metadata": {},
   "outputs": [],
   "source": [
    "train_CICToNIoT, test_CICToNIoT = train_test_split(df_CICToNIoT_cmb, test_size=0.3, random_state=100)"
   ]
  },
  {
   "cell_type": "code",
   "execution_count": 55,
   "id": "c5ba3f21",
   "metadata": {},
   "outputs": [],
   "source": [
    "pd.DataFrame(train_CICToNIoT).to_csv(\"./train_CICToNIoT.csv\", index=False)\n",
    "pd.DataFrame(test_CICToNIoT).to_csv(\"./test_CICToNIoT.csv\", index=False)"
   ]
  },
  {
   "cell_type": "code",
   "execution_count": 36,
   "id": "c7c5376d",
   "metadata": {},
   "outputs": [],
   "source": [
    "df_CA_CICIDS2018 = pd.read_csv('/home/administrator/dataset/coordinated_attack_csecicids2018.csv')"
   ]
  },
  {
   "cell_type": "code",
   "execution_count": 37,
   "id": "4f110a58",
   "metadata": {},
   "outputs": [
    {
     "data": {
      "text/plain": [
       "Benign                    13390249\n",
       "DDOS attack-HOIC            686012\n",
       "DDoS attacks-LOIC-HTTP      576191\n",
       "Bot                         286191\n",
       "PortScan                    160639\n",
       "DDOS attack-LOIC-UDP          1730\n",
       "Name: Label, dtype: int64"
      ]
     },
     "execution_count": 37,
     "metadata": {},
     "output_type": "execute_result"
    }
   ],
   "source": [
    "df_CA_CICIDS2018['Label'].value_counts()"
   ]
  },
  {
   "cell_type": "code",
   "execution_count": 38,
   "id": "6b0707ce",
   "metadata": {},
   "outputs": [
    {
     "name": "stdout",
     "output_type": "stream",
     "text": [
      "<class 'pandas.core.frame.DataFrame'>\n",
      "RangeIndex: 15101012 entries, 0 to 15101011\n",
      "Data columns (total 78 columns):\n",
      " #   Column             Dtype  \n",
      "---  ------             -----  \n",
      " 0   Dst Port           int64  \n",
      " 1   Flow Duration      int64  \n",
      " 2   Tot Fwd Pkts       int64  \n",
      " 3   Tot Bwd Pkts       int64  \n",
      " 4   TotLen Fwd Pkts    float64\n",
      " 5   TotLen Bwd Pkts    float64\n",
      " 6   Fwd Pkt Len Max    float64\n",
      " 7   Fwd Pkt Len Min    float64\n",
      " 8   Fwd Pkt Len Mean   float64\n",
      " 9   Fwd Pkt Len Std    float64\n",
      " 10  Bwd Pkt Len Max    float64\n",
      " 11  Bwd Pkt Len Min    float64\n",
      " 12  Bwd Pkt Len Mean   float64\n",
      " 13  Bwd Pkt Len Std    float64\n",
      " 14  Flow Byts/s        float64\n",
      " 15  Flow Pkts/s        float64\n",
      " 16  Flow IAT Mean      float64\n",
      " 17  Flow IAT Std       float64\n",
      " 18  Flow IAT Max       float64\n",
      " 19  Flow IAT Min       float64\n",
      " 20  Fwd IAT Tot        float64\n",
      " 21  Fwd IAT Mean       float64\n",
      " 22  Fwd IAT Std        float64\n",
      " 23  Fwd IAT Max        float64\n",
      " 24  Fwd IAT Min        float64\n",
      " 25  Bwd IAT Tot        float64\n",
      " 26  Bwd IAT Mean       float64\n",
      " 27  Bwd IAT Std        float64\n",
      " 28  Bwd IAT Max        float64\n",
      " 29  Bwd IAT Min        float64\n",
      " 30  Fwd PSH Flags      int64  \n",
      " 31  Bwd PSH Flags      int64  \n",
      " 32  Fwd URG Flags      int64  \n",
      " 33  Bwd URG Flags      int64  \n",
      " 34  Fwd Header Len     int64  \n",
      " 35  Bwd Header Len     int64  \n",
      " 36  Fwd Pkts/s         float64\n",
      " 37  Bwd Pkts/s         float64\n",
      " 38  Pkt Len Min        float64\n",
      " 39  Pkt Len Max        float64\n",
      " 40  Pkt Len Mean       float64\n",
      " 41  Pkt Len Std        float64\n",
      " 42  Pkt Len Var        float64\n",
      " 43  FIN Flag Cnt       int64  \n",
      " 44  SYN Flag Cnt       int64  \n",
      " 45  RST Flag Cnt       int64  \n",
      " 46  PSH Flag Cnt       int64  \n",
      " 47  ACK Flag Cnt       int64  \n",
      " 48  URG Flag Cnt       int64  \n",
      " 49  CWE Flag Count     int64  \n",
      " 50  ECE Flag Cnt       int64  \n",
      " 51  Down/Up Ratio      float64\n",
      " 52  Pkt Size Avg       float64\n",
      " 53  Fwd Seg Size Avg   float64\n",
      " 54  Bwd Seg Size Avg   float64\n",
      " 55  Fwd Byts/b Avg     int64  \n",
      " 56  Fwd Pkts/b Avg     int64  \n",
      " 57  Fwd Blk Rate Avg   int64  \n",
      " 58  Bwd Byts/b Avg     int64  \n",
      " 59  Bwd Pkts/b Avg     int64  \n",
      " 60  Bwd Blk Rate Avg   int64  \n",
      " 61  Subflow Fwd Pkts   int64  \n",
      " 62  Subflow Fwd Byts   int64  \n",
      " 63  Subflow Bwd Pkts   int64  \n",
      " 64  Subflow Bwd Byts   int64  \n",
      " 65  Init Fwd Win Byts  int64  \n",
      " 66  Init Bwd Win Byts  int64  \n",
      " 67  Fwd Act Data Pkts  int64  \n",
      " 68  Fwd Seg Size Min   int64  \n",
      " 69  Active Mean        float64\n",
      " 70  Active Std         float64\n",
      " 71  Active Max         float64\n",
      " 72  Active Min         float64\n",
      " 73  Idle Mean          float64\n",
      " 74  Idle Std           float64\n",
      " 75  Idle Max           float64\n",
      " 76  Idle Min           float64\n",
      " 77  Label              object \n",
      "dtypes: float64(45), int64(32), object(1)\n",
      "memory usage: 8.8+ GB\n"
     ]
    }
   ],
   "source": [
    "df_CA_CICIDS2018.info()"
   ]
  },
  {
   "cell_type": "code",
   "execution_count": 39,
   "id": "c693cf0f",
   "metadata": {},
   "outputs": [],
   "source": [
    "df_CA_CICIDS2018['TotLen Fwd Pkts'] = df_CA_CICIDS2018['TotLen Fwd Pkts'].astype(int)\n",
    "df_CA_CICIDS2018['TotLen Bwd Pkts'] = df_CA_CICIDS2018['TotLen Bwd Pkts'].astype(int)\n",
    "df_CA_CICIDS2018['Fwd Pkt Len Max'] = df_CA_CICIDS2018['Fwd Pkt Len Max'].astype(int)\n",
    "df_CA_CICIDS2018['Fwd Pkt Len Min'] = df_CA_CICIDS2018['Fwd Pkt Len Min'].astype(int)\n",
    "df_CA_CICIDS2018['Bwd Pkt Len Max'] = df_CA_CICIDS2018['Bwd Pkt Len Max'].astype(int)\n",
    "df_CA_CICIDS2018['Bwd Pkt Len Min'] = df_CA_CICIDS2018['Bwd Pkt Len Min'].astype(int)\n",
    "df_CA_CICIDS2018['Flow IAT Max'] = df_CA_CICIDS2018['Flow IAT Max'].astype(int)\n",
    "df_CA_CICIDS2018['Flow IAT Min'] = df_CA_CICIDS2018['Flow IAT Min'].astype(int)\n",
    "df_CA_CICIDS2018['Fwd IAT Tot'] = df_CA_CICIDS2018['Fwd IAT Tot'].astype(int)\n",
    "df_CA_CICIDS2018['Fwd IAT Max'] = df_CA_CICIDS2018['Fwd IAT Max'].astype(int)\n",
    "df_CA_CICIDS2018['Fwd IAT Min'] = df_CA_CICIDS2018['Fwd IAT Min'].astype(int)\n",
    "df_CA_CICIDS2018['Bwd IAT Tot'] = df_CA_CICIDS2018['Bwd IAT Tot'].astype(int)\n",
    "df_CA_CICIDS2018['Bwd IAT Max'] = df_CA_CICIDS2018['Bwd IAT Max'].astype(int)\n",
    "df_CA_CICIDS2018['Bwd IAT Min'] = df_CA_CICIDS2018['Bwd IAT Min'].astype(int)\n",
    "df_CA_CICIDS2018['Pkt Len Min'] = df_CA_CICIDS2018['Pkt Len Min'].astype(int)\n",
    "df_CA_CICIDS2018['Pkt Len Max'] = df_CA_CICIDS2018['Pkt Len Max'].astype(int)\n",
    "df_CA_CICIDS2018['Down/Up Ratio'] = df_CA_CICIDS2018['Down/Up Ratio'].astype(int)\n",
    "df_CA_CICIDS2018['Active Max'] = df_CA_CICIDS2018['Active Max'].astype(int)\n",
    "df_CA_CICIDS2018['Active Min'] = df_CA_CICIDS2018['Active Min'].astype(int)\n",
    "df_CA_CICIDS2018['Idle Max'] = df_CA_CICIDS2018['Idle Max'].astype(int)\n",
    "df_CA_CICIDS2018['Idle Min'] = df_CA_CICIDS2018['Idle Min'].astype(int)"
   ]
  },
  {
   "cell_type": "code",
   "execution_count": 40,
   "id": "fc24e177",
   "metadata": {},
   "outputs": [
    {
     "name": "stdout",
     "output_type": "stream",
     "text": [
      "<class 'pandas.core.frame.DataFrame'>\n",
      "RangeIndex: 15101012 entries, 0 to 15101011\n",
      "Data columns (total 78 columns):\n",
      " #   Column             Dtype  \n",
      "---  ------             -----  \n",
      " 0   Dst Port           int64  \n",
      " 1   Flow Duration      int64  \n",
      " 2   Tot Fwd Pkts       int64  \n",
      " 3   Tot Bwd Pkts       int64  \n",
      " 4   TotLen Fwd Pkts    int64  \n",
      " 5   TotLen Bwd Pkts    int64  \n",
      " 6   Fwd Pkt Len Max    int64  \n",
      " 7   Fwd Pkt Len Min    int64  \n",
      " 8   Fwd Pkt Len Mean   float64\n",
      " 9   Fwd Pkt Len Std    float64\n",
      " 10  Bwd Pkt Len Max    int64  \n",
      " 11  Bwd Pkt Len Min    int64  \n",
      " 12  Bwd Pkt Len Mean   float64\n",
      " 13  Bwd Pkt Len Std    float64\n",
      " 14  Flow Byts/s        float64\n",
      " 15  Flow Pkts/s        float64\n",
      " 16  Flow IAT Mean      float64\n",
      " 17  Flow IAT Std       float64\n",
      " 18  Flow IAT Max       int64  \n",
      " 19  Flow IAT Min       int64  \n",
      " 20  Fwd IAT Tot        int64  \n",
      " 21  Fwd IAT Mean       float64\n",
      " 22  Fwd IAT Std        float64\n",
      " 23  Fwd IAT Max        int64  \n",
      " 24  Fwd IAT Min        int64  \n",
      " 25  Bwd IAT Tot        int64  \n",
      " 26  Bwd IAT Mean       float64\n",
      " 27  Bwd IAT Std        float64\n",
      " 28  Bwd IAT Max        int64  \n",
      " 29  Bwd IAT Min        int64  \n",
      " 30  Fwd PSH Flags      int64  \n",
      " 31  Bwd PSH Flags      int64  \n",
      " 32  Fwd URG Flags      int64  \n",
      " 33  Bwd URG Flags      int64  \n",
      " 34  Fwd Header Len     int64  \n",
      " 35  Bwd Header Len     int64  \n",
      " 36  Fwd Pkts/s         float64\n",
      " 37  Bwd Pkts/s         float64\n",
      " 38  Pkt Len Min        int64  \n",
      " 39  Pkt Len Max        int64  \n",
      " 40  Pkt Len Mean       float64\n",
      " 41  Pkt Len Std        float64\n",
      " 42  Pkt Len Var        float64\n",
      " 43  FIN Flag Cnt       int64  \n",
      " 44  SYN Flag Cnt       int64  \n",
      " 45  RST Flag Cnt       int64  \n",
      " 46  PSH Flag Cnt       int64  \n",
      " 47  ACK Flag Cnt       int64  \n",
      " 48  URG Flag Cnt       int64  \n",
      " 49  CWE Flag Count     int64  \n",
      " 50  ECE Flag Cnt       int64  \n",
      " 51  Down/Up Ratio      int64  \n",
      " 52  Pkt Size Avg       float64\n",
      " 53  Fwd Seg Size Avg   float64\n",
      " 54  Bwd Seg Size Avg   float64\n",
      " 55  Fwd Byts/b Avg     int64  \n",
      " 56  Fwd Pkts/b Avg     int64  \n",
      " 57  Fwd Blk Rate Avg   int64  \n",
      " 58  Bwd Byts/b Avg     int64  \n",
      " 59  Bwd Pkts/b Avg     int64  \n",
      " 60  Bwd Blk Rate Avg   int64  \n",
      " 61  Subflow Fwd Pkts   int64  \n",
      " 62  Subflow Fwd Byts   int64  \n",
      " 63  Subflow Bwd Pkts   int64  \n",
      " 64  Subflow Bwd Byts   int64  \n",
      " 65  Init Fwd Win Byts  int64  \n",
      " 66  Init Bwd Win Byts  int64  \n",
      " 67  Fwd Act Data Pkts  int64  \n",
      " 68  Fwd Seg Size Min   int64  \n",
      " 69  Active Mean        float64\n",
      " 70  Active Std         float64\n",
      " 71  Active Max         int64  \n",
      " 72  Active Min         int64  \n",
      " 73  Idle Mean          float64\n",
      " 74  Idle Std           float64\n",
      " 75  Idle Max           int64  \n",
      " 76  Idle Min           int64  \n",
      " 77  Label              object \n",
      "dtypes: float64(24), int64(53), object(1)\n",
      "memory usage: 8.8+ GB\n"
     ]
    }
   ],
   "source": [
    "df_CA_CICIDS2018.info()"
   ]
  },
  {
   "cell_type": "code",
   "execution_count": 41,
   "id": "0445adcf",
   "metadata": {},
   "outputs": [],
   "source": [
    "df_CA_CICIDS2018.rename(columns = {'Dst Port':'Destination Port', \n",
    "                                   'Tot Fwd Pkts':'Total Fwd Packets',\n",
    "                                   'Tot Bwd Pkts':'Total Backward Packets',\n",
    "                                   'TotLen Fwd Pkts':'Total Length of Fwd Packets',\n",
    "                                   'TotLen Bwd Pkts':'Total Length of Bwd Packets',\n",
    "                                   'Fwd Pkt Len Max':'Fwd Packet Length Max',\n",
    "                                   'Fwd Pkt Len Min':'Fwd Packet Length Min',\n",
    "                                   'Fwd Pkt Len Mean':'Fwd Packet Length Mean',\n",
    "                                   'Fwd Pkt Len Std':'Fwd Packet Length Std',\n",
    "                                   'Bwd Pkt Len Max':'Bwd Packet Length Max',\n",
    "                                   'Bwd Pkt Len Min':'Bwd Packet Length Min',\n",
    "                                   'Bwd Pkt Len Mean':'Bwd Packet Length Mean',\n",
    "                                   'Bwd Pkt Len Std':'Bwd Packet Length Std',\n",
    "                                   'Flow Byts/s':'Flow Bytes/s',\n",
    "                                   'Flow Pkts/s':'Flow Packets/s',\n",
    "                                   'Fwd IAT Tot':'Fwd IAT Total',\n",
    "                                   'Bwd IAT Tot':'Bwd IAT Total',\n",
    "                                   'Fwd Header Len':'Fwd Header Length',\n",
    "                                   'Bwd Header Len':'Bwd Header Length',\n",
    "                                   'Fwd Pkts/s':'Fwd Packets/s',\n",
    "                                   'Bwd Pkts/s':'Bwd Packets/s',\n",
    "                                   'Pkt Len Min':'Min Packet Length',\n",
    "                                   'Pkt Len Max':'Max Packet Length',\n",
    "                                   'Pkt Len Mean':'Packet Length Mean',\n",
    "                                   'Pkt Len Std':'Packet Length Std',\n",
    "                                   'Pkt Len Var':'Packet Length Variance',\n",
    "                                   'FIN Flag Cnt':'FIN Flag Count',\n",
    "                                   'SYN Flag Cnt':'SYN Flag Count',\n",
    "                                   'RST Flag Cnt':'RST Flag Count',\n",
    "                                   'PSH Flag Cnt':'PSH Flag Count',\n",
    "                                   'ACK Flag Cnt':'ACK Flag Count',\n",
    "                                   'URG Flag Cnt':'URG Flag Count',\n",
    "                                   'ECE Flag Cnt':'ECE Flag Count',\n",
    "                                   'Pkt Size Avg':'Average Packet Size',\n",
    "                                   'Fwd Seg Size Avg':'Avg Fwd Segment Size',\n",
    "                                   'Bwd Seg Size Avg':'Avg Bwd Segment Size',\n",
    "                                   'Fwd Byts/b Avg':'Fwd Avg Bytes/Bulk',\n",
    "                                   'Fwd Pkts/b Avg':'Fwd Avg Packets/Bulk',\n",
    "                                   'Fwd Blk Rate Avg':'Fwd Avg Bulk Rate',\n",
    "                                   'Bwd Byts/b Avg':'Bwd Avg Bytes/Bulk',\n",
    "                                   'Bwd Pkts/b Avg':'Bwd Avg Packets/Bulk',\n",
    "                                   'Bwd Blk Rate Avg':'Bwd Avg Bulk Rate',\n",
    "                                   'Subflow Fwd Pkts':'Subflow Fwd Packets',\n",
    "                                   'Subflow Fwd Byts':'Subflow Fwd Bytes',\n",
    "                                   'Subflow Bwd Pkts':'Subflow Bwd Packets',\n",
    "                                   'Subflow Bwd Byts':'Subflow Bwd Bytes',\n",
    "                                   'Init Fwd Win Byts':'Init_Win_bytes_forward',\n",
    "                                   'Init Bwd Win Byts':'Init_Win_bytes_backward',\n",
    "                                   'Fwd Act Data Pkts':'act_data_pkt_fwd',\n",
    "                                   'Fwd Seg Size Min':'min_seg_size_forward'}, inplace = True)"
   ]
  },
  {
   "cell_type": "code",
   "execution_count": 42,
   "id": "ac9aa149",
   "metadata": {},
   "outputs": [
    {
     "name": "stdout",
     "output_type": "stream",
     "text": [
      "<class 'pandas.core.frame.DataFrame'>\n",
      "RangeIndex: 15101012 entries, 0 to 15101011\n",
      "Data columns (total 78 columns):\n",
      " #   Column                       Dtype  \n",
      "---  ------                       -----  \n",
      " 0   Destination Port             int64  \n",
      " 1   Flow Duration                int64  \n",
      " 2   Total Fwd Packets            int64  \n",
      " 3   Total Backward Packets       int64  \n",
      " 4   Total Length of Fwd Packets  int64  \n",
      " 5   Total Length of Bwd Packets  int64  \n",
      " 6   Fwd Packet Length Max        int64  \n",
      " 7   Fwd Packet Length Min        int64  \n",
      " 8   Fwd Packet Length Mean       float64\n",
      " 9   Fwd Packet Length Std        float64\n",
      " 10  Bwd Packet Length Max        int64  \n",
      " 11  Bwd Packet Length Min        int64  \n",
      " 12  Bwd Packet Length Mean       float64\n",
      " 13  Bwd Packet Length Std        float64\n",
      " 14  Flow Bytes/s                 float64\n",
      " 15  Flow Packets/s               float64\n",
      " 16  Flow IAT Mean                float64\n",
      " 17  Flow IAT Std                 float64\n",
      " 18  Flow IAT Max                 int64  \n",
      " 19  Flow IAT Min                 int64  \n",
      " 20  Fwd IAT Total                int64  \n",
      " 21  Fwd IAT Mean                 float64\n",
      " 22  Fwd IAT Std                  float64\n",
      " 23  Fwd IAT Max                  int64  \n",
      " 24  Fwd IAT Min                  int64  \n",
      " 25  Bwd IAT Total                int64  \n",
      " 26  Bwd IAT Mean                 float64\n",
      " 27  Bwd IAT Std                  float64\n",
      " 28  Bwd IAT Max                  int64  \n",
      " 29  Bwd IAT Min                  int64  \n",
      " 30  Fwd PSH Flags                int64  \n",
      " 31  Bwd PSH Flags                int64  \n",
      " 32  Fwd URG Flags                int64  \n",
      " 33  Bwd URG Flags                int64  \n",
      " 34  Fwd Header Length            int64  \n",
      " 35  Bwd Header Length            int64  \n",
      " 36  Fwd Packets/s                float64\n",
      " 37  Bwd Packets/s                float64\n",
      " 38  Min Packet Length            int64  \n",
      " 39  Max Packet Length            int64  \n",
      " 40  Packet Length Mean           float64\n",
      " 41  Packet Length Std            float64\n",
      " 42  Packet Length Variance       float64\n",
      " 43  FIN Flag Count               int64  \n",
      " 44  SYN Flag Count               int64  \n",
      " 45  RST Flag Count               int64  \n",
      " 46  PSH Flag Count               int64  \n",
      " 47  ACK Flag Count               int64  \n",
      " 48  URG Flag Count               int64  \n",
      " 49  CWE Flag Count               int64  \n",
      " 50  ECE Flag Count               int64  \n",
      " 51  Down/Up Ratio                int64  \n",
      " 52  Average Packet Size          float64\n",
      " 53  Avg Fwd Segment Size         float64\n",
      " 54  Avg Bwd Segment Size         float64\n",
      " 55  Fwd Avg Bytes/Bulk           int64  \n",
      " 56  Fwd Avg Packets/Bulk         int64  \n",
      " 57  Fwd Avg Bulk Rate            int64  \n",
      " 58  Bwd Avg Bytes/Bulk           int64  \n",
      " 59  Bwd Avg Packets/Bulk         int64  \n",
      " 60  Bwd Avg Bulk Rate            int64  \n",
      " 61  Subflow Fwd Packets          int64  \n",
      " 62  Subflow Fwd Bytes            int64  \n",
      " 63  Subflow Bwd Packets          int64  \n",
      " 64  Subflow Bwd Bytes            int64  \n",
      " 65  Init_Win_bytes_forward       int64  \n",
      " 66  Init_Win_bytes_backward      int64  \n",
      " 67  act_data_pkt_fwd             int64  \n",
      " 68  min_seg_size_forward         int64  \n",
      " 69  Active Mean                  float64\n",
      " 70  Active Std                   float64\n",
      " 71  Active Max                   int64  \n",
      " 72  Active Min                   int64  \n",
      " 73  Idle Mean                    float64\n",
      " 74  Idle Std                     float64\n",
      " 75  Idle Max                     int64  \n",
      " 76  Idle Min                     int64  \n",
      " 77  Label                        object \n",
      "dtypes: float64(24), int64(53), object(1)\n",
      "memory usage: 8.8+ GB\n"
     ]
    }
   ],
   "source": [
    "df_CA_CICIDS2018.info()"
   ]
  },
  {
   "cell_type": "code",
   "execution_count": 43,
   "id": "7473f70e",
   "metadata": {},
   "outputs": [],
   "source": [
    "train_CICIDS2018, test_CICIDS2018 = train_test_split(df_CA_CICIDS2018, test_size=0.3, random_state=100)"
   ]
  },
  {
   "cell_type": "code",
   "execution_count": 44,
   "id": "b672b103",
   "metadata": {},
   "outputs": [],
   "source": [
    "pd.DataFrame(train_CICIDS2018).to_csv(\"./train_CICIDS2018.csv\", index=False)\n",
    "pd.DataFrame(test_CICIDS2018).to_csv(\"./test_CICIDS2018.csv\", index=False)"
   ]
  },
  {
   "cell_type": "code",
   "execution_count": 2,
   "id": "b9e1698c",
   "metadata": {},
   "outputs": [
    {
     "ename": "FileNotFoundError",
     "evalue": "[Errno 2] No such file or directory: '/home/administrator/dataset/CIC-BoT-IoT.csv'",
     "output_type": "error",
     "traceback": [
      "\u001b[0;31m---------------------------------------------------------------------------\u001b[0m",
      "\u001b[0;31mFileNotFoundError\u001b[0m                         Traceback (most recent call last)",
      "Cell \u001b[0;32mIn[2], line 1\u001b[0m\n\u001b[0;32m----> 1\u001b[0m df_CICBotIoT \u001b[38;5;241m=\u001b[39m \u001b[43mpd\u001b[49m\u001b[38;5;241;43m.\u001b[39;49m\u001b[43mread_csv\u001b[49m\u001b[43m(\u001b[49m\u001b[38;5;124;43m'\u001b[39;49m\u001b[38;5;124;43m/home/administrator/dataset/CIC-BoT-IoT.csv\u001b[39;49m\u001b[38;5;124;43m'\u001b[39;49m\u001b[43m)\u001b[49m\n\u001b[1;32m      3\u001b[0m df_CICBotIoT\u001b[38;5;241m.\u001b[39minfo(verbose\u001b[38;5;241m=\u001b[39m\u001b[38;5;28;01mTrue\u001b[39;00m, show_counts\u001b[38;5;241m=\u001b[39m\u001b[38;5;28;01mTrue\u001b[39;00m)\n",
      "File \u001b[0;32m/usr/local/lib/python3.10/dist-packages/pandas/util/_decorators.py:211\u001b[0m, in \u001b[0;36mdeprecate_kwarg.<locals>._deprecate_kwarg.<locals>.wrapper\u001b[0;34m(*args, **kwargs)\u001b[0m\n\u001b[1;32m    209\u001b[0m     \u001b[38;5;28;01melse\u001b[39;00m:\n\u001b[1;32m    210\u001b[0m         kwargs[new_arg_name] \u001b[38;5;241m=\u001b[39m new_arg_value\n\u001b[0;32m--> 211\u001b[0m \u001b[38;5;28;01mreturn\u001b[39;00m \u001b[43mfunc\u001b[49m\u001b[43m(\u001b[49m\u001b[38;5;241;43m*\u001b[39;49m\u001b[43margs\u001b[49m\u001b[43m,\u001b[49m\u001b[43m \u001b[49m\u001b[38;5;241;43m*\u001b[39;49m\u001b[38;5;241;43m*\u001b[39;49m\u001b[43mkwargs\u001b[49m\u001b[43m)\u001b[49m\n",
      "File \u001b[0;32m/usr/local/lib/python3.10/dist-packages/pandas/util/_decorators.py:331\u001b[0m, in \u001b[0;36mdeprecate_nonkeyword_arguments.<locals>.decorate.<locals>.wrapper\u001b[0;34m(*args, **kwargs)\u001b[0m\n\u001b[1;32m    325\u001b[0m \u001b[38;5;28;01mif\u001b[39;00m \u001b[38;5;28mlen\u001b[39m(args) \u001b[38;5;241m>\u001b[39m num_allow_args:\n\u001b[1;32m    326\u001b[0m     warnings\u001b[38;5;241m.\u001b[39mwarn(\n\u001b[1;32m    327\u001b[0m         msg\u001b[38;5;241m.\u001b[39mformat(arguments\u001b[38;5;241m=\u001b[39m_format_argument_list(allow_args)),\n\u001b[1;32m    328\u001b[0m         \u001b[38;5;167;01mFutureWarning\u001b[39;00m,\n\u001b[1;32m    329\u001b[0m         stacklevel\u001b[38;5;241m=\u001b[39mfind_stack_level(),\n\u001b[1;32m    330\u001b[0m     )\n\u001b[0;32m--> 331\u001b[0m \u001b[38;5;28;01mreturn\u001b[39;00m \u001b[43mfunc\u001b[49m\u001b[43m(\u001b[49m\u001b[38;5;241;43m*\u001b[39;49m\u001b[43margs\u001b[49m\u001b[43m,\u001b[49m\u001b[43m \u001b[49m\u001b[38;5;241;43m*\u001b[39;49m\u001b[38;5;241;43m*\u001b[39;49m\u001b[43mkwargs\u001b[49m\u001b[43m)\u001b[49m\n",
      "File \u001b[0;32m/usr/local/lib/python3.10/dist-packages/pandas/io/parsers/readers.py:950\u001b[0m, in \u001b[0;36mread_csv\u001b[0;34m(filepath_or_buffer, sep, delimiter, header, names, index_col, usecols, squeeze, prefix, mangle_dupe_cols, dtype, engine, converters, true_values, false_values, skipinitialspace, skiprows, skipfooter, nrows, na_values, keep_default_na, na_filter, verbose, skip_blank_lines, parse_dates, infer_datetime_format, keep_date_col, date_parser, dayfirst, cache_dates, iterator, chunksize, compression, thousands, decimal, lineterminator, quotechar, quoting, doublequote, escapechar, comment, encoding, encoding_errors, dialect, error_bad_lines, warn_bad_lines, on_bad_lines, delim_whitespace, low_memory, memory_map, float_precision, storage_options)\u001b[0m\n\u001b[1;32m    935\u001b[0m kwds_defaults \u001b[38;5;241m=\u001b[39m _refine_defaults_read(\n\u001b[1;32m    936\u001b[0m     dialect,\n\u001b[1;32m    937\u001b[0m     delimiter,\n\u001b[0;32m   (...)\u001b[0m\n\u001b[1;32m    946\u001b[0m     defaults\u001b[38;5;241m=\u001b[39m{\u001b[38;5;124m\"\u001b[39m\u001b[38;5;124mdelimiter\u001b[39m\u001b[38;5;124m\"\u001b[39m: \u001b[38;5;124m\"\u001b[39m\u001b[38;5;124m,\u001b[39m\u001b[38;5;124m\"\u001b[39m},\n\u001b[1;32m    947\u001b[0m )\n\u001b[1;32m    948\u001b[0m kwds\u001b[38;5;241m.\u001b[39mupdate(kwds_defaults)\n\u001b[0;32m--> 950\u001b[0m \u001b[38;5;28;01mreturn\u001b[39;00m \u001b[43m_read\u001b[49m\u001b[43m(\u001b[49m\u001b[43mfilepath_or_buffer\u001b[49m\u001b[43m,\u001b[49m\u001b[43m \u001b[49m\u001b[43mkwds\u001b[49m\u001b[43m)\u001b[49m\n",
      "File \u001b[0;32m/usr/local/lib/python3.10/dist-packages/pandas/io/parsers/readers.py:605\u001b[0m, in \u001b[0;36m_read\u001b[0;34m(filepath_or_buffer, kwds)\u001b[0m\n\u001b[1;32m    602\u001b[0m _validate_names(kwds\u001b[38;5;241m.\u001b[39mget(\u001b[38;5;124m\"\u001b[39m\u001b[38;5;124mnames\u001b[39m\u001b[38;5;124m\"\u001b[39m, \u001b[38;5;28;01mNone\u001b[39;00m))\n\u001b[1;32m    604\u001b[0m \u001b[38;5;66;03m# Create the parser.\u001b[39;00m\n\u001b[0;32m--> 605\u001b[0m parser \u001b[38;5;241m=\u001b[39m \u001b[43mTextFileReader\u001b[49m\u001b[43m(\u001b[49m\u001b[43mfilepath_or_buffer\u001b[49m\u001b[43m,\u001b[49m\u001b[43m \u001b[49m\u001b[38;5;241;43m*\u001b[39;49m\u001b[38;5;241;43m*\u001b[39;49m\u001b[43mkwds\u001b[49m\u001b[43m)\u001b[49m\n\u001b[1;32m    607\u001b[0m \u001b[38;5;28;01mif\u001b[39;00m chunksize \u001b[38;5;129;01mor\u001b[39;00m iterator:\n\u001b[1;32m    608\u001b[0m     \u001b[38;5;28;01mreturn\u001b[39;00m parser\n",
      "File \u001b[0;32m/usr/local/lib/python3.10/dist-packages/pandas/io/parsers/readers.py:1442\u001b[0m, in \u001b[0;36mTextFileReader.__init__\u001b[0;34m(self, f, engine, **kwds)\u001b[0m\n\u001b[1;32m   1439\u001b[0m     \u001b[38;5;28mself\u001b[39m\u001b[38;5;241m.\u001b[39moptions[\u001b[38;5;124m\"\u001b[39m\u001b[38;5;124mhas_index_names\u001b[39m\u001b[38;5;124m\"\u001b[39m] \u001b[38;5;241m=\u001b[39m kwds[\u001b[38;5;124m\"\u001b[39m\u001b[38;5;124mhas_index_names\u001b[39m\u001b[38;5;124m\"\u001b[39m]\n\u001b[1;32m   1441\u001b[0m \u001b[38;5;28mself\u001b[39m\u001b[38;5;241m.\u001b[39mhandles: IOHandles \u001b[38;5;241m|\u001b[39m \u001b[38;5;28;01mNone\u001b[39;00m \u001b[38;5;241m=\u001b[39m \u001b[38;5;28;01mNone\u001b[39;00m\n\u001b[0;32m-> 1442\u001b[0m \u001b[38;5;28mself\u001b[39m\u001b[38;5;241m.\u001b[39m_engine \u001b[38;5;241m=\u001b[39m \u001b[38;5;28;43mself\u001b[39;49m\u001b[38;5;241;43m.\u001b[39;49m\u001b[43m_make_engine\u001b[49m\u001b[43m(\u001b[49m\u001b[43mf\u001b[49m\u001b[43m,\u001b[49m\u001b[43m \u001b[49m\u001b[38;5;28;43mself\u001b[39;49m\u001b[38;5;241;43m.\u001b[39;49m\u001b[43mengine\u001b[49m\u001b[43m)\u001b[49m\n",
      "File \u001b[0;32m/usr/local/lib/python3.10/dist-packages/pandas/io/parsers/readers.py:1735\u001b[0m, in \u001b[0;36mTextFileReader._make_engine\u001b[0;34m(self, f, engine)\u001b[0m\n\u001b[1;32m   1733\u001b[0m     \u001b[38;5;28;01mif\u001b[39;00m \u001b[38;5;124m\"\u001b[39m\u001b[38;5;124mb\u001b[39m\u001b[38;5;124m\"\u001b[39m \u001b[38;5;129;01mnot\u001b[39;00m \u001b[38;5;129;01min\u001b[39;00m mode:\n\u001b[1;32m   1734\u001b[0m         mode \u001b[38;5;241m+\u001b[39m\u001b[38;5;241m=\u001b[39m \u001b[38;5;124m\"\u001b[39m\u001b[38;5;124mb\u001b[39m\u001b[38;5;124m\"\u001b[39m\n\u001b[0;32m-> 1735\u001b[0m \u001b[38;5;28mself\u001b[39m\u001b[38;5;241m.\u001b[39mhandles \u001b[38;5;241m=\u001b[39m \u001b[43mget_handle\u001b[49m\u001b[43m(\u001b[49m\n\u001b[1;32m   1736\u001b[0m \u001b[43m    \u001b[49m\u001b[43mf\u001b[49m\u001b[43m,\u001b[49m\n\u001b[1;32m   1737\u001b[0m \u001b[43m    \u001b[49m\u001b[43mmode\u001b[49m\u001b[43m,\u001b[49m\n\u001b[1;32m   1738\u001b[0m \u001b[43m    \u001b[49m\u001b[43mencoding\u001b[49m\u001b[38;5;241;43m=\u001b[39;49m\u001b[38;5;28;43mself\u001b[39;49m\u001b[38;5;241;43m.\u001b[39;49m\u001b[43moptions\u001b[49m\u001b[38;5;241;43m.\u001b[39;49m\u001b[43mget\u001b[49m\u001b[43m(\u001b[49m\u001b[38;5;124;43m\"\u001b[39;49m\u001b[38;5;124;43mencoding\u001b[39;49m\u001b[38;5;124;43m\"\u001b[39;49m\u001b[43m,\u001b[49m\u001b[43m \u001b[49m\u001b[38;5;28;43;01mNone\u001b[39;49;00m\u001b[43m)\u001b[49m\u001b[43m,\u001b[49m\n\u001b[1;32m   1739\u001b[0m \u001b[43m    \u001b[49m\u001b[43mcompression\u001b[49m\u001b[38;5;241;43m=\u001b[39;49m\u001b[38;5;28;43mself\u001b[39;49m\u001b[38;5;241;43m.\u001b[39;49m\u001b[43moptions\u001b[49m\u001b[38;5;241;43m.\u001b[39;49m\u001b[43mget\u001b[49m\u001b[43m(\u001b[49m\u001b[38;5;124;43m\"\u001b[39;49m\u001b[38;5;124;43mcompression\u001b[39;49m\u001b[38;5;124;43m\"\u001b[39;49m\u001b[43m,\u001b[49m\u001b[43m \u001b[49m\u001b[38;5;28;43;01mNone\u001b[39;49;00m\u001b[43m)\u001b[49m\u001b[43m,\u001b[49m\n\u001b[1;32m   1740\u001b[0m \u001b[43m    \u001b[49m\u001b[43mmemory_map\u001b[49m\u001b[38;5;241;43m=\u001b[39;49m\u001b[38;5;28;43mself\u001b[39;49m\u001b[38;5;241;43m.\u001b[39;49m\u001b[43moptions\u001b[49m\u001b[38;5;241;43m.\u001b[39;49m\u001b[43mget\u001b[49m\u001b[43m(\u001b[49m\u001b[38;5;124;43m\"\u001b[39;49m\u001b[38;5;124;43mmemory_map\u001b[39;49m\u001b[38;5;124;43m\"\u001b[39;49m\u001b[43m,\u001b[49m\u001b[43m \u001b[49m\u001b[38;5;28;43;01mFalse\u001b[39;49;00m\u001b[43m)\u001b[49m\u001b[43m,\u001b[49m\n\u001b[1;32m   1741\u001b[0m \u001b[43m    \u001b[49m\u001b[43mis_text\u001b[49m\u001b[38;5;241;43m=\u001b[39;49m\u001b[43mis_text\u001b[49m\u001b[43m,\u001b[49m\n\u001b[1;32m   1742\u001b[0m \u001b[43m    \u001b[49m\u001b[43merrors\u001b[49m\u001b[38;5;241;43m=\u001b[39;49m\u001b[38;5;28;43mself\u001b[39;49m\u001b[38;5;241;43m.\u001b[39;49m\u001b[43moptions\u001b[49m\u001b[38;5;241;43m.\u001b[39;49m\u001b[43mget\u001b[49m\u001b[43m(\u001b[49m\u001b[38;5;124;43m\"\u001b[39;49m\u001b[38;5;124;43mencoding_errors\u001b[39;49m\u001b[38;5;124;43m\"\u001b[39;49m\u001b[43m,\u001b[49m\u001b[43m \u001b[49m\u001b[38;5;124;43m\"\u001b[39;49m\u001b[38;5;124;43mstrict\u001b[39;49m\u001b[38;5;124;43m\"\u001b[39;49m\u001b[43m)\u001b[49m\u001b[43m,\u001b[49m\n\u001b[1;32m   1743\u001b[0m \u001b[43m    \u001b[49m\u001b[43mstorage_options\u001b[49m\u001b[38;5;241;43m=\u001b[39;49m\u001b[38;5;28;43mself\u001b[39;49m\u001b[38;5;241;43m.\u001b[39;49m\u001b[43moptions\u001b[49m\u001b[38;5;241;43m.\u001b[39;49m\u001b[43mget\u001b[49m\u001b[43m(\u001b[49m\u001b[38;5;124;43m\"\u001b[39;49m\u001b[38;5;124;43mstorage_options\u001b[39;49m\u001b[38;5;124;43m\"\u001b[39;49m\u001b[43m,\u001b[49m\u001b[43m \u001b[49m\u001b[38;5;28;43;01mNone\u001b[39;49;00m\u001b[43m)\u001b[49m\u001b[43m,\u001b[49m\n\u001b[1;32m   1744\u001b[0m \u001b[43m\u001b[49m\u001b[43m)\u001b[49m\n\u001b[1;32m   1745\u001b[0m \u001b[38;5;28;01massert\u001b[39;00m \u001b[38;5;28mself\u001b[39m\u001b[38;5;241m.\u001b[39mhandles \u001b[38;5;129;01mis\u001b[39;00m \u001b[38;5;129;01mnot\u001b[39;00m \u001b[38;5;28;01mNone\u001b[39;00m\n\u001b[1;32m   1746\u001b[0m f \u001b[38;5;241m=\u001b[39m \u001b[38;5;28mself\u001b[39m\u001b[38;5;241m.\u001b[39mhandles\u001b[38;5;241m.\u001b[39mhandle\n",
      "File \u001b[0;32m/usr/local/lib/python3.10/dist-packages/pandas/io/common.py:856\u001b[0m, in \u001b[0;36mget_handle\u001b[0;34m(path_or_buf, mode, encoding, compression, memory_map, is_text, errors, storage_options)\u001b[0m\n\u001b[1;32m    851\u001b[0m \u001b[38;5;28;01melif\u001b[39;00m \u001b[38;5;28misinstance\u001b[39m(handle, \u001b[38;5;28mstr\u001b[39m):\n\u001b[1;32m    852\u001b[0m     \u001b[38;5;66;03m# Check whether the filename is to be opened in binary mode.\u001b[39;00m\n\u001b[1;32m    853\u001b[0m     \u001b[38;5;66;03m# Binary mode does not support 'encoding' and 'newline'.\u001b[39;00m\n\u001b[1;32m    854\u001b[0m     \u001b[38;5;28;01mif\u001b[39;00m ioargs\u001b[38;5;241m.\u001b[39mencoding \u001b[38;5;129;01mand\u001b[39;00m \u001b[38;5;124m\"\u001b[39m\u001b[38;5;124mb\u001b[39m\u001b[38;5;124m\"\u001b[39m \u001b[38;5;129;01mnot\u001b[39;00m \u001b[38;5;129;01min\u001b[39;00m ioargs\u001b[38;5;241m.\u001b[39mmode:\n\u001b[1;32m    855\u001b[0m         \u001b[38;5;66;03m# Encoding\u001b[39;00m\n\u001b[0;32m--> 856\u001b[0m         handle \u001b[38;5;241m=\u001b[39m \u001b[38;5;28;43mopen\u001b[39;49m\u001b[43m(\u001b[49m\n\u001b[1;32m    857\u001b[0m \u001b[43m            \u001b[49m\u001b[43mhandle\u001b[49m\u001b[43m,\u001b[49m\n\u001b[1;32m    858\u001b[0m \u001b[43m            \u001b[49m\u001b[43mioargs\u001b[49m\u001b[38;5;241;43m.\u001b[39;49m\u001b[43mmode\u001b[49m\u001b[43m,\u001b[49m\n\u001b[1;32m    859\u001b[0m \u001b[43m            \u001b[49m\u001b[43mencoding\u001b[49m\u001b[38;5;241;43m=\u001b[39;49m\u001b[43mioargs\u001b[49m\u001b[38;5;241;43m.\u001b[39;49m\u001b[43mencoding\u001b[49m\u001b[43m,\u001b[49m\n\u001b[1;32m    860\u001b[0m \u001b[43m            \u001b[49m\u001b[43merrors\u001b[49m\u001b[38;5;241;43m=\u001b[39;49m\u001b[43merrors\u001b[49m\u001b[43m,\u001b[49m\n\u001b[1;32m    861\u001b[0m \u001b[43m            \u001b[49m\u001b[43mnewline\u001b[49m\u001b[38;5;241;43m=\u001b[39;49m\u001b[38;5;124;43m\"\u001b[39;49m\u001b[38;5;124;43m\"\u001b[39;49m\u001b[43m,\u001b[49m\n\u001b[1;32m    862\u001b[0m \u001b[43m        \u001b[49m\u001b[43m)\u001b[49m\n\u001b[1;32m    863\u001b[0m     \u001b[38;5;28;01melse\u001b[39;00m:\n\u001b[1;32m    864\u001b[0m         \u001b[38;5;66;03m# Binary mode\u001b[39;00m\n\u001b[1;32m    865\u001b[0m         handle \u001b[38;5;241m=\u001b[39m \u001b[38;5;28mopen\u001b[39m(handle, ioargs\u001b[38;5;241m.\u001b[39mmode)\n",
      "\u001b[0;31mFileNotFoundError\u001b[0m: [Errno 2] No such file or directory: '/home/administrator/dataset/CIC-BoT-IoT.csv'"
     ]
    }
   ],
   "source": [
    "df_CICBotIoT = pd.read_csv('/home/administrator/dataset/CIC-BoT-IoT.csv')\n",
    "\n",
    "df_CICBotIoT.info(verbose=True, show_counts=True)"
   ]
  },
  {
   "cell_type": "code",
   "execution_count": 51,
   "id": "37217fc8",
   "metadata": {},
   "outputs": [
    {
     "name": "stdout",
     "output_type": "stream",
     "text": [
      "<class 'pandas.core.frame.DataFrame'>\n",
      "RangeIndex: 13428675 entries, 0 to 13428674\n",
      "Data columns (total 78 columns):\n",
      " #   Column             Dtype  \n",
      "---  ------             -----  \n",
      " 0   Dst Port           float64\n",
      " 1   Flow Duration      float64\n",
      " 2   Tot Fwd Pkts       float64\n",
      " 3   Tot Bwd Pkts       float64\n",
      " 4   TotLen Fwd Pkts    float64\n",
      " 5   TotLen Bwd Pkts    float64\n",
      " 6   Fwd Pkt Len Max    float64\n",
      " 7   Fwd Pkt Len Min    float64\n",
      " 8   Fwd Pkt Len Mean   float64\n",
      " 9   Fwd Pkt Len Std    float64\n",
      " 10  Bwd Pkt Len Max    float64\n",
      " 11  Bwd Pkt Len Min    float64\n",
      " 12  Bwd Pkt Len Mean   float64\n",
      " 13  Bwd Pkt Len Std    object \n",
      " 14  Flow Byts/s        float64\n",
      " 15  Flow Pkts/s        float64\n",
      " 16  Flow IAT Mean      float64\n",
      " 17  Flow IAT Std       float64\n",
      " 18  Flow IAT Max       float64\n",
      " 19  Flow IAT Min       float64\n",
      " 20  Fwd IAT Tot        float64\n",
      " 21  Fwd IAT Mean       float64\n",
      " 22  Fwd IAT Std        float64\n",
      " 23  Fwd IAT Max        float64\n",
      " 24  Fwd IAT Min        float64\n",
      " 25  Bwd IAT Tot        float64\n",
      " 26  Bwd IAT Mean       float64\n",
      " 27  Bwd IAT Std        float64\n",
      " 28  Bwd IAT Max        float64\n",
      " 29  Bwd IAT Min        float64\n",
      " 30  Fwd PSH Flags      float64\n",
      " 31  Bwd PSH Flags      float64\n",
      " 32  Fwd URG Flags      float64\n",
      " 33  Bwd URG Flags      float64\n",
      " 34  Fwd Header Len     float64\n",
      " 35  Bwd Header Len     float64\n",
      " 36  Fwd Pkts/s         float64\n",
      " 37  Bwd Pkts/s         float64\n",
      " 38  Pkt Len Min        float64\n",
      " 39  Pkt Len Max        float64\n",
      " 40  Pkt Len Mean       float64\n",
      " 41  Pkt Len Std        float64\n",
      " 42  Pkt Len Var        float64\n",
      " 43  FIN Flag Cnt       float64\n",
      " 44  SYN Flag Cnt       float64\n",
      " 45  RST Flag Cnt       float64\n",
      " 46  PSH Flag Cnt       float64\n",
      " 47  ACK Flag Cnt       float64\n",
      " 48  URG Flag Cnt       float64\n",
      " 49  CWE Flag Count     float64\n",
      " 50  ECE Flag Cnt       float64\n",
      " 51  Down/Up Ratio      float64\n",
      " 52  Pkt Size Avg       float64\n",
      " 53  Fwd Seg Size Avg   object \n",
      " 54  Bwd Seg Size Avg   float64\n",
      " 55  Fwd Byts/b Avg     float64\n",
      " 56  Fwd Pkts/b Avg     float64\n",
      " 57  Fwd Blk Rate Avg   float64\n",
      " 58  Bwd Byts/b Avg     float64\n",
      " 59  Bwd Pkts/b Avg     float64\n",
      " 60  Bwd Blk Rate Avg   float64\n",
      " 61  Subflow Fwd Pkts   float64\n",
      " 62  Subflow Fwd Byts   float64\n",
      " 63  Subflow Bwd Pkts   float64\n",
      " 64  Subflow Bwd Byts   float64\n",
      " 65  Init Fwd Win Byts  float64\n",
      " 66  Init Bwd Win Byts  float64\n",
      " 67  Fwd Act Data Pkts  float64\n",
      " 68  Fwd Seg Size Min   float64\n",
      " 69  Active Mean        float64\n",
      " 70  Active Std         float64\n",
      " 71  Active Max         float64\n",
      " 72  Active Min         float64\n",
      " 73  Idle Mean          float64\n",
      " 74  Idle Std           float64\n",
      " 75  Idle Max           float64\n",
      " 76  Idle Min           float64\n",
      " 77  Attack             object \n",
      "dtypes: float64(75), object(3)\n",
      "memory usage: 7.8+ GB\n"
     ]
    }
   ],
   "source": [
    "df_CICBotIoT = df_CICBotIoT.drop(df_CICBotIoT.columns[[0, 1, 2, 3, 5, 6, 83]], axis=1)\n",
    "\n",
    "df_CICBotIoT.info()"
   ]
  },
  {
   "cell_type": "code",
   "execution_count": 56,
   "id": "98a9e18b",
   "metadata": {},
   "outputs": [
    {
     "name": "stdout",
     "output_type": "stream",
     "text": [
      "Dst Port           78\n",
      "Flow Duration      78\n",
      "Tot Fwd Pkts       78\n",
      "Tot Bwd Pkts       78\n",
      "TotLen Fwd Pkts    78\n",
      "                   ..\n",
      "Idle Mean          80\n",
      "Idle Std           80\n",
      "Idle Max           80\n",
      "Idle Min           80\n",
      "Attack             80\n",
      "Length: 78, dtype: int64\n"
     ]
    }
   ],
   "source": [
    "pd.options.mode.use_inf_as_na = True\n",
    "print(df_CICBotIoT.loc[:, df_CICBotIoT.isnull().any()].isnull().sum())"
   ]
  },
  {
   "cell_type": "code",
   "execution_count": 57,
   "id": "275691bd",
   "metadata": {},
   "outputs": [],
   "source": [
    "df_CICBotIoT = df_CICBotIoT.dropna()"
   ]
  },
  {
   "cell_type": "code",
   "execution_count": 58,
   "id": "6c272597",
   "metadata": {},
   "outputs": [],
   "source": [
    "df_CICBotIoT['TotLen Fwd Pkts'] = df_CICBotIoT['TotLen Fwd Pkts'].astype(int)\n",
    "df_CICBotIoT['TotLen Bwd Pkts'] = df_CICBotIoT['TotLen Bwd Pkts'].astype(int)\n",
    "df_CICBotIoT['Fwd Pkt Len Max'] = df_CICBotIoT['Fwd Pkt Len Max'].astype(int)\n",
    "df_CICBotIoT['Fwd Pkt Len Min'] = df_CICBotIoT['Fwd Pkt Len Min'].astype(int)\n",
    "df_CICBotIoT['Bwd Pkt Len Max'] = df_CICBotIoT['Bwd Pkt Len Max'].astype(int)\n",
    "df_CICBotIoT['Bwd Pkt Len Min'] = df_CICBotIoT['Bwd Pkt Len Min'].astype(int)\n",
    "df_CICBotIoT['Flow IAT Max'] = df_CICBotIoT['Flow IAT Max'].astype(int)\n",
    "df_CICBotIoT['Flow IAT Min'] = df_CICBotIoT['Flow IAT Min'].astype(int)\n",
    "df_CICBotIoT['Fwd IAT Tot'] = df_CICBotIoT['Fwd IAT Tot'].astype(int)\n",
    "df_CICBotIoT['Fwd IAT Max'] = df_CICBotIoT['Fwd IAT Max'].astype(int)\n",
    "df_CICBotIoT['Fwd IAT Min'] = df_CICBotIoT['Fwd IAT Min'].astype(int)\n",
    "df_CICBotIoT['Bwd IAT Tot'] = df_CICBotIoT['Bwd IAT Tot'].astype(int)\n",
    "df_CICBotIoT['Bwd IAT Max'] = df_CICBotIoT['Bwd IAT Max'].astype(int)\n",
    "df_CICBotIoT['Bwd IAT Min'] = df_CICBotIoT['Bwd IAT Min'].astype(int)\n",
    "df_CICBotIoT['Pkt Len Min'] = df_CICBotIoT['Pkt Len Min'].astype(int)\n",
    "df_CICBotIoT['Pkt Len Max'] = df_CICBotIoT['Pkt Len Max'].astype(int)\n",
    "df_CICBotIoT['Down/Up Ratio'] = df_CICBotIoT['Down/Up Ratio'].astype(int)\n",
    "df_CICBotIoT['Active Max'] = df_CICBotIoT['Active Max'].astype(int)\n",
    "df_CICBotIoT['Active Min'] = df_CICBotIoT['Active Min'].astype(int)\n",
    "df_CICBotIoT['Idle Max'] = df_CICBotIoT['Idle Max'].astype(int)\n",
    "df_CICBotIoT['Idle Min'] = df_CICBotIoT['Idle Min'].astype(int)"
   ]
  },
  {
   "cell_type": "code",
   "execution_count": 60,
   "id": "ed3467a0",
   "metadata": {},
   "outputs": [
    {
     "name": "stdout",
     "output_type": "stream",
     "text": [
      "<class 'pandas.core.frame.DataFrame'>\n",
      "Int64Index: 13427562 entries, 0 to 13428674\n",
      "Data columns (total 78 columns):\n",
      " #   Column             Dtype  \n",
      "---  ------             -----  \n",
      " 0   Dst Port           float64\n",
      " 1   Flow Duration      float64\n",
      " 2   Tot Fwd Pkts       float64\n",
      " 3   Tot Bwd Pkts       float64\n",
      " 4   TotLen Fwd Pkts    int64  \n",
      " 5   TotLen Bwd Pkts    int64  \n",
      " 6   Fwd Pkt Len Max    int64  \n",
      " 7   Fwd Pkt Len Min    int64  \n",
      " 8   Fwd Pkt Len Mean   float64\n",
      " 9   Fwd Pkt Len Std    float64\n",
      " 10  Bwd Pkt Len Max    int64  \n",
      " 11  Bwd Pkt Len Min    int64  \n",
      " 12  Bwd Pkt Len Mean   float64\n",
      " 13  Bwd Pkt Len Std    object \n",
      " 14  Flow Byts/s        float64\n",
      " 15  Flow Pkts/s        float64\n",
      " 16  Flow IAT Mean      float64\n",
      " 17  Flow IAT Std       float64\n",
      " 18  Flow IAT Max       int64  \n",
      " 19  Flow IAT Min       int64  \n",
      " 20  Fwd IAT Tot        int64  \n",
      " 21  Fwd IAT Mean       float64\n",
      " 22  Fwd IAT Std        float64\n",
      " 23  Fwd IAT Max        int64  \n",
      " 24  Fwd IAT Min        int64  \n",
      " 25  Bwd IAT Tot        int64  \n",
      " 26  Bwd IAT Mean       float64\n",
      " 27  Bwd IAT Std        float64\n",
      " 28  Bwd IAT Max        int64  \n",
      " 29  Bwd IAT Min        int64  \n",
      " 30  Fwd PSH Flags      float64\n",
      " 31  Bwd PSH Flags      float64\n",
      " 32  Fwd URG Flags      float64\n",
      " 33  Bwd URG Flags      float64\n",
      " 34  Fwd Header Len     float64\n",
      " 35  Bwd Header Len     float64\n",
      " 36  Fwd Pkts/s         float64\n",
      " 37  Bwd Pkts/s         float64\n",
      " 38  Pkt Len Min        int64  \n",
      " 39  Pkt Len Max        int64  \n",
      " 40  Pkt Len Mean       float64\n",
      " 41  Pkt Len Std        float64\n",
      " 42  Pkt Len Var        float64\n",
      " 43  FIN Flag Cnt       float64\n",
      " 44  SYN Flag Cnt       float64\n",
      " 45  RST Flag Cnt       float64\n",
      " 46  PSH Flag Cnt       float64\n",
      " 47  ACK Flag Cnt       float64\n",
      " 48  URG Flag Cnt       float64\n",
      " 49  CWE Flag Count     float64\n",
      " 50  ECE Flag Cnt       float64\n",
      " 51  Down/Up Ratio      int64  \n",
      " 52  Pkt Size Avg       float64\n",
      " 53  Fwd Seg Size Avg   object \n",
      " 54  Bwd Seg Size Avg   float64\n",
      " 55  Fwd Byts/b Avg     float64\n",
      " 56  Fwd Pkts/b Avg     float64\n",
      " 57  Fwd Blk Rate Avg   float64\n",
      " 58  Bwd Byts/b Avg     float64\n",
      " 59  Bwd Pkts/b Avg     float64\n",
      " 60  Bwd Blk Rate Avg   float64\n",
      " 61  Subflow Fwd Pkts   float64\n",
      " 62  Subflow Fwd Byts   float64\n",
      " 63  Subflow Bwd Pkts   float64\n",
      " 64  Subflow Bwd Byts   float64\n",
      " 65  Init Fwd Win Byts  float64\n",
      " 66  Init Bwd Win Byts  float64\n",
      " 67  Fwd Act Data Pkts  float64\n",
      " 68  Fwd Seg Size Min   float64\n",
      " 69  Active Mean        float64\n",
      " 70  Active Std         float64\n",
      " 71  Active Max         int64  \n",
      " 72  Active Min         int64  \n",
      " 73  Idle Mean          float64\n",
      " 74  Idle Std           float64\n",
      " 75  Idle Max           int64  \n",
      " 76  Idle Min           int64  \n",
      " 77  Attack             object \n",
      "dtypes: float64(54), int64(21), object(3)\n",
      "memory usage: 7.9+ GB\n"
     ]
    }
   ],
   "source": [
    "df_CICBotIoT.info()"
   ]
  },
  {
   "cell_type": "code",
   "execution_count": 61,
   "id": "d959c2a7",
   "metadata": {},
   "outputs": [],
   "source": [
    "df_CICBotIoT.rename(columns = {'Dst Port':'Destination Port', \n",
    "                                   'Tot Fwd Pkts':'Total Fwd Packets',\n",
    "                                   'Tot Bwd Pkts':'Total Backward Packets',\n",
    "                                   'TotLen Fwd Pkts':'Total Length of Fwd Packets',\n",
    "                                   'TotLen Bwd Pkts':'Total Length of Bwd Packets',\n",
    "                                   'Fwd Pkt Len Max':'Fwd Packet Length Max',\n",
    "                                   'Fwd Pkt Len Min':'Fwd Packet Length Min',\n",
    "                                   'Fwd Pkt Len Mean':'Fwd Packet Length Mean',\n",
    "                                   'Fwd Pkt Len Std':'Fwd Packet Length Std',\n",
    "                                   'Bwd Pkt Len Max':'Bwd Packet Length Max',\n",
    "                                   'Bwd Pkt Len Min':'Bwd Packet Length Min',\n",
    "                                   'Bwd Pkt Len Mean':'Bwd Packet Length Mean',\n",
    "                                   'Bwd Pkt Len Std':'Bwd Packet Length Std',\n",
    "                                   'Flow Byts/s':'Flow Bytes/s',\n",
    "                                   'Flow Pkts/s':'Flow Packets/s',\n",
    "                                   'Fwd IAT Tot':'Fwd IAT Total',\n",
    "                                   'Bwd IAT Tot':'Bwd IAT Total',\n",
    "                                   'Fwd Header Len':'Fwd Header Length',\n",
    "                                   'Bwd Header Len':'Bwd Header Length',\n",
    "                                   'Fwd Pkts/s':'Fwd Packets/s',\n",
    "                                   'Bwd Pkts/s':'Bwd Packets/s',\n",
    "                                   'Pkt Len Min':'Min Packet Length',\n",
    "                                   'Pkt Len Max':'Max Packet Length',\n",
    "                                   'Pkt Len Mean':'Packet Length Mean',\n",
    "                                   'Pkt Len Std':'Packet Length Std',\n",
    "                                   'Pkt Len Var':'Packet Length Variance',\n",
    "                                   'FIN Flag Cnt':'FIN Flag Count',\n",
    "                                   'SYN Flag Cnt':'SYN Flag Count',\n",
    "                                   'RST Flag Cnt':'RST Flag Count',\n",
    "                                   'PSH Flag Cnt':'PSH Flag Count',\n",
    "                                   'ACK Flag Cnt':'ACK Flag Count',\n",
    "                                   'URG Flag Cnt':'URG Flag Count',\n",
    "                                   'ECE Flag Cnt':'ECE Flag Count',\n",
    "                                   'Pkt Size Avg':'Average Packet Size',\n",
    "                                   'Fwd Seg Size Avg':'Avg Fwd Segment Size',\n",
    "                                   'Bwd Seg Size Avg':'Avg Bwd Segment Size',\n",
    "                                   'Fwd Byts/b Avg':'Fwd Avg Bytes/Bulk',\n",
    "                                   'Fwd Pkts/b Avg':'Fwd Avg Packets/Bulk',\n",
    "                                   'Fwd Blk Rate Avg':'Fwd Avg Bulk Rate',\n",
    "                                   'Bwd Byts/b Avg':'Bwd Avg Bytes/Bulk',\n",
    "                                   'Bwd Pkts/b Avg':'Bwd Avg Packets/Bulk',\n",
    "                                   'Bwd Blk Rate Avg':'Bwd Avg Bulk Rate',\n",
    "                                   'Subflow Fwd Pkts':'Subflow Fwd Packets',\n",
    "                                   'Subflow Fwd Byts':'Subflow Fwd Bytes',\n",
    "                                   'Subflow Bwd Pkts':'Subflow Bwd Packets',\n",
    "                                   'Subflow Bwd Byts':'Subflow Bwd Bytes',\n",
    "                                   'Init Fwd Win Byts':'Init_Win_bytes_forward',\n",
    "                                   'Init Bwd Win Byts':'Init_Win_bytes_backward',\n",
    "                                   'Fwd Act Data Pkts':'act_data_pkt_fwd',\n",
    "                                   'Fwd Seg Size Min':'min_seg_size_forward',\n",
    "                                   'Attack':'Label'}, inplace = True)"
   ]
  },
  {
   "cell_type": "code",
   "execution_count": 62,
   "id": "d089ee60",
   "metadata": {},
   "outputs": [
    {
     "name": "stdout",
     "output_type": "stream",
     "text": [
      "<class 'pandas.core.frame.DataFrame'>\n",
      "Int64Index: 13427562 entries, 0 to 13428674\n",
      "Data columns (total 78 columns):\n",
      " #   Column                       Dtype  \n",
      "---  ------                       -----  \n",
      " 0   Destination Port             float64\n",
      " 1   Flow Duration                float64\n",
      " 2   Total Fwd Packets            float64\n",
      " 3   Total Backward Packets       float64\n",
      " 4   Total Length of Fwd Packets  int64  \n",
      " 5   Total Length of Bwd Packets  int64  \n",
      " 6   Fwd Packet Length Max        int64  \n",
      " 7   Fwd Packet Length Min        int64  \n",
      " 8   Fwd Packet Length Mean       float64\n",
      " 9   Fwd Packet Length Std        float64\n",
      " 10  Bwd Packet Length Max        int64  \n",
      " 11  Bwd Packet Length Min        int64  \n",
      " 12  Bwd Packet Length Mean       float64\n",
      " 13  Bwd Packet Length Std        object \n",
      " 14  Flow Bytes/s                 float64\n",
      " 15  Flow Packets/s               float64\n",
      " 16  Flow IAT Mean                float64\n",
      " 17  Flow IAT Std                 float64\n",
      " 18  Flow IAT Max                 int64  \n",
      " 19  Flow IAT Min                 int64  \n",
      " 20  Fwd IAT Total                int64  \n",
      " 21  Fwd IAT Mean                 float64\n",
      " 22  Fwd IAT Std                  float64\n",
      " 23  Fwd IAT Max                  int64  \n",
      " 24  Fwd IAT Min                  int64  \n",
      " 25  Bwd IAT Total                int64  \n",
      " 26  Bwd IAT Mean                 float64\n",
      " 27  Bwd IAT Std                  float64\n",
      " 28  Bwd IAT Max                  int64  \n",
      " 29  Bwd IAT Min                  int64  \n",
      " 30  Fwd PSH Flags                float64\n",
      " 31  Bwd PSH Flags                float64\n",
      " 32  Fwd URG Flags                float64\n",
      " 33  Bwd URG Flags                float64\n",
      " 34  Fwd Header Length            float64\n",
      " 35  Bwd Header Length            float64\n",
      " 36  Fwd Packets/s                float64\n",
      " 37  Bwd Packets/s                float64\n",
      " 38  Min Packet Length            int64  \n",
      " 39  Max Packet Length            int64  \n",
      " 40  Packet Length Mean           float64\n",
      " 41  Packet Length Std            float64\n",
      " 42  Packet Length Variance       float64\n",
      " 43  FIN Flag Count               float64\n",
      " 44  SYN Flag Count               float64\n",
      " 45  RST Flag Count               float64\n",
      " 46  PSH Flag Count               float64\n",
      " 47  ACK Flag Count               float64\n",
      " 48  URG Flag Count               float64\n",
      " 49  CWE Flag Count               float64\n",
      " 50  ECE Flag Count               float64\n",
      " 51  Down/Up Ratio                int64  \n",
      " 52  Average Packet Size          float64\n",
      " 53  Avg Fwd Segment Size         object \n",
      " 54  Avg Bwd Segment Size         float64\n",
      " 55  Fwd Avg Bytes/Bulk           float64\n",
      " 56  Fwd Avg Packets/Bulk         float64\n",
      " 57  Fwd Avg Bulk Rate            float64\n",
      " 58  Bwd Avg Bytes/Bulk           float64\n",
      " 59  Bwd Avg Packets/Bulk         float64\n",
      " 60  Bwd Avg Bulk Rate            float64\n",
      " 61  Subflow Fwd Packets          float64\n",
      " 62  Subflow Fwd Bytes            float64\n",
      " 63  Subflow Bwd Packets          float64\n",
      " 64  Subflow Bwd Bytes            float64\n",
      " 65  Init_Win_bytes_forward       float64\n",
      " 66  Init_Win_bytes_backward      float64\n",
      " 67  act_data_pkt_fwd             float64\n",
      " 68  min_seg_size_forward         float64\n",
      " 69  Active Mean                  float64\n",
      " 70  Active Std                   float64\n",
      " 71  Active Max                   int64  \n",
      " 72  Active Min                   int64  \n",
      " 73  Idle Mean                    float64\n",
      " 74  Idle Std                     float64\n",
      " 75  Idle Max                     int64  \n",
      " 76  Idle Min                     int64  \n",
      " 77  Label                        object \n",
      "dtypes: float64(54), int64(21), object(3)\n",
      "memory usage: 7.9+ GB\n"
     ]
    }
   ],
   "source": [
    "df_CICBotIoT.info()"
   ]
  },
  {
   "cell_type": "code",
   "execution_count": 63,
   "id": "605fc494",
   "metadata": {},
   "outputs": [
    {
     "data": {
      "text/plain": [
       "DDoS              4913860\n",
       "DoS               4909359\n",
       "Reconnaissance    3513408\n",
       "Benign              89234\n",
       "Theft                1701\n",
       "Name: Label, dtype: int64"
      ]
     },
     "execution_count": 63,
     "metadata": {},
     "output_type": "execute_result"
    }
   ],
   "source": [
    "df_CICBotIoT['Label'].value_counts()"
   ]
  },
  {
   "cell_type": "code",
   "execution_count": 65,
   "id": "07b22a96",
   "metadata": {},
   "outputs": [
    {
     "data": {
      "text/plain": [
       "DDoS    4913860\n",
       "Name: Label, dtype: int64"
      ]
     },
     "execution_count": 65,
     "metadata": {},
     "output_type": "execute_result"
    }
   ],
   "source": [
    "trf_DDoS_CICBotIoT = df_CICBotIoT.loc[df_CICBotIoT['Label'] == 'DDoS']\n",
    "trf_DDoS_CICBotIoT['Label'].value_counts()"
   ]
  },
  {
   "cell_type": "code",
   "execution_count": 68,
   "id": "a2b0bbfe",
   "metadata": {},
   "outputs": [
    {
     "data": {
      "text/plain": [
       "Reconnaissance    3513408\n",
       "Name: Label, dtype: int64"
      ]
     },
     "execution_count": 68,
     "metadata": {},
     "output_type": "execute_result"
    }
   ],
   "source": [
    "trf_PortScan_CICBotIoT = df_CICBotIoT.loc[df_CICBotIoT['Label'] == 'Reconnaissance']\n",
    "trf_PortScan_CICBotIoT['Label'].value_counts()"
   ]
  },
  {
   "cell_type": "code",
   "execution_count": 69,
   "id": "4ffb3013",
   "metadata": {},
   "outputs": [
    {
     "data": {
      "text/plain": [
       "Theft    1701\n",
       "Name: Label, dtype: int64"
      ]
     },
     "execution_count": 69,
     "metadata": {},
     "output_type": "execute_result"
    }
   ],
   "source": [
    "trf_Bot_CICBotIoT = df_CICBotIoT.loc[df_CICBotIoT['Label'] == 'Theft']\n",
    "trf_Bot_CICBotIoT['Label'].value_counts()"
   ]
  },
  {
   "cell_type": "code",
   "execution_count": 70,
   "id": "70067a32",
   "metadata": {},
   "outputs": [
    {
     "data": {
      "text/plain": [
       "Benign    89234\n",
       "Name: Label, dtype: int64"
      ]
     },
     "execution_count": 70,
     "metadata": {},
     "output_type": "execute_result"
    }
   ],
   "source": [
    "trf_BENIGN_CICBotIoT = df_CICBotIoT.loc[df_CICBotIoT['Label'] == 'Benign']\n",
    "trf_BENIGN_CICBotIoT['Label'].value_counts()"
   ]
  },
  {
   "cell_type": "code",
   "execution_count": 71,
   "id": "adef0fd9",
   "metadata": {},
   "outputs": [],
   "source": [
    "df_CICBotIoT_cmb = pd.concat([trf_DDoS_CICBotIoT, trf_BENIGN_CICBotIoT, trf_PortScan_CICBotIoT, trf_Bot_CICBotIoT])"
   ]
  },
  {
   "cell_type": "code",
   "execution_count": 72,
   "id": "3553ccd6",
   "metadata": {},
   "outputs": [],
   "source": [
    "df_CICBotIoT_cmb['Label'] = df_CICBotIoT_cmb['Label'].str.replace('Reconnaissance', 'PortScan')"
   ]
  },
  {
   "cell_type": "code",
   "execution_count": 73,
   "id": "34168b34",
   "metadata": {},
   "outputs": [],
   "source": [
    "df_CICBotIoT_cmb['Label'] = df_CICBotIoT_cmb['Label'].str.replace('Theft', 'Bot')"
   ]
  },
  {
   "cell_type": "code",
   "execution_count": 74,
   "id": "f628a0de",
   "metadata": {},
   "outputs": [],
   "source": [
    "df_CICBotIoT_cmb['Label'] = df_CICBotIoT_cmb['Label'].str.replace('Benign', 'BENIGN')"
   ]
  },
  {
   "cell_type": "code",
   "execution_count": 75,
   "id": "7f98b395",
   "metadata": {},
   "outputs": [],
   "source": [
    "train_CICBotIoT, test_CICBotIoT = train_test_split(df_CICBotIoT_cmb, test_size=0.3, random_state=100)"
   ]
  },
  {
   "cell_type": "code",
   "execution_count": 76,
   "id": "bc9f4f6b",
   "metadata": {},
   "outputs": [],
   "source": [
    "pd.DataFrame(train_CICBotIoT).to_csv(\"./train_CICBotIoT.csv\", index=False)\n",
    "pd.DataFrame(test_CICBotIoT).to_csv(\"./test_CICBotIoT.csv\", index=False)"
   ]
  },
  {
   "cell_type": "code",
   "execution_count": null,
   "id": "b27d0bb0",
   "metadata": {},
   "outputs": [],
   "source": []
  }
 ],
 "metadata": {
  "kernelspec": {
   "display_name": "Python 3 (ipykernel)",
   "language": "python",
   "name": "python3"
  },
  "language_info": {
   "codemirror_mode": {
    "name": "ipython",
    "version": 3
   },
   "file_extension": ".py",
   "mimetype": "text/x-python",
   "name": "python",
   "nbconvert_exporter": "python",
   "pygments_lexer": "ipython3",
   "version": "3.10.12"
  }
 },
 "nbformat": 4,
 "nbformat_minor": 5
}
